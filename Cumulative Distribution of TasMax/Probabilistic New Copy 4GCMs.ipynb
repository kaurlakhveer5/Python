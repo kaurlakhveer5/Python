{
 "cells": [
  {
   "cell_type": "markdown",
   "metadata": {},
   "source": [
    "# Calculating Extreme Heat days using daily projections from Cal-Adapt API"
   ]
  },
  {
   "cell_type": "markdown",
   "metadata": {},
   "source": [
    "#### Step 1. Download data"
   ]
  },
  {
   "cell_type": "code",
   "execution_count": 2,
   "metadata": {},
   "outputs": [],
   "source": [
    "# A 'magic' command to display plots inline\n",
    "%matplotlib inline\n",
    "\n",
    "# Import all python modules. You need to run this cell for the other cells to work.\n",
    "import requests \n",
    "import numpy as np\n",
    "import pandas as pd\n",
    "from datetime import datetime\n",
    "import itertools\n",
    "import matplotlib.pyplot as plt\n",
    "import seaborn as sns"
   ]
  },
  {
   "cell_type": "markdown",
   "metadata": {},
   "source": [
    "----\n",
    "## Step 1. Download data\n",
    "----"
   ]
  },
  {
   "cell_type": "markdown",
   "metadata": {},
   "source": [
    "### 1a. Defining your area of interest\n",
    "\n",
    "The `g` geometry parameter is used to download data for a point, line or polygon. Geometry can be written in various formats including WKT, GeoJSON, KML. The examples below use WKT (Well Known Text) format.\n",
    "\n",
    "#### To get data for a grid cell ..."
   ]
  },
  {
   "cell_type": "code",
   "execution_count": 3,
   "metadata": {},
   "outputs": [],
   "source": [
    "city = 'San Joaquin Valley'\n",
    "#point = 'POINT(-121.4687 38.5938)' # Sacramento\n",
    "point = 'POINT(-120.1106 36.3744)'  # San Joaquin Valley"
   ]
  },
  {
   "cell_type": "code",
   "execution_count": 4,
   "metadata": {},
   "outputs": [
    {
     "name": "stdout",
     "output_type": "stream",
     "text": [
      "ID is 43186\n"
     ]
    }
   ],
   "source": [
    "# Cal-Adapt API\n",
    "api = 'http://api.cal-adapt.org/api'\n",
    "\n",
    "# Name of boundary layer in API (Census Tracts)\n",
    "resource = 'locagrid'\n",
    "\n",
    "#Get ID\n",
    "url = api + '/' + resource + '/?intersects=' +  point\n",
    "\n",
    "response = requests.get(url)\n",
    "county = response.json()\n",
    "county = county['features'][0]\n",
    "id  = county['id']\n",
    "#location = 'Census Tract ID ' + str(county['properties']['tract'])\n",
    "print (\"ID is\", id)\n",
    "#print(\"location is\", location)"
   ]
  },
  {
   "cell_type": "markdown",
   "metadata": {},
   "source": [
    "### 1b. Download observed daily tasmax\n",
    "\n",
    "Daily data is stored as a multiband raster, e.g. observed daily timeseries (1950 -2013) has 23376 bands with each band corresponding to one day, starting from 1950-01-01. Units for the observed data are degrees Celsius and projected data are in Kelvin.\n",
    "\n",
    "The code in the next cell contains a bunch of functions to:\n",
    "    - fetch daily data given an ID\n",
    "    - return a new Pandas dataframe that contains all the data"
   ]
  },
  {
   "cell_type": "code",
   "execution_count": 5,
   "metadata": {},
   "outputs": [],
   "source": [
    "# Cal-Adapt API\n",
    "api = 'http://api.cal-adapt.org/api'\n",
    "# Request header\n",
    "headers = {'ContentType': 'json'}\n",
    "\n",
    "def process_daily_data(slug):\n",
    "    # Make request\n",
    "    url = api + '/series/' + slug + '/events/?ref=/api/' + resource + '/%s/&imperial=TRUE&stat=mean' % id\n",
    "    response = requests.get(url)\n",
    "    #print(response)\n",
    "    # Get data\n",
    "    if response.ok:\n",
    "        data = response.json()\n",
    "        df = pd.DataFrame(data)\n",
    "        df.set_index('index', inplace = True)\n",
    "        df.index = pd.to_datetime(df.index)\n",
    "    else:\n",
    "        print('Failed to download:')\n",
    "    return df"
   ]
  },
  {
   "cell_type": "code",
   "execution_count": 6,
   "metadata": {},
   "outputs": [],
   "source": [
    "def get_observed():\n",
    "    # Create slug\n",
    "    slug = 'tasmax_day_livneh'\n",
    "    df = process_daily_data(slug)\n",
    "    return df"
   ]
  },
  {
   "cell_type": "code",
   "execution_count": 7,
   "metadata": {
    "scrolled": true
   },
   "outputs": [
    {
     "data": {
      "text/html": [
       "<div>\n",
       "<style scoped>\n",
       "    .dataframe tbody tr th:only-of-type {\n",
       "        vertical-align: middle;\n",
       "    }\n",
       "\n",
       "    .dataframe tbody tr th {\n",
       "        vertical-align: top;\n",
       "    }\n",
       "\n",
       "    .dataframe thead th {\n",
       "        text-align: right;\n",
       "    }\n",
       "</style>\n",
       "<table border=\"1\" class=\"dataframe\">\n",
       "  <thead>\n",
       "    <tr style=\"text-align: right;\">\n",
       "      <th></th>\n",
       "      <th>name</th>\n",
       "      <th>data</th>\n",
       "    </tr>\n",
       "    <tr>\n",
       "      <th>index</th>\n",
       "      <th></th>\n",
       "      <th></th>\n",
       "    </tr>\n",
       "  </thead>\n",
       "  <tbody>\n",
       "    <tr>\n",
       "      <th>1950-01-01 00:00:00+00:00</th>\n",
       "      <td>tasmax_day_livneh</td>\n",
       "      <td>46.872498</td>\n",
       "    </tr>\n",
       "    <tr>\n",
       "      <th>1950-01-02 00:00:00+00:00</th>\n",
       "      <td>tasmax_day_livneh</td>\n",
       "      <td>46.359501</td>\n",
       "    </tr>\n",
       "    <tr>\n",
       "      <th>1950-01-03 00:00:00+00:00</th>\n",
       "      <td>tasmax_day_livneh</td>\n",
       "      <td>42.215000</td>\n",
       "    </tr>\n",
       "    <tr>\n",
       "      <th>1950-01-04 00:00:00+00:00</th>\n",
       "      <td>tasmax_day_livneh</td>\n",
       "      <td>42.781998</td>\n",
       "    </tr>\n",
       "    <tr>\n",
       "      <th>1950-01-05 00:00:00+00:00</th>\n",
       "      <td>tasmax_day_livneh</td>\n",
       "      <td>48.222504</td>\n",
       "    </tr>\n",
       "    <tr>\n",
       "      <th>1950-01-06 00:00:00+00:00</th>\n",
       "      <td>tasmax_day_livneh</td>\n",
       "      <td>53.181499</td>\n",
       "    </tr>\n",
       "    <tr>\n",
       "      <th>1950-01-07 00:00:00+00:00</th>\n",
       "      <td>tasmax_day_livneh</td>\n",
       "      <td>54.468498</td>\n",
       "    </tr>\n",
       "    <tr>\n",
       "      <th>1950-01-08 00:00:00+00:00</th>\n",
       "      <td>tasmax_day_livneh</td>\n",
       "      <td>53.392998</td>\n",
       "    </tr>\n",
       "    <tr>\n",
       "      <th>1950-01-09 00:00:00+00:00</th>\n",
       "      <td>tasmax_day_livneh</td>\n",
       "      <td>53.415497</td>\n",
       "    </tr>\n",
       "    <tr>\n",
       "      <th>1950-01-10 00:00:00+00:00</th>\n",
       "      <td>tasmax_day_livneh</td>\n",
       "      <td>56.574501</td>\n",
       "    </tr>\n",
       "    <tr>\n",
       "      <th>1950-01-11 00:00:00+00:00</th>\n",
       "      <td>tasmax_day_livneh</td>\n",
       "      <td>54.707001</td>\n",
       "    </tr>\n",
       "    <tr>\n",
       "      <th>1950-01-12 00:00:00+00:00</th>\n",
       "      <td>tasmax_day_livneh</td>\n",
       "      <td>46.723999</td>\n",
       "    </tr>\n",
       "    <tr>\n",
       "      <th>1950-01-13 00:00:00+00:00</th>\n",
       "      <td>tasmax_day_livneh</td>\n",
       "      <td>48.978500</td>\n",
       "    </tr>\n",
       "    <tr>\n",
       "      <th>1950-01-14 00:00:00+00:00</th>\n",
       "      <td>tasmax_day_livneh</td>\n",
       "      <td>50.292496</td>\n",
       "    </tr>\n",
       "    <tr>\n",
       "      <th>1950-01-15 00:00:00+00:00</th>\n",
       "      <td>tasmax_day_livneh</td>\n",
       "      <td>50.494999</td>\n",
       "    </tr>\n",
       "    <tr>\n",
       "      <th>1950-01-16 00:00:00+00:00</th>\n",
       "      <td>tasmax_day_livneh</td>\n",
       "      <td>52.290497</td>\n",
       "    </tr>\n",
       "    <tr>\n",
       "      <th>1950-01-17 00:00:00+00:00</th>\n",
       "      <td>tasmax_day_livneh</td>\n",
       "      <td>66.992004</td>\n",
       "    </tr>\n",
       "    <tr>\n",
       "      <th>1950-01-18 00:00:00+00:00</th>\n",
       "      <td>tasmax_day_livneh</td>\n",
       "      <td>68.184502</td>\n",
       "    </tr>\n",
       "    <tr>\n",
       "      <th>1950-01-19 00:00:00+00:00</th>\n",
       "      <td>tasmax_day_livneh</td>\n",
       "      <td>69.948502</td>\n",
       "    </tr>\n",
       "    <tr>\n",
       "      <th>1950-01-20 00:00:00+00:00</th>\n",
       "      <td>tasmax_day_livneh</td>\n",
       "      <td>63.904999</td>\n",
       "    </tr>\n",
       "    <tr>\n",
       "      <th>1950-01-21 00:00:00+00:00</th>\n",
       "      <td>tasmax_day_livneh</td>\n",
       "      <td>70.938507</td>\n",
       "    </tr>\n",
       "    <tr>\n",
       "      <th>1950-01-22 00:00:00+00:00</th>\n",
       "      <td>tasmax_day_livneh</td>\n",
       "      <td>68.162003</td>\n",
       "    </tr>\n",
       "    <tr>\n",
       "      <th>1950-01-23 00:00:00+00:00</th>\n",
       "      <td>tasmax_day_livneh</td>\n",
       "      <td>66.636505</td>\n",
       "    </tr>\n",
       "    <tr>\n",
       "      <th>1950-01-24 00:00:00+00:00</th>\n",
       "      <td>tasmax_day_livneh</td>\n",
       "      <td>55.971500</td>\n",
       "    </tr>\n",
       "    <tr>\n",
       "      <th>1950-01-25 00:00:00+00:00</th>\n",
       "      <td>tasmax_day_livneh</td>\n",
       "      <td>48.177498</td>\n",
       "    </tr>\n",
       "    <tr>\n",
       "      <th>1950-01-26 00:00:00+00:00</th>\n",
       "      <td>tasmax_day_livneh</td>\n",
       "      <td>52.110500</td>\n",
       "    </tr>\n",
       "    <tr>\n",
       "      <th>1950-01-27 00:00:00+00:00</th>\n",
       "      <td>tasmax_day_livneh</td>\n",
       "      <td>54.063499</td>\n",
       "    </tr>\n",
       "    <tr>\n",
       "      <th>1950-01-28 00:00:00+00:00</th>\n",
       "      <td>tasmax_day_livneh</td>\n",
       "      <td>51.961998</td>\n",
       "    </tr>\n",
       "    <tr>\n",
       "      <th>1950-01-29 00:00:00+00:00</th>\n",
       "      <td>tasmax_day_livneh</td>\n",
       "      <td>51.399498</td>\n",
       "    </tr>\n",
       "    <tr>\n",
       "      <th>1950-01-30 00:00:00+00:00</th>\n",
       "      <td>tasmax_day_livneh</td>\n",
       "      <td>53.681000</td>\n",
       "    </tr>\n",
       "    <tr>\n",
       "      <th>...</th>\n",
       "      <td>...</td>\n",
       "      <td>...</td>\n",
       "    </tr>\n",
       "    <tr>\n",
       "      <th>2013-12-02 00:00:00+00:00</th>\n",
       "      <td>tasmax_day_livneh</td>\n",
       "      <td>69.804504</td>\n",
       "    </tr>\n",
       "    <tr>\n",
       "      <th>2013-12-03 00:00:00+00:00</th>\n",
       "      <td>tasmax_day_livneh</td>\n",
       "      <td>63.342499</td>\n",
       "    </tr>\n",
       "    <tr>\n",
       "      <th>2013-12-04 00:00:00+00:00</th>\n",
       "      <td>tasmax_day_livneh</td>\n",
       "      <td>53.752998</td>\n",
       "    </tr>\n",
       "    <tr>\n",
       "      <th>2013-12-05 00:00:00+00:00</th>\n",
       "      <td>tasmax_day_livneh</td>\n",
       "      <td>51.278000</td>\n",
       "    </tr>\n",
       "    <tr>\n",
       "      <th>2013-12-06 00:00:00+00:00</th>\n",
       "      <td>tasmax_day_livneh</td>\n",
       "      <td>51.754997</td>\n",
       "    </tr>\n",
       "    <tr>\n",
       "      <th>2013-12-07 00:00:00+00:00</th>\n",
       "      <td>tasmax_day_livneh</td>\n",
       "      <td>51.309502</td>\n",
       "    </tr>\n",
       "    <tr>\n",
       "      <th>2013-12-08 00:00:00+00:00</th>\n",
       "      <td>tasmax_day_livneh</td>\n",
       "      <td>46.903999</td>\n",
       "    </tr>\n",
       "    <tr>\n",
       "      <th>2013-12-09 00:00:00+00:00</th>\n",
       "      <td>tasmax_day_livneh</td>\n",
       "      <td>50.544498</td>\n",
       "    </tr>\n",
       "    <tr>\n",
       "      <th>2013-12-10 00:00:00+00:00</th>\n",
       "      <td>tasmax_day_livneh</td>\n",
       "      <td>52.637001</td>\n",
       "    </tr>\n",
       "    <tr>\n",
       "      <th>2013-12-11 00:00:00+00:00</th>\n",
       "      <td>tasmax_day_livneh</td>\n",
       "      <td>56.821999</td>\n",
       "    </tr>\n",
       "    <tr>\n",
       "      <th>2013-12-12 00:00:00+00:00</th>\n",
       "      <td>tasmax_day_livneh</td>\n",
       "      <td>60.489502</td>\n",
       "    </tr>\n",
       "    <tr>\n",
       "      <th>2013-12-13 00:00:00+00:00</th>\n",
       "      <td>tasmax_day_livneh</td>\n",
       "      <td>60.543499</td>\n",
       "    </tr>\n",
       "    <tr>\n",
       "      <th>2013-12-14 00:00:00+00:00</th>\n",
       "      <td>tasmax_day_livneh</td>\n",
       "      <td>63.122002</td>\n",
       "    </tr>\n",
       "    <tr>\n",
       "      <th>2013-12-15 00:00:00+00:00</th>\n",
       "      <td>tasmax_day_livneh</td>\n",
       "      <td>63.814999</td>\n",
       "    </tr>\n",
       "    <tr>\n",
       "      <th>2013-12-16 00:00:00+00:00</th>\n",
       "      <td>tasmax_day_livneh</td>\n",
       "      <td>64.890503</td>\n",
       "    </tr>\n",
       "    <tr>\n",
       "      <th>2013-12-17 00:00:00+00:00</th>\n",
       "      <td>tasmax_day_livneh</td>\n",
       "      <td>65.128998</td>\n",
       "    </tr>\n",
       "    <tr>\n",
       "      <th>2013-12-18 00:00:00+00:00</th>\n",
       "      <td>tasmax_day_livneh</td>\n",
       "      <td>65.218994</td>\n",
       "    </tr>\n",
       "    <tr>\n",
       "      <th>2013-12-19 00:00:00+00:00</th>\n",
       "      <td>tasmax_day_livneh</td>\n",
       "      <td>56.844498</td>\n",
       "    </tr>\n",
       "    <tr>\n",
       "      <th>2013-12-20 00:00:00+00:00</th>\n",
       "      <td>tasmax_day_livneh</td>\n",
       "      <td>56.875999</td>\n",
       "    </tr>\n",
       "    <tr>\n",
       "      <th>2013-12-21 00:00:00+00:00</th>\n",
       "      <td>tasmax_day_livneh</td>\n",
       "      <td>60.147499</td>\n",
       "    </tr>\n",
       "    <tr>\n",
       "      <th>2013-12-22 00:00:00+00:00</th>\n",
       "      <td>tasmax_day_livneh</td>\n",
       "      <td>62.433498</td>\n",
       "    </tr>\n",
       "    <tr>\n",
       "      <th>2013-12-23 00:00:00+00:00</th>\n",
       "      <td>tasmax_day_livneh</td>\n",
       "      <td>65.979500</td>\n",
       "    </tr>\n",
       "    <tr>\n",
       "      <th>2013-12-24 00:00:00+00:00</th>\n",
       "      <td>tasmax_day_livneh</td>\n",
       "      <td>67.023499</td>\n",
       "    </tr>\n",
       "    <tr>\n",
       "      <th>2013-12-25 00:00:00+00:00</th>\n",
       "      <td>tasmax_day_livneh</td>\n",
       "      <td>67.738998</td>\n",
       "    </tr>\n",
       "    <tr>\n",
       "      <th>2013-12-26 00:00:00+00:00</th>\n",
       "      <td>tasmax_day_livneh</td>\n",
       "      <td>67.388000</td>\n",
       "    </tr>\n",
       "    <tr>\n",
       "      <th>2013-12-27 00:00:00+00:00</th>\n",
       "      <td>tasmax_day_livneh</td>\n",
       "      <td>67.275497</td>\n",
       "    </tr>\n",
       "    <tr>\n",
       "      <th>2013-12-28 00:00:00+00:00</th>\n",
       "      <td>tasmax_day_livneh</td>\n",
       "      <td>63.639496</td>\n",
       "    </tr>\n",
       "    <tr>\n",
       "      <th>2013-12-29 00:00:00+00:00</th>\n",
       "      <td>tasmax_day_livneh</td>\n",
       "      <td>64.584503</td>\n",
       "    </tr>\n",
       "    <tr>\n",
       "      <th>2013-12-30 00:00:00+00:00</th>\n",
       "      <td>tasmax_day_livneh</td>\n",
       "      <td>66.807495</td>\n",
       "    </tr>\n",
       "    <tr>\n",
       "      <th>2013-12-31 00:00:00+00:00</th>\n",
       "      <td>tasmax_day_livneh</td>\n",
       "      <td>66.074005</td>\n",
       "    </tr>\n",
       "  </tbody>\n",
       "</table>\n",
       "<p>23376 rows × 2 columns</p>\n",
       "</div>"
      ],
      "text/plain": [
       "                                        name       data\n",
       "index                                                  \n",
       "1950-01-01 00:00:00+00:00  tasmax_day_livneh  46.872498\n",
       "1950-01-02 00:00:00+00:00  tasmax_day_livneh  46.359501\n",
       "1950-01-03 00:00:00+00:00  tasmax_day_livneh  42.215000\n",
       "1950-01-04 00:00:00+00:00  tasmax_day_livneh  42.781998\n",
       "1950-01-05 00:00:00+00:00  tasmax_day_livneh  48.222504\n",
       "1950-01-06 00:00:00+00:00  tasmax_day_livneh  53.181499\n",
       "1950-01-07 00:00:00+00:00  tasmax_day_livneh  54.468498\n",
       "1950-01-08 00:00:00+00:00  tasmax_day_livneh  53.392998\n",
       "1950-01-09 00:00:00+00:00  tasmax_day_livneh  53.415497\n",
       "1950-01-10 00:00:00+00:00  tasmax_day_livneh  56.574501\n",
       "1950-01-11 00:00:00+00:00  tasmax_day_livneh  54.707001\n",
       "1950-01-12 00:00:00+00:00  tasmax_day_livneh  46.723999\n",
       "1950-01-13 00:00:00+00:00  tasmax_day_livneh  48.978500\n",
       "1950-01-14 00:00:00+00:00  tasmax_day_livneh  50.292496\n",
       "1950-01-15 00:00:00+00:00  tasmax_day_livneh  50.494999\n",
       "1950-01-16 00:00:00+00:00  tasmax_day_livneh  52.290497\n",
       "1950-01-17 00:00:00+00:00  tasmax_day_livneh  66.992004\n",
       "1950-01-18 00:00:00+00:00  tasmax_day_livneh  68.184502\n",
       "1950-01-19 00:00:00+00:00  tasmax_day_livneh  69.948502\n",
       "1950-01-20 00:00:00+00:00  tasmax_day_livneh  63.904999\n",
       "1950-01-21 00:00:00+00:00  tasmax_day_livneh  70.938507\n",
       "1950-01-22 00:00:00+00:00  tasmax_day_livneh  68.162003\n",
       "1950-01-23 00:00:00+00:00  tasmax_day_livneh  66.636505\n",
       "1950-01-24 00:00:00+00:00  tasmax_day_livneh  55.971500\n",
       "1950-01-25 00:00:00+00:00  tasmax_day_livneh  48.177498\n",
       "1950-01-26 00:00:00+00:00  tasmax_day_livneh  52.110500\n",
       "1950-01-27 00:00:00+00:00  tasmax_day_livneh  54.063499\n",
       "1950-01-28 00:00:00+00:00  tasmax_day_livneh  51.961998\n",
       "1950-01-29 00:00:00+00:00  tasmax_day_livneh  51.399498\n",
       "1950-01-30 00:00:00+00:00  tasmax_day_livneh  53.681000\n",
       "...                                      ...        ...\n",
       "2013-12-02 00:00:00+00:00  tasmax_day_livneh  69.804504\n",
       "2013-12-03 00:00:00+00:00  tasmax_day_livneh  63.342499\n",
       "2013-12-04 00:00:00+00:00  tasmax_day_livneh  53.752998\n",
       "2013-12-05 00:00:00+00:00  tasmax_day_livneh  51.278000\n",
       "2013-12-06 00:00:00+00:00  tasmax_day_livneh  51.754997\n",
       "2013-12-07 00:00:00+00:00  tasmax_day_livneh  51.309502\n",
       "2013-12-08 00:00:00+00:00  tasmax_day_livneh  46.903999\n",
       "2013-12-09 00:00:00+00:00  tasmax_day_livneh  50.544498\n",
       "2013-12-10 00:00:00+00:00  tasmax_day_livneh  52.637001\n",
       "2013-12-11 00:00:00+00:00  tasmax_day_livneh  56.821999\n",
       "2013-12-12 00:00:00+00:00  tasmax_day_livneh  60.489502\n",
       "2013-12-13 00:00:00+00:00  tasmax_day_livneh  60.543499\n",
       "2013-12-14 00:00:00+00:00  tasmax_day_livneh  63.122002\n",
       "2013-12-15 00:00:00+00:00  tasmax_day_livneh  63.814999\n",
       "2013-12-16 00:00:00+00:00  tasmax_day_livneh  64.890503\n",
       "2013-12-17 00:00:00+00:00  tasmax_day_livneh  65.128998\n",
       "2013-12-18 00:00:00+00:00  tasmax_day_livneh  65.218994\n",
       "2013-12-19 00:00:00+00:00  tasmax_day_livneh  56.844498\n",
       "2013-12-20 00:00:00+00:00  tasmax_day_livneh  56.875999\n",
       "2013-12-21 00:00:00+00:00  tasmax_day_livneh  60.147499\n",
       "2013-12-22 00:00:00+00:00  tasmax_day_livneh  62.433498\n",
       "2013-12-23 00:00:00+00:00  tasmax_day_livneh  65.979500\n",
       "2013-12-24 00:00:00+00:00  tasmax_day_livneh  67.023499\n",
       "2013-12-25 00:00:00+00:00  tasmax_day_livneh  67.738998\n",
       "2013-12-26 00:00:00+00:00  tasmax_day_livneh  67.388000\n",
       "2013-12-27 00:00:00+00:00  tasmax_day_livneh  67.275497\n",
       "2013-12-28 00:00:00+00:00  tasmax_day_livneh  63.639496\n",
       "2013-12-29 00:00:00+00:00  tasmax_day_livneh  64.584503\n",
       "2013-12-30 00:00:00+00:00  tasmax_day_livneh  66.807495\n",
       "2013-12-31 00:00:00+00:00  tasmax_day_livneh  66.074005\n",
       "\n",
       "[23376 rows x 2 columns]"
      ]
     },
     "execution_count": 7,
     "metadata": {},
     "output_type": "execute_result"
    }
   ],
   "source": [
    "observedDF = get_observed()\n",
    "observedDF"
   ]
  },
  {
   "cell_type": "markdown",
   "metadata": {},
   "source": [
    "### 1c. Download projected daily tasmax\n",
    "\n",
    "The projected daily timeseries are form 2006 - 2099/2100 and units are in degrees Kelvin. You can easily modify the code to add/subtract models, scenarios, climate variables"
   ]
  },
  {
   "cell_type": "code",
   "execution_count": 8,
   "metadata": {},
   "outputs": [],
   "source": [
    "def get_projections():\n",
    "    # Create an empty list to hold dataframes\n",
    "    df_list = []\n",
    "\n",
    "    # Make a combined list of GCMs, scenarios, climate variables for looping\n",
    "    climvar = ['tasmax']\n",
    "    period = ['day']\n",
    "    models = ['CanESM2', 'CNRM-CM5', 'HadGEM2-ES', 'MIROC5', 'ACCESS1-0', 'CCSM4', 'CESM1-BGC', 'CMCC-CMS', 'GFDL-CM3', 'HadGEM2-CC']\n",
    "    #models = ['CanESM2', 'CNRM-CM5', 'HadGEM2-ES', 'MIROC5']\n",
    "    #scenarios = ['rcp45', 'rcp85', 'historical]\n",
    "    scenarios = ['historical', 'rcp85', ]\n",
    "    zipped = itertools.product(climvar, period, models, scenarios)\n",
    "    \n",
    "    # Loop through zipped\n",
    "    for item in zipped:\n",
    "        # Create slug\n",
    "        slug = '_'.join(item)\n",
    "        df = process_daily_data(slug)\n",
    "        df_list.append(df)\n",
    "            \n",
    "    # Combine all the dataframes into one and return\n",
    "    return pd.concat(df_list)"
   ]
  },
  {
   "cell_type": "code",
   "execution_count": 9,
   "metadata": {
    "scrolled": true
   },
   "outputs": [
    {
     "data": {
      "text/html": [
       "<div>\n",
       "<style scoped>\n",
       "    .dataframe tbody tr th:only-of-type {\n",
       "        vertical-align: middle;\n",
       "    }\n",
       "\n",
       "    .dataframe tbody tr th {\n",
       "        vertical-align: top;\n",
       "    }\n",
       "\n",
       "    .dataframe thead th {\n",
       "        text-align: right;\n",
       "    }\n",
       "</style>\n",
       "<table border=\"1\" class=\"dataframe\">\n",
       "  <thead>\n",
       "    <tr style=\"text-align: right;\">\n",
       "      <th></th>\n",
       "      <th>name</th>\n",
       "      <th>data</th>\n",
       "    </tr>\n",
       "    <tr>\n",
       "      <th>index</th>\n",
       "      <th></th>\n",
       "      <th></th>\n",
       "    </tr>\n",
       "  </thead>\n",
       "  <tbody>\n",
       "    <tr>\n",
       "      <th>1950-01-01 00:00:00+00:00</th>\n",
       "      <td>tasmax_day_CanESM2_historical</td>\n",
       "      <td>62.818573</td>\n",
       "    </tr>\n",
       "    <tr>\n",
       "      <th>1950-01-02 00:00:00+00:00</th>\n",
       "      <td>tasmax_day_CanESM2_historical</td>\n",
       "      <td>62.514801</td>\n",
       "    </tr>\n",
       "    <tr>\n",
       "      <th>1950-01-03 00:00:00+00:00</th>\n",
       "      <td>tasmax_day_CanESM2_historical</td>\n",
       "      <td>59.902527</td>\n",
       "    </tr>\n",
       "    <tr>\n",
       "      <th>1950-01-04 00:00:00+00:00</th>\n",
       "      <td>tasmax_day_CanESM2_historical</td>\n",
       "      <td>48.215927</td>\n",
       "    </tr>\n",
       "    <tr>\n",
       "      <th>1950-01-05 00:00:00+00:00</th>\n",
       "      <td>tasmax_day_CanESM2_historical</td>\n",
       "      <td>47.420357</td>\n",
       "    </tr>\n",
       "    <tr>\n",
       "      <th>1950-01-06 00:00:00+00:00</th>\n",
       "      <td>tasmax_day_CanESM2_historical</td>\n",
       "      <td>51.144608</td>\n",
       "    </tr>\n",
       "    <tr>\n",
       "      <th>1950-01-07 00:00:00+00:00</th>\n",
       "      <td>tasmax_day_CanESM2_historical</td>\n",
       "      <td>54.972412</td>\n",
       "    </tr>\n",
       "    <tr>\n",
       "      <th>1950-01-08 00:00:00+00:00</th>\n",
       "      <td>tasmax_day_CanESM2_historical</td>\n",
       "      <td>58.808891</td>\n",
       "    </tr>\n",
       "    <tr>\n",
       "      <th>1950-01-09 00:00:00+00:00</th>\n",
       "      <td>tasmax_day_CanESM2_historical</td>\n",
       "      <td>53.652351</td>\n",
       "    </tr>\n",
       "    <tr>\n",
       "      <th>1950-01-10 00:00:00+00:00</th>\n",
       "      <td>tasmax_day_CanESM2_historical</td>\n",
       "      <td>50.869789</td>\n",
       "    </tr>\n",
       "    <tr>\n",
       "      <th>1950-01-11 00:00:00+00:00</th>\n",
       "      <td>tasmax_day_CanESM2_historical</td>\n",
       "      <td>46.317822</td>\n",
       "    </tr>\n",
       "    <tr>\n",
       "      <th>1950-01-12 00:00:00+00:00</th>\n",
       "      <td>tasmax_day_CanESM2_historical</td>\n",
       "      <td>44.215973</td>\n",
       "    </tr>\n",
       "    <tr>\n",
       "      <th>1950-01-13 00:00:00+00:00</th>\n",
       "      <td>tasmax_day_CanESM2_historical</td>\n",
       "      <td>48.441971</td>\n",
       "    </tr>\n",
       "    <tr>\n",
       "      <th>1950-01-14 00:00:00+00:00</th>\n",
       "      <td>tasmax_day_CanESM2_historical</td>\n",
       "      <td>49.149055</td>\n",
       "    </tr>\n",
       "    <tr>\n",
       "      <th>1950-01-15 00:00:00+00:00</th>\n",
       "      <td>tasmax_day_CanESM2_historical</td>\n",
       "      <td>55.461632</td>\n",
       "    </tr>\n",
       "    <tr>\n",
       "      <th>1950-01-16 00:00:00+00:00</th>\n",
       "      <td>tasmax_day_CanESM2_historical</td>\n",
       "      <td>59.864788</td>\n",
       "    </tr>\n",
       "    <tr>\n",
       "      <th>1950-01-17 00:00:00+00:00</th>\n",
       "      <td>tasmax_day_CanESM2_historical</td>\n",
       "      <td>56.698746</td>\n",
       "    </tr>\n",
       "    <tr>\n",
       "      <th>1950-01-18 00:00:00+00:00</th>\n",
       "      <td>tasmax_day_CanESM2_historical</td>\n",
       "      <td>49.665413</td>\n",
       "    </tr>\n",
       "    <tr>\n",
       "      <th>1950-01-19 00:00:00+00:00</th>\n",
       "      <td>tasmax_day_CanESM2_historical</td>\n",
       "      <td>50.607819</td>\n",
       "    </tr>\n",
       "    <tr>\n",
       "      <th>1950-01-20 00:00:00+00:00</th>\n",
       "      <td>tasmax_day_CanESM2_historical</td>\n",
       "      <td>57.002464</td>\n",
       "    </tr>\n",
       "    <tr>\n",
       "      <th>1950-01-21 00:00:00+00:00</th>\n",
       "      <td>tasmax_day_CanESM2_historical</td>\n",
       "      <td>59.238075</td>\n",
       "    </tr>\n",
       "    <tr>\n",
       "      <th>1950-01-22 00:00:00+00:00</th>\n",
       "      <td>tasmax_day_CanESM2_historical</td>\n",
       "      <td>61.321518</td>\n",
       "    </tr>\n",
       "    <tr>\n",
       "      <th>1950-01-23 00:00:00+00:00</th>\n",
       "      <td>tasmax_day_CanESM2_historical</td>\n",
       "      <td>61.413696</td>\n",
       "    </tr>\n",
       "    <tr>\n",
       "      <th>1950-01-24 00:00:00+00:00</th>\n",
       "      <td>tasmax_day_CanESM2_historical</td>\n",
       "      <td>59.669174</td>\n",
       "    </tr>\n",
       "    <tr>\n",
       "      <th>1950-01-25 00:00:00+00:00</th>\n",
       "      <td>tasmax_day_CanESM2_historical</td>\n",
       "      <td>58.480621</td>\n",
       "    </tr>\n",
       "    <tr>\n",
       "      <th>1950-01-26 00:00:00+00:00</th>\n",
       "      <td>tasmax_day_CanESM2_historical</td>\n",
       "      <td>57.465813</td>\n",
       "    </tr>\n",
       "    <tr>\n",
       "      <th>1950-01-27 00:00:00+00:00</th>\n",
       "      <td>tasmax_day_CanESM2_historical</td>\n",
       "      <td>56.528790</td>\n",
       "    </tr>\n",
       "    <tr>\n",
       "      <th>1950-01-28 00:00:00+00:00</th>\n",
       "      <td>tasmax_day_CanESM2_historical</td>\n",
       "      <td>60.711449</td>\n",
       "    </tr>\n",
       "    <tr>\n",
       "      <th>1950-01-29 00:00:00+00:00</th>\n",
       "      <td>tasmax_day_CanESM2_historical</td>\n",
       "      <td>68.648132</td>\n",
       "    </tr>\n",
       "    <tr>\n",
       "      <th>1950-01-30 00:00:00+00:00</th>\n",
       "      <td>tasmax_day_CanESM2_historical</td>\n",
       "      <td>67.627563</td>\n",
       "    </tr>\n",
       "    <tr>\n",
       "      <th>...</th>\n",
       "      <td>...</td>\n",
       "      <td>...</td>\n",
       "    </tr>\n",
       "    <tr>\n",
       "      <th>2100-12-02 00:00:00+00:00</th>\n",
       "      <td>tasmax_day_HadGEM2-CC_rcp85</td>\n",
       "      <td>64.994583</td>\n",
       "    </tr>\n",
       "    <tr>\n",
       "      <th>2100-12-03 00:00:00+00:00</th>\n",
       "      <td>tasmax_day_HadGEM2-CC_rcp85</td>\n",
       "      <td>73.256462</td>\n",
       "    </tr>\n",
       "    <tr>\n",
       "      <th>2100-12-04 00:00:00+00:00</th>\n",
       "      <td>tasmax_day_HadGEM2-CC_rcp85</td>\n",
       "      <td>73.868126</td>\n",
       "    </tr>\n",
       "    <tr>\n",
       "      <th>2100-12-05 00:00:00+00:00</th>\n",
       "      <td>tasmax_day_HadGEM2-CC_rcp85</td>\n",
       "      <td>64.872910</td>\n",
       "    </tr>\n",
       "    <tr>\n",
       "      <th>2100-12-06 00:00:00+00:00</th>\n",
       "      <td>tasmax_day_HadGEM2-CC_rcp85</td>\n",
       "      <td>64.452133</td>\n",
       "    </tr>\n",
       "    <tr>\n",
       "      <th>2100-12-07 00:00:00+00:00</th>\n",
       "      <td>tasmax_day_HadGEM2-CC_rcp85</td>\n",
       "      <td>67.278473</td>\n",
       "    </tr>\n",
       "    <tr>\n",
       "      <th>2100-12-08 00:00:00+00:00</th>\n",
       "      <td>tasmax_day_HadGEM2-CC_rcp85</td>\n",
       "      <td>67.582962</td>\n",
       "    </tr>\n",
       "    <tr>\n",
       "      <th>2100-12-09 00:00:00+00:00</th>\n",
       "      <td>tasmax_day_HadGEM2-CC_rcp85</td>\n",
       "      <td>65.237488</td>\n",
       "    </tr>\n",
       "    <tr>\n",
       "      <th>2100-12-10 00:00:00+00:00</th>\n",
       "      <td>tasmax_day_HadGEM2-CC_rcp85</td>\n",
       "      <td>58.943748</td>\n",
       "    </tr>\n",
       "    <tr>\n",
       "      <th>2100-12-11 00:00:00+00:00</th>\n",
       "      <td>tasmax_day_HadGEM2-CC_rcp85</td>\n",
       "      <td>62.564953</td>\n",
       "    </tr>\n",
       "    <tr>\n",
       "      <th>2100-12-12 00:00:00+00:00</th>\n",
       "      <td>tasmax_day_HadGEM2-CC_rcp85</td>\n",
       "      <td>64.582535</td>\n",
       "    </tr>\n",
       "    <tr>\n",
       "      <th>2100-12-13 00:00:00+00:00</th>\n",
       "      <td>tasmax_day_HadGEM2-CC_rcp85</td>\n",
       "      <td>65.724731</td>\n",
       "    </tr>\n",
       "    <tr>\n",
       "      <th>2100-12-14 00:00:00+00:00</th>\n",
       "      <td>tasmax_day_HadGEM2-CC_rcp85</td>\n",
       "      <td>58.048584</td>\n",
       "    </tr>\n",
       "    <tr>\n",
       "      <th>2100-12-15 00:00:00+00:00</th>\n",
       "      <td>tasmax_day_HadGEM2-CC_rcp85</td>\n",
       "      <td>57.715202</td>\n",
       "    </tr>\n",
       "    <tr>\n",
       "      <th>2100-12-16 00:00:00+00:00</th>\n",
       "      <td>tasmax_day_HadGEM2-CC_rcp85</td>\n",
       "      <td>65.195244</td>\n",
       "    </tr>\n",
       "    <tr>\n",
       "      <th>2100-12-17 00:00:00+00:00</th>\n",
       "      <td>tasmax_day_HadGEM2-CC_rcp85</td>\n",
       "      <td>61.820793</td>\n",
       "    </tr>\n",
       "    <tr>\n",
       "      <th>2100-12-18 00:00:00+00:00</th>\n",
       "      <td>tasmax_day_HadGEM2-CC_rcp85</td>\n",
       "      <td>66.007355</td>\n",
       "    </tr>\n",
       "    <tr>\n",
       "      <th>2100-12-19 00:00:00+00:00</th>\n",
       "      <td>tasmax_day_HadGEM2-CC_rcp85</td>\n",
       "      <td>79.013184</td>\n",
       "    </tr>\n",
       "    <tr>\n",
       "      <th>2100-12-20 00:00:00+00:00</th>\n",
       "      <td>tasmax_day_HadGEM2-CC_rcp85</td>\n",
       "      <td>81.656174</td>\n",
       "    </tr>\n",
       "    <tr>\n",
       "      <th>2100-12-21 00:00:00+00:00</th>\n",
       "      <td>tasmax_day_HadGEM2-CC_rcp85</td>\n",
       "      <td>78.050232</td>\n",
       "    </tr>\n",
       "    <tr>\n",
       "      <th>2100-12-22 00:00:00+00:00</th>\n",
       "      <td>tasmax_day_HadGEM2-CC_rcp85</td>\n",
       "      <td>66.052063</td>\n",
       "    </tr>\n",
       "    <tr>\n",
       "      <th>2100-12-23 00:00:00+00:00</th>\n",
       "      <td>tasmax_day_HadGEM2-CC_rcp85</td>\n",
       "      <td>71.967438</td>\n",
       "    </tr>\n",
       "    <tr>\n",
       "      <th>2100-12-24 00:00:00+00:00</th>\n",
       "      <td>tasmax_day_HadGEM2-CC_rcp85</td>\n",
       "      <td>65.330322</td>\n",
       "    </tr>\n",
       "    <tr>\n",
       "      <th>2100-12-25 00:00:00+00:00</th>\n",
       "      <td>tasmax_day_HadGEM2-CC_rcp85</td>\n",
       "      <td>63.416008</td>\n",
       "    </tr>\n",
       "    <tr>\n",
       "      <th>2100-12-26 00:00:00+00:00</th>\n",
       "      <td>tasmax_day_HadGEM2-CC_rcp85</td>\n",
       "      <td>63.021049</td>\n",
       "    </tr>\n",
       "    <tr>\n",
       "      <th>2100-12-27 00:00:00+00:00</th>\n",
       "      <td>tasmax_day_HadGEM2-CC_rcp85</td>\n",
       "      <td>66.705811</td>\n",
       "    </tr>\n",
       "    <tr>\n",
       "      <th>2100-12-28 00:00:00+00:00</th>\n",
       "      <td>tasmax_day_HadGEM2-CC_rcp85</td>\n",
       "      <td>58.597458</td>\n",
       "    </tr>\n",
       "    <tr>\n",
       "      <th>2100-12-29 00:00:00+00:00</th>\n",
       "      <td>tasmax_day_HadGEM2-CC_rcp85</td>\n",
       "      <td>63.787842</td>\n",
       "    </tr>\n",
       "    <tr>\n",
       "      <th>2100-12-30 00:00:00+00:00</th>\n",
       "      <td>tasmax_day_HadGEM2-CC_rcp85</td>\n",
       "      <td>65.771805</td>\n",
       "    </tr>\n",
       "    <tr>\n",
       "      <th>2100-12-31 00:00:00+00:00</th>\n",
       "      <td>tasmax_day_HadGEM2-CC_rcp85</td>\n",
       "      <td>66.641266</td>\n",
       "    </tr>\n",
       "  </tbody>\n",
       "</table>\n",
       "<p>550790 rows × 2 columns</p>\n",
       "</div>"
      ],
      "text/plain": [
       "                                                    name       data\n",
       "index                                                              \n",
       "1950-01-01 00:00:00+00:00  tasmax_day_CanESM2_historical  62.818573\n",
       "1950-01-02 00:00:00+00:00  tasmax_day_CanESM2_historical  62.514801\n",
       "1950-01-03 00:00:00+00:00  tasmax_day_CanESM2_historical  59.902527\n",
       "1950-01-04 00:00:00+00:00  tasmax_day_CanESM2_historical  48.215927\n",
       "1950-01-05 00:00:00+00:00  tasmax_day_CanESM2_historical  47.420357\n",
       "1950-01-06 00:00:00+00:00  tasmax_day_CanESM2_historical  51.144608\n",
       "1950-01-07 00:00:00+00:00  tasmax_day_CanESM2_historical  54.972412\n",
       "1950-01-08 00:00:00+00:00  tasmax_day_CanESM2_historical  58.808891\n",
       "1950-01-09 00:00:00+00:00  tasmax_day_CanESM2_historical  53.652351\n",
       "1950-01-10 00:00:00+00:00  tasmax_day_CanESM2_historical  50.869789\n",
       "1950-01-11 00:00:00+00:00  tasmax_day_CanESM2_historical  46.317822\n",
       "1950-01-12 00:00:00+00:00  tasmax_day_CanESM2_historical  44.215973\n",
       "1950-01-13 00:00:00+00:00  tasmax_day_CanESM2_historical  48.441971\n",
       "1950-01-14 00:00:00+00:00  tasmax_day_CanESM2_historical  49.149055\n",
       "1950-01-15 00:00:00+00:00  tasmax_day_CanESM2_historical  55.461632\n",
       "1950-01-16 00:00:00+00:00  tasmax_day_CanESM2_historical  59.864788\n",
       "1950-01-17 00:00:00+00:00  tasmax_day_CanESM2_historical  56.698746\n",
       "1950-01-18 00:00:00+00:00  tasmax_day_CanESM2_historical  49.665413\n",
       "1950-01-19 00:00:00+00:00  tasmax_day_CanESM2_historical  50.607819\n",
       "1950-01-20 00:00:00+00:00  tasmax_day_CanESM2_historical  57.002464\n",
       "1950-01-21 00:00:00+00:00  tasmax_day_CanESM2_historical  59.238075\n",
       "1950-01-22 00:00:00+00:00  tasmax_day_CanESM2_historical  61.321518\n",
       "1950-01-23 00:00:00+00:00  tasmax_day_CanESM2_historical  61.413696\n",
       "1950-01-24 00:00:00+00:00  tasmax_day_CanESM2_historical  59.669174\n",
       "1950-01-25 00:00:00+00:00  tasmax_day_CanESM2_historical  58.480621\n",
       "1950-01-26 00:00:00+00:00  tasmax_day_CanESM2_historical  57.465813\n",
       "1950-01-27 00:00:00+00:00  tasmax_day_CanESM2_historical  56.528790\n",
       "1950-01-28 00:00:00+00:00  tasmax_day_CanESM2_historical  60.711449\n",
       "1950-01-29 00:00:00+00:00  tasmax_day_CanESM2_historical  68.648132\n",
       "1950-01-30 00:00:00+00:00  tasmax_day_CanESM2_historical  67.627563\n",
       "...                                                  ...        ...\n",
       "2100-12-02 00:00:00+00:00    tasmax_day_HadGEM2-CC_rcp85  64.994583\n",
       "2100-12-03 00:00:00+00:00    tasmax_day_HadGEM2-CC_rcp85  73.256462\n",
       "2100-12-04 00:00:00+00:00    tasmax_day_HadGEM2-CC_rcp85  73.868126\n",
       "2100-12-05 00:00:00+00:00    tasmax_day_HadGEM2-CC_rcp85  64.872910\n",
       "2100-12-06 00:00:00+00:00    tasmax_day_HadGEM2-CC_rcp85  64.452133\n",
       "2100-12-07 00:00:00+00:00    tasmax_day_HadGEM2-CC_rcp85  67.278473\n",
       "2100-12-08 00:00:00+00:00    tasmax_day_HadGEM2-CC_rcp85  67.582962\n",
       "2100-12-09 00:00:00+00:00    tasmax_day_HadGEM2-CC_rcp85  65.237488\n",
       "2100-12-10 00:00:00+00:00    tasmax_day_HadGEM2-CC_rcp85  58.943748\n",
       "2100-12-11 00:00:00+00:00    tasmax_day_HadGEM2-CC_rcp85  62.564953\n",
       "2100-12-12 00:00:00+00:00    tasmax_day_HadGEM2-CC_rcp85  64.582535\n",
       "2100-12-13 00:00:00+00:00    tasmax_day_HadGEM2-CC_rcp85  65.724731\n",
       "2100-12-14 00:00:00+00:00    tasmax_day_HadGEM2-CC_rcp85  58.048584\n",
       "2100-12-15 00:00:00+00:00    tasmax_day_HadGEM2-CC_rcp85  57.715202\n",
       "2100-12-16 00:00:00+00:00    tasmax_day_HadGEM2-CC_rcp85  65.195244\n",
       "2100-12-17 00:00:00+00:00    tasmax_day_HadGEM2-CC_rcp85  61.820793\n",
       "2100-12-18 00:00:00+00:00    tasmax_day_HadGEM2-CC_rcp85  66.007355\n",
       "2100-12-19 00:00:00+00:00    tasmax_day_HadGEM2-CC_rcp85  79.013184\n",
       "2100-12-20 00:00:00+00:00    tasmax_day_HadGEM2-CC_rcp85  81.656174\n",
       "2100-12-21 00:00:00+00:00    tasmax_day_HadGEM2-CC_rcp85  78.050232\n",
       "2100-12-22 00:00:00+00:00    tasmax_day_HadGEM2-CC_rcp85  66.052063\n",
       "2100-12-23 00:00:00+00:00    tasmax_day_HadGEM2-CC_rcp85  71.967438\n",
       "2100-12-24 00:00:00+00:00    tasmax_day_HadGEM2-CC_rcp85  65.330322\n",
       "2100-12-25 00:00:00+00:00    tasmax_day_HadGEM2-CC_rcp85  63.416008\n",
       "2100-12-26 00:00:00+00:00    tasmax_day_HadGEM2-CC_rcp85  63.021049\n",
       "2100-12-27 00:00:00+00:00    tasmax_day_HadGEM2-CC_rcp85  66.705811\n",
       "2100-12-28 00:00:00+00:00    tasmax_day_HadGEM2-CC_rcp85  58.597458\n",
       "2100-12-29 00:00:00+00:00    tasmax_day_HadGEM2-CC_rcp85  63.787842\n",
       "2100-12-30 00:00:00+00:00    tasmax_day_HadGEM2-CC_rcp85  65.771805\n",
       "2100-12-31 00:00:00+00:00    tasmax_day_HadGEM2-CC_rcp85  66.641266\n",
       "\n",
       "[550790 rows x 2 columns]"
      ]
     },
     "execution_count": 9,
     "metadata": {},
     "output_type": "execute_result"
    }
   ],
   "source": [
    "df = get_projections()\n",
    "df"
   ]
  },
  {
   "cell_type": "code",
   "execution_count": 10,
   "metadata": {},
   "outputs": [
    {
     "data": {
      "text/html": [
       "<div>\n",
       "<style scoped>\n",
       "    .dataframe tbody tr th:only-of-type {\n",
       "        vertical-align: middle;\n",
       "    }\n",
       "\n",
       "    .dataframe tbody tr th {\n",
       "        vertical-align: top;\n",
       "    }\n",
       "\n",
       "    .dataframe thead th {\n",
       "        text-align: right;\n",
       "    }\n",
       "</style>\n",
       "<table border=\"1\" class=\"dataframe\">\n",
       "  <thead>\n",
       "    <tr style=\"text-align: right;\">\n",
       "      <th></th>\n",
       "      <th>data</th>\n",
       "      <th>Climate Data</th>\n",
       "    </tr>\n",
       "    <tr>\n",
       "      <th>Date</th>\n",
       "      <th></th>\n",
       "      <th></th>\n",
       "    </tr>\n",
       "  </thead>\n",
       "  <tbody>\n",
       "    <tr>\n",
       "      <th>1950-01-01 00:00:00+00:00</th>\n",
       "      <td>62.818573</td>\n",
       "      <td>CanESM2</td>\n",
       "    </tr>\n",
       "    <tr>\n",
       "      <th>1950-01-02 00:00:00+00:00</th>\n",
       "      <td>62.514801</td>\n",
       "      <td>CanESM2</td>\n",
       "    </tr>\n",
       "    <tr>\n",
       "      <th>1950-01-03 00:00:00+00:00</th>\n",
       "      <td>59.902527</td>\n",
       "      <td>CanESM2</td>\n",
       "    </tr>\n",
       "    <tr>\n",
       "      <th>1950-01-04 00:00:00+00:00</th>\n",
       "      <td>48.215927</td>\n",
       "      <td>CanESM2</td>\n",
       "    </tr>\n",
       "    <tr>\n",
       "      <th>1950-01-05 00:00:00+00:00</th>\n",
       "      <td>47.420357</td>\n",
       "      <td>CanESM2</td>\n",
       "    </tr>\n",
       "  </tbody>\n",
       "</table>\n",
       "</div>"
      ],
      "text/plain": [
       "                                data Climate Data\n",
       "Date                                             \n",
       "1950-01-01 00:00:00+00:00  62.818573      CanESM2\n",
       "1950-01-02 00:00:00+00:00  62.514801      CanESM2\n",
       "1950-01-03 00:00:00+00:00  59.902527      CanESM2\n",
       "1950-01-04 00:00:00+00:00  48.215927      CanESM2\n",
       "1950-01-05 00:00:00+00:00  47.420357      CanESM2"
      ]
     },
     "execution_count": 10,
     "metadata": {},
     "output_type": "execute_result"
    }
   ],
   "source": [
    "# Keep only required parameters in slug\n",
    "df['Climate Data'] = df['name'].str.split('_', expand=True)[2] \n",
    "df.index.name = 'Date'\n",
    "df.drop(columns= 'name', inplace = True)\n",
    "df.head()"
   ]
  },
  {
   "cell_type": "code",
   "execution_count": 11,
   "metadata": {},
   "outputs": [],
   "source": [
    "df = df.pivot_table( values = 'data', index = 'Date', columns = 'Climate Data')"
   ]
  },
  {
   "cell_type": "code",
   "execution_count": 12,
   "metadata": {},
   "outputs": [],
   "source": [
    "df_four_models = df"
   ]
  },
  {
   "cell_type": "code",
   "execution_count": 13,
   "metadata": {},
   "outputs": [
    {
     "data": {
      "text/html": [
       "<div>\n",
       "<style scoped>\n",
       "    .dataframe tbody tr th:only-of-type {\n",
       "        vertical-align: middle;\n",
       "    }\n",
       "\n",
       "    .dataframe tbody tr th {\n",
       "        vertical-align: top;\n",
       "    }\n",
       "\n",
       "    .dataframe thead th {\n",
       "        text-align: right;\n",
       "    }\n",
       "</style>\n",
       "<table border=\"1\" class=\"dataframe\">\n",
       "  <thead>\n",
       "    <tr style=\"text-align: right;\">\n",
       "      <th>Climate Data</th>\n",
       "      <th>ACCESS1-0</th>\n",
       "      <th>CCSM4</th>\n",
       "      <th>CESM1-BGC</th>\n",
       "      <th>CMCC-CMS</th>\n",
       "      <th>CNRM-CM5</th>\n",
       "      <th>CanESM2</th>\n",
       "      <th>GFDL-CM3</th>\n",
       "      <th>HadGEM2-CC</th>\n",
       "      <th>HadGEM2-ES</th>\n",
       "      <th>MIROC5</th>\n",
       "    </tr>\n",
       "    <tr>\n",
       "      <th>Date</th>\n",
       "      <th></th>\n",
       "      <th></th>\n",
       "      <th></th>\n",
       "      <th></th>\n",
       "      <th></th>\n",
       "      <th></th>\n",
       "      <th></th>\n",
       "      <th></th>\n",
       "      <th></th>\n",
       "      <th></th>\n",
       "    </tr>\n",
       "  </thead>\n",
       "  <tbody>\n",
       "    <tr>\n",
       "      <th>2100-12-27 00:00:00+00:00</th>\n",
       "      <td>63.561413</td>\n",
       "      <td>58.815979</td>\n",
       "      <td>65.025452</td>\n",
       "      <td>62.858070</td>\n",
       "      <td>67.986923</td>\n",
       "      <td>68.981796</td>\n",
       "      <td>57.075359</td>\n",
       "      <td>66.705811</td>\n",
       "      <td>NaN</td>\n",
       "      <td>NaN</td>\n",
       "    </tr>\n",
       "    <tr>\n",
       "      <th>2100-12-28 00:00:00+00:00</th>\n",
       "      <td>67.608231</td>\n",
       "      <td>58.578232</td>\n",
       "      <td>68.998161</td>\n",
       "      <td>61.250603</td>\n",
       "      <td>65.522858</td>\n",
       "      <td>70.731033</td>\n",
       "      <td>62.306610</td>\n",
       "      <td>58.597458</td>\n",
       "      <td>NaN</td>\n",
       "      <td>NaN</td>\n",
       "    </tr>\n",
       "    <tr>\n",
       "      <th>2100-12-29 00:00:00+00:00</th>\n",
       "      <td>69.177460</td>\n",
       "      <td>59.381775</td>\n",
       "      <td>70.529930</td>\n",
       "      <td>59.963665</td>\n",
       "      <td>68.131775</td>\n",
       "      <td>70.941643</td>\n",
       "      <td>60.319622</td>\n",
       "      <td>63.787842</td>\n",
       "      <td>NaN</td>\n",
       "      <td>NaN</td>\n",
       "    </tr>\n",
       "    <tr>\n",
       "      <th>2100-12-30 00:00:00+00:00</th>\n",
       "      <td>60.099129</td>\n",
       "      <td>62.882790</td>\n",
       "      <td>68.717735</td>\n",
       "      <td>62.115776</td>\n",
       "      <td>75.669495</td>\n",
       "      <td>62.027115</td>\n",
       "      <td>64.980621</td>\n",
       "      <td>65.771805</td>\n",
       "      <td>NaN</td>\n",
       "      <td>NaN</td>\n",
       "    </tr>\n",
       "    <tr>\n",
       "      <th>2100-12-31 00:00:00+00:00</th>\n",
       "      <td>58.933754</td>\n",
       "      <td>61.038292</td>\n",
       "      <td>61.637650</td>\n",
       "      <td>63.006271</td>\n",
       "      <td>69.535721</td>\n",
       "      <td>59.304047</td>\n",
       "      <td>71.382416</td>\n",
       "      <td>66.641266</td>\n",
       "      <td>NaN</td>\n",
       "      <td>NaN</td>\n",
       "    </tr>\n",
       "  </tbody>\n",
       "</table>\n",
       "</div>"
      ],
      "text/plain": [
       "Climate Data               ACCESS1-0      CCSM4  CESM1-BGC   CMCC-CMS  \\\n",
       "Date                                                                    \n",
       "2100-12-27 00:00:00+00:00  63.561413  58.815979  65.025452  62.858070   \n",
       "2100-12-28 00:00:00+00:00  67.608231  58.578232  68.998161  61.250603   \n",
       "2100-12-29 00:00:00+00:00  69.177460  59.381775  70.529930  59.963665   \n",
       "2100-12-30 00:00:00+00:00  60.099129  62.882790  68.717735  62.115776   \n",
       "2100-12-31 00:00:00+00:00  58.933754  61.038292  61.637650  63.006271   \n",
       "\n",
       "Climate Data                CNRM-CM5    CanESM2   GFDL-CM3  HadGEM2-CC  \\\n",
       "Date                                                                     \n",
       "2100-12-27 00:00:00+00:00  67.986923  68.981796  57.075359   66.705811   \n",
       "2100-12-28 00:00:00+00:00  65.522858  70.731033  62.306610   58.597458   \n",
       "2100-12-29 00:00:00+00:00  68.131775  70.941643  60.319622   63.787842   \n",
       "2100-12-30 00:00:00+00:00  75.669495  62.027115  64.980621   65.771805   \n",
       "2100-12-31 00:00:00+00:00  69.535721  59.304047  71.382416   66.641266   \n",
       "\n",
       "Climate Data               HadGEM2-ES  MIROC5  \n",
       "Date                                           \n",
       "2100-12-27 00:00:00+00:00         NaN     NaN  \n",
       "2100-12-28 00:00:00+00:00         NaN     NaN  \n",
       "2100-12-29 00:00:00+00:00         NaN     NaN  \n",
       "2100-12-30 00:00:00+00:00         NaN     NaN  \n",
       "2100-12-31 00:00:00+00:00         NaN     NaN  "
      ]
     },
     "execution_count": 13,
     "metadata": {},
     "output_type": "execute_result"
    }
   ],
   "source": [
    "df.tail()"
   ]
  },
  {
   "cell_type": "code",
   "execution_count": 14,
   "metadata": {},
   "outputs": [],
   "source": [
    "month = 'July'\n",
    "df = df[df.index.month == 7]"
   ]
  },
  {
   "cell_type": "code",
   "execution_count": 15,
   "metadata": {},
   "outputs": [],
   "source": [
    "historical = df.loc['1961-01-01':'1990-12-31']\n",
    "proj = df.loc['2021-01-01':'2050-12-31']"
   ]
  },
  {
   "cell_type": "code",
   "execution_count": 16,
   "metadata": {},
   "outputs": [
    {
     "data": {
      "text/plain": [
       "0    105.349121\n",
       "1    106.833755\n",
       "2    108.378105\n",
       "3    106.910553\n",
       "4    104.838913\n",
       "dtype: float64"
      ]
     },
     "execution_count": 16,
     "metadata": {},
     "output_type": "execute_result"
    }
   ],
   "source": [
    "pd.Series(df.values.ravel('F')).head()"
   ]
  },
  {
   "cell_type": "code",
   "execution_count": 17,
   "metadata": {},
   "outputs": [],
   "source": [
    "# Stack all 4 GCM's into one\n",
    "stacked_hist = pd.Series(historical.values.ravel('F'))\n",
    "stacked_proj = pd.Series(proj.values.ravel('F'))"
   ]
  },
  {
   "cell_type": "code",
   "execution_count": 18,
   "metadata": {},
   "outputs": [
    {
     "data": {
      "text/plain": [
       "0    109.382912\n",
       "1    105.698097\n",
       "2    104.613312\n",
       "3     99.756531\n",
       "4    100.479591\n",
       "5     99.425453\n",
       "6     95.003296\n",
       "7     93.525574\n",
       "8     90.608818\n",
       "9     90.324493\n",
       "dtype: float64"
      ]
     },
     "execution_count": 18,
     "metadata": {},
     "output_type": "execute_result"
    }
   ],
   "source": [
    "stacked_hist.head(10)"
   ]
  },
  {
   "cell_type": "code",
   "execution_count": 19,
   "metadata": {},
   "outputs": [
    {
     "data": {
      "text/plain": [
       "73.5931930542"
      ]
     },
     "execution_count": 19,
     "metadata": {},
     "output_type": "execute_result"
    }
   ],
   "source": [
    "stacked_hist.min()"
   ]
  },
  {
   "cell_type": "code",
   "execution_count": 20,
   "metadata": {},
   "outputs": [],
   "source": [
    "my_min = min(stacked_hist.min(), stacked_proj.min())\n",
    "my_max = max(stacked_hist.max(), stacked_proj.max())"
   ]
  },
  {
   "cell_type": "code",
   "execution_count": 21,
   "metadata": {},
   "outputs": [
    {
     "data": {
      "text/plain": [
       "118.6984939575"
      ]
     },
     "execution_count": 21,
     "metadata": {},
     "output_type": "execute_result"
    }
   ],
   "source": [
    "my_max"
   ]
  },
  {
   "cell_type": "code",
   "execution_count": 22,
   "metadata": {},
   "outputs": [
    {
     "data": {
      "text/plain": [
       "count    9300.000000\n",
       "mean       97.632808\n",
       "std         6.019761\n",
       "min        73.593193\n",
       "25%        93.582182\n",
       "50%        98.338276\n",
       "75%       102.198500\n",
       "max       113.621552\n",
       "dtype: float64"
      ]
     },
     "execution_count": 22,
     "metadata": {},
     "output_type": "execute_result"
    }
   ],
   "source": [
    "stacked_hist.describe()"
   ]
  },
  {
   "cell_type": "code",
   "execution_count": 23,
   "metadata": {},
   "outputs": [
    {
     "data": {
      "text/plain": [
       "count    9300.000000\n",
       "mean      101.549653\n",
       "std         6.094240\n",
       "min        77.528168\n",
       "25%        97.586399\n",
       "50%       102.022209\n",
       "75%       106.158535\n",
       "max       118.698494\n",
       "dtype: float64"
      ]
     },
     "execution_count": 23,
     "metadata": {},
     "output_type": "execute_result"
    }
   ],
   "source": [
    "stacked_proj.describe()"
   ]
  },
  {
   "cell_type": "code",
   "execution_count": 24,
   "metadata": {},
   "outputs": [
    {
     "data": {
      "text/plain": [
       "9300"
      ]
     },
     "execution_count": 24,
     "metadata": {},
     "output_type": "execute_result"
    }
   ],
   "source": [
    "len(stacked_hist)"
   ]
  },
  {
   "cell_type": "code",
   "execution_count": 25,
   "metadata": {},
   "outputs": [],
   "source": [
    "directory = r'C:\\Users\\lkaur\\Work summer 2019\\tasmax_San_Joquan_avg.csv'\n",
    "excel_file = df.to_csv(directory, header=True) "
   ]
  },
  {
   "cell_type": "code",
   "execution_count": 26,
   "metadata": {},
   "outputs": [],
   "source": [
    "# Create bins and labels for the data\n",
    "import math\n",
    "new_min = math.floor(my_min*2) #Times 2 beacuse we are goign to divide in for loop below\n",
    "new_max = math.ceil(my_max*2)\n",
    "bins = []\n",
    "labels = []\n",
    "# To get range from 73 to 120 with 0.5 interval\n",
    "for i in range(new_min, new_max+1, 1):\n",
    "    bins.append(i/2)\n",
    "    labels.append(i/2 + 0.5)\n",
    "del labels[-1]"
   ]
  },
  {
   "cell_type": "code",
   "execution_count": 27,
   "metadata": {},
   "outputs": [
    {
     "data": {
      "text/plain": [
       "92"
      ]
     },
     "execution_count": 27,
     "metadata": {},
     "output_type": "execute_result"
    }
   ],
   "source": [
    "len(bins)"
   ]
  },
  {
   "cell_type": "code",
   "execution_count": 28,
   "metadata": {},
   "outputs": [
    {
     "data": {
      "text/plain": [
       "91"
      ]
     },
     "execution_count": 28,
     "metadata": {},
     "output_type": "execute_result"
    }
   ],
   "source": [
    "len(labels)"
   ]
  },
  {
   "cell_type": "code",
   "execution_count": 29,
   "metadata": {},
   "outputs": [],
   "source": [
    "#labels = bins\n",
    "hist_binned = pd.cut(stacked_hist, bins, labels = labels)\n",
    "#hist_binned = pd.cut(historical['avg'], len(bins))\n",
    "proj_binned = pd.cut(stacked_proj, bins, labels = labels)"
   ]
  },
  {
   "cell_type": "code",
   "execution_count": 30,
   "metadata": {},
   "outputs": [
    {
     "name": "stdout",
     "output_type": "stream",
     "text": [
      "0    109.5\n",
      "1    106.0\n",
      "2    105.0\n",
      "3    100.0\n",
      "4    100.5\n",
      "5     99.5\n",
      "6     95.5\n",
      "7     94.0\n",
      "8     91.0\n",
      "9     90.5\n",
      "dtype: category\n",
      "Categories (91, float64): [74.0 < 74.5 < 75.0 < 75.5 ... 117.5 < 118.0 < 118.5 < 119.0]\n",
      "0    101.5\n",
      "1    103.5\n",
      "2    105.5\n",
      "3    106.0\n",
      "4    107.0\n",
      "dtype: category\n",
      "Categories (91, float64): [74.0 < 74.5 < 75.0 < 75.5 ... 117.5 < 118.0 < 118.5 < 119.0]\n"
     ]
    }
   ],
   "source": [
    "print(hist_binned.head(10))\n",
    "print(proj_binned.head())"
   ]
  },
  {
   "cell_type": "code",
   "execution_count": 31,
   "metadata": {},
   "outputs": [],
   "source": [
    "# Find frequency of each bin #1 Count the total number when each bin occurs. #2 Divide it by total data points #3 mulitply by 100\n",
    "hist_freq = (hist_binned.groupby(hist_binned).count())/(hist_binned.size)*100\n",
    "proj_freq = (proj_binned.groupby(proj_binned).count())/(proj_binned.size)*100\n",
    "#grouped = s.groupby(s)"
   ]
  },
  {
   "cell_type": "code",
   "execution_count": 32,
   "metadata": {},
   "outputs": [
    {
     "data": {
      "text/plain": [
       "74.0    0.032258\n",
       "74.5    0.032258\n",
       "75.0    0.010753\n",
       "dtype: float64"
      ]
     },
     "execution_count": 32,
     "metadata": {},
     "output_type": "execute_result"
    }
   ],
   "source": [
    "hist_freq.head(3)"
   ]
  },
  {
   "cell_type": "code",
   "execution_count": 33,
   "metadata": {},
   "outputs": [
    {
     "data": {
      "text/plain": [
       "74.0    0.0\n",
       "74.5    0.0\n",
       "75.0    0.0\n",
       "dtype: float64"
      ]
     },
     "execution_count": 33,
     "metadata": {},
     "output_type": "execute_result"
    }
   ],
   "source": [
    "proj_freq.head(3)"
   ]
  },
  {
   "cell_type": "code",
   "execution_count": 34,
   "metadata": {},
   "outputs": [],
   "source": [
    "# Add the previous frequencies to get total cummulative frequency\n",
    "hist_cumm = hist_freq.cumsum()\n",
    "proj_cumm = proj_freq.cumsum()"
   ]
  },
  {
   "cell_type": "code",
   "execution_count": 35,
   "metadata": {},
   "outputs": [
    {
     "data": {
      "text/plain": [
       "74.0    0.032258\n",
       "74.5    0.064516\n",
       "75.0    0.075269\n",
       "75.5    0.096774\n",
       "76.0    0.118280\n",
       "76.5    0.150538\n",
       "77.0    0.215054\n",
       "77.5    0.290323\n",
       "78.0    0.322581\n",
       "78.5    0.365591\n",
       "dtype: float64"
      ]
     },
     "execution_count": 35,
     "metadata": {},
     "output_type": "execute_result"
    }
   ],
   "source": [
    "hist_cumm.head(10)"
   ]
  },
  {
   "cell_type": "code",
   "execution_count": 36,
   "metadata": {},
   "outputs": [
    {
     "data": {
      "text/plain": [
       "117.0     99.956989\n",
       "117.5     99.967742\n",
       "118.0     99.967742\n",
       "118.5     99.989247\n",
       "119.0    100.000000\n",
       "dtype: float64"
      ]
     },
     "execution_count": 36,
     "metadata": {},
     "output_type": "execute_result"
    }
   ],
   "source": [
    "proj_cumm.tail()"
   ]
  },
  {
   "cell_type": "markdown",
   "metadata": {},
   "source": [
    "bins = []\n",
    "for i in range(60):\n",
    "    bins.append(i)"
   ]
  },
  {
   "cell_type": "code",
   "execution_count": 37,
   "metadata": {},
   "outputs": [],
   "source": [
    "cumm = pd.DataFrame(\n",
    "    {'Bin': labels,\n",
    "     'Proj_Cumm%': proj_cumm,\n",
    "     'Hist_Cumm%': hist_cumm\n",
    "    })"
   ]
  },
  {
   "cell_type": "code",
   "execution_count": 38,
   "metadata": {},
   "outputs": [
    {
     "data": {
      "text/html": [
       "<div>\n",
       "<style scoped>\n",
       "    .dataframe tbody tr th:only-of-type {\n",
       "        vertical-align: middle;\n",
       "    }\n",
       "\n",
       "    .dataframe tbody tr th {\n",
       "        vertical-align: top;\n",
       "    }\n",
       "\n",
       "    .dataframe thead th {\n",
       "        text-align: right;\n",
       "    }\n",
       "</style>\n",
       "<table border=\"1\" class=\"dataframe\">\n",
       "  <thead>\n",
       "    <tr style=\"text-align: right;\">\n",
       "      <th></th>\n",
       "      <th>Bin</th>\n",
       "      <th>Proj_Cumm%</th>\n",
       "      <th>Hist_Cumm%</th>\n",
       "    </tr>\n",
       "  </thead>\n",
       "  <tbody>\n",
       "    <tr>\n",
       "      <th>74.0</th>\n",
       "      <td>74.0</td>\n",
       "      <td>0.0</td>\n",
       "      <td>0.032258</td>\n",
       "    </tr>\n",
       "    <tr>\n",
       "      <th>74.5</th>\n",
       "      <td>74.5</td>\n",
       "      <td>0.0</td>\n",
       "      <td>0.064516</td>\n",
       "    </tr>\n",
       "    <tr>\n",
       "      <th>75.0</th>\n",
       "      <td>75.0</td>\n",
       "      <td>0.0</td>\n",
       "      <td>0.075269</td>\n",
       "    </tr>\n",
       "    <tr>\n",
       "      <th>75.5</th>\n",
       "      <td>75.5</td>\n",
       "      <td>0.0</td>\n",
       "      <td>0.096774</td>\n",
       "    </tr>\n",
       "    <tr>\n",
       "      <th>76.0</th>\n",
       "      <td>76.0</td>\n",
       "      <td>0.0</td>\n",
       "      <td>0.118280</td>\n",
       "    </tr>\n",
       "  </tbody>\n",
       "</table>\n",
       "</div>"
      ],
      "text/plain": [
       "       Bin  Proj_Cumm%  Hist_Cumm%\n",
       "74.0  74.0         0.0    0.032258\n",
       "74.5  74.5         0.0    0.064516\n",
       "75.0  75.0         0.0    0.075269\n",
       "75.5  75.5         0.0    0.096774\n",
       "76.0  76.0         0.0    0.118280"
      ]
     },
     "execution_count": 38,
     "metadata": {},
     "output_type": "execute_result"
    }
   ],
   "source": [
    "cumm.head()"
   ]
  },
  {
   "cell_type": "code",
   "execution_count": 39,
   "metadata": {},
   "outputs": [
    {
     "data": {
      "text/plain": [
       "0    NaN\n",
       "1    1.0\n",
       "2    2.0\n",
       "3    3.0\n",
       "4    4.0\n",
       "dtype: float64"
      ]
     },
     "execution_count": 39,
     "metadata": {},
     "output_type": "execute_result"
    }
   ],
   "source": [
    "s = pd.Series(range(5))\n",
    "s.where(s > 0)"
   ]
  },
  {
   "cell_type": "code",
   "execution_count": 40,
   "metadata": {},
   "outputs": [],
   "source": [
    "proj_values = cumm['Proj_Cumm%'].values\n",
    "hist_values = cumm['Hist_Cumm%'].values"
   ]
  },
  {
   "cell_type": "code",
   "execution_count": 41,
   "metadata": {},
   "outputs": [],
   "source": [
    "hist_values = np.where(np.isclose(hist_values, 0), np.nan, hist_values)\n",
    "proj_values = np.where(np.isclose(proj_values, 0), np.nan, proj_values)"
   ]
  },
  {
   "cell_type": "code",
   "execution_count": 42,
   "metadata": {},
   "outputs": [],
   "source": [
    "hist_values = np.where(np.isclose(hist_values, 100), np.nan, hist_values)\n",
    "proj_values = np.where(np.isclose(proj_values, 100), np.nan, proj_values)"
   ]
  },
  {
   "cell_type": "code",
   "execution_count": 43,
   "metadata": {},
   "outputs": [],
   "source": [
    "cumm_drop_duplicates = pd.DataFrame(\n",
    "    {'Bin': labels,\n",
    "     'Hist_Cumm%': hist_values,\n",
    "     'Proj_Cumm%': proj_values\n",
    "    })"
   ]
  },
  {
   "cell_type": "code",
   "execution_count": 44,
   "metadata": {},
   "outputs": [
    {
     "data": {
      "text/html": [
       "<div>\n",
       "<style scoped>\n",
       "    .dataframe tbody tr th:only-of-type {\n",
       "        vertical-align: middle;\n",
       "    }\n",
       "\n",
       "    .dataframe tbody tr th {\n",
       "        vertical-align: top;\n",
       "    }\n",
       "\n",
       "    .dataframe thead th {\n",
       "        text-align: right;\n",
       "    }\n",
       "</style>\n",
       "<table border=\"1\" class=\"dataframe\">\n",
       "  <thead>\n",
       "    <tr style=\"text-align: right;\">\n",
       "      <th></th>\n",
       "      <th>Bin</th>\n",
       "      <th>Hist_Cumm%</th>\n",
       "      <th>Proj_Cumm%</th>\n",
       "    </tr>\n",
       "  </thead>\n",
       "  <tbody>\n",
       "    <tr>\n",
       "      <th>0</th>\n",
       "      <td>74.0</td>\n",
       "      <td>0.032258</td>\n",
       "      <td>NaN</td>\n",
       "    </tr>\n",
       "    <tr>\n",
       "      <th>1</th>\n",
       "      <td>74.5</td>\n",
       "      <td>0.064516</td>\n",
       "      <td>NaN</td>\n",
       "    </tr>\n",
       "    <tr>\n",
       "      <th>2</th>\n",
       "      <td>75.0</td>\n",
       "      <td>0.075269</td>\n",
       "      <td>NaN</td>\n",
       "    </tr>\n",
       "    <tr>\n",
       "      <th>3</th>\n",
       "      <td>75.5</td>\n",
       "      <td>0.096774</td>\n",
       "      <td>NaN</td>\n",
       "    </tr>\n",
       "    <tr>\n",
       "      <th>4</th>\n",
       "      <td>76.0</td>\n",
       "      <td>0.118280</td>\n",
       "      <td>NaN</td>\n",
       "    </tr>\n",
       "    <tr>\n",
       "      <th>5</th>\n",
       "      <td>76.5</td>\n",
       "      <td>0.150538</td>\n",
       "      <td>NaN</td>\n",
       "    </tr>\n",
       "    <tr>\n",
       "      <th>6</th>\n",
       "      <td>77.0</td>\n",
       "      <td>0.215054</td>\n",
       "      <td>NaN</td>\n",
       "    </tr>\n",
       "    <tr>\n",
       "      <th>7</th>\n",
       "      <td>77.5</td>\n",
       "      <td>0.290323</td>\n",
       "      <td>NaN</td>\n",
       "    </tr>\n",
       "    <tr>\n",
       "      <th>8</th>\n",
       "      <td>78.0</td>\n",
       "      <td>0.322581</td>\n",
       "      <td>0.021505</td>\n",
       "    </tr>\n",
       "    <tr>\n",
       "      <th>9</th>\n",
       "      <td>78.5</td>\n",
       "      <td>0.365591</td>\n",
       "      <td>0.032258</td>\n",
       "    </tr>\n",
       "  </tbody>\n",
       "</table>\n",
       "</div>"
      ],
      "text/plain": [
       "    Bin  Hist_Cumm%  Proj_Cumm%\n",
       "0  74.0    0.032258         NaN\n",
       "1  74.5    0.064516         NaN\n",
       "2  75.0    0.075269         NaN\n",
       "3  75.5    0.096774         NaN\n",
       "4  76.0    0.118280         NaN\n",
       "5  76.5    0.150538         NaN\n",
       "6  77.0    0.215054         NaN\n",
       "7  77.5    0.290323         NaN\n",
       "8  78.0    0.322581    0.021505\n",
       "9  78.5    0.365591    0.032258"
      ]
     },
     "execution_count": 44,
     "metadata": {},
     "output_type": "execute_result"
    }
   ],
   "source": [
    "cumm_drop_duplicates.head(10)"
   ]
  },
  {
   "cell_type": "markdown",
   "metadata": {},
   "source": [
    "arr = np.where(np.isclose(x.values, [100]), np.nan, x.values)\n",
    "x = pd.DataFrame(arr, index=x.index, columns=x.columns)"
   ]
  },
  {
   "cell_type": "code",
   "execution_count": 45,
   "metadata": {},
   "outputs": [],
   "source": [
    "plt.rcParams['lines.linewidth'] = 3\n",
    "plt.rcParams.update({'font.size': 12})\n",
    "plt.rcParams['figure.figsize'] = [10, 10]"
   ]
  },
  {
   "cell_type": "code",
   "execution_count": 46,
   "metadata": {
    "scrolled": true
   },
   "outputs": [
    {
     "data": {
      "image/png": "[encoded data removed]",
      "text/plain": [
       "<Figure size 720x720 with 1 Axes>"
      ]
     },
     "metadata": {
      "needs_background": "light"
     },
     "output_type": "display_data"
    }
   ],
   "source": [
    "ax = cumm_drop_duplicates.plot(kind=\"scatter\", x= \"Bin\" ,y=\"Hist_Cumm%\", color=\"b\", marker='D', label=\"1961-1990\", alpha = 0.8, s= 30)\n",
    "cumm_drop_duplicates.plot(kind=\"scatter\", x= \"Bin\" ,y=\"Proj_Cumm%\", color=\"r\", marker='^', label =\"2021-2050\", ax=ax, alpha = 0.8, s= 30)\n",
    "plt.grid(True)\n",
    "#ax.title('Livermore Speeds to Altamont Wind Prodution', weight = 'bold', fontsize = 13)\n",
    "ax.set_xlabel(\"Tmax (F)\")\n",
    "ax.set_ylabel(\"Cummulative Probability Distribution\")\n",
    "plt.suptitle('Figure 1. Changes in cumulative probabilistic distribution \\n of maximum daily temperature in ' + month + ' in ' + city + '.', fontsize=14)\n",
    "plt.show()"
   ]
  },
  {
   "cell_type": "code",
   "execution_count": 47,
   "metadata": {},
   "outputs": [
    {
     "data": {
      "text/html": [
       "<div>\n",
       "<style scoped>\n",
       "    .dataframe tbody tr th:only-of-type {\n",
       "        vertical-align: middle;\n",
       "    }\n",
       "\n",
       "    .dataframe tbody tr th {\n",
       "        vertical-align: top;\n",
       "    }\n",
       "\n",
       "    .dataframe thead th {\n",
       "        text-align: right;\n",
       "    }\n",
       "</style>\n",
       "<table border=\"1\" class=\"dataframe\">\n",
       "  <thead>\n",
       "    <tr style=\"text-align: right;\">\n",
       "      <th></th>\n",
       "      <th>Bin</th>\n",
       "      <th>Hist_Cumm%</th>\n",
       "      <th>Proj_Cumm%</th>\n",
       "    </tr>\n",
       "  </thead>\n",
       "  <tbody>\n",
       "    <tr>\n",
       "      <th>0</th>\n",
       "      <td>74.0</td>\n",
       "      <td>0.032258</td>\n",
       "      <td>NaN</td>\n",
       "    </tr>\n",
       "    <tr>\n",
       "      <th>1</th>\n",
       "      <td>74.5</td>\n",
       "      <td>0.064516</td>\n",
       "      <td>NaN</td>\n",
       "    </tr>\n",
       "    <tr>\n",
       "      <th>2</th>\n",
       "      <td>75.0</td>\n",
       "      <td>0.075269</td>\n",
       "      <td>NaN</td>\n",
       "    </tr>\n",
       "    <tr>\n",
       "      <th>3</th>\n",
       "      <td>75.5</td>\n",
       "      <td>0.096774</td>\n",
       "      <td>NaN</td>\n",
       "    </tr>\n",
       "    <tr>\n",
       "      <th>4</th>\n",
       "      <td>76.0</td>\n",
       "      <td>0.118280</td>\n",
       "      <td>NaN</td>\n",
       "    </tr>\n",
       "  </tbody>\n",
       "</table>\n",
       "</div>"
      ],
      "text/plain": [
       "    Bin  Hist_Cumm%  Proj_Cumm%\n",
       "0  74.0    0.032258         NaN\n",
       "1  74.5    0.064516         NaN\n",
       "2  75.0    0.075269         NaN\n",
       "3  75.5    0.096774         NaN\n",
       "4  76.0    0.118280         NaN"
      ]
     },
     "execution_count": 47,
     "metadata": {},
     "output_type": "execute_result"
    }
   ],
   "source": [
    "cumm_drop_duplicates.head()"
   ]
  },
  {
   "cell_type": "code",
   "execution_count": 48,
   "metadata": {},
   "outputs": [],
   "source": [
    "sample_data = cumm_drop_duplicates.iloc[0:30, :]"
   ]
  },
  {
   "cell_type": "code",
   "execution_count": 49,
   "metadata": {},
   "outputs": [
    {
     "data": {
      "text/html": [
       "<div>\n",
       "<style scoped>\n",
       "    .dataframe tbody tr th:only-of-type {\n",
       "        vertical-align: middle;\n",
       "    }\n",
       "\n",
       "    .dataframe tbody tr th {\n",
       "        vertical-align: top;\n",
       "    }\n",
       "\n",
       "    .dataframe thead th {\n",
       "        text-align: right;\n",
       "    }\n",
       "</style>\n",
       "<table border=\"1\" class=\"dataframe\">\n",
       "  <thead>\n",
       "    <tr style=\"text-align: right;\">\n",
       "      <th></th>\n",
       "      <th>Bin</th>\n",
       "      <th>Hist_Cumm%</th>\n",
       "      <th>Proj_Cumm%</th>\n",
       "    </tr>\n",
       "  </thead>\n",
       "  <tbody>\n",
       "    <tr>\n",
       "      <th>0</th>\n",
       "      <td>74.0</td>\n",
       "      <td>0.032258</td>\n",
       "      <td>NaN</td>\n",
       "    </tr>\n",
       "    <tr>\n",
       "      <th>1</th>\n",
       "      <td>74.5</td>\n",
       "      <td>0.064516</td>\n",
       "      <td>NaN</td>\n",
       "    </tr>\n",
       "    <tr>\n",
       "      <th>2</th>\n",
       "      <td>75.0</td>\n",
       "      <td>0.075269</td>\n",
       "      <td>NaN</td>\n",
       "    </tr>\n",
       "    <tr>\n",
       "      <th>3</th>\n",
       "      <td>75.5</td>\n",
       "      <td>0.096774</td>\n",
       "      <td>NaN</td>\n",
       "    </tr>\n",
       "    <tr>\n",
       "      <th>4</th>\n",
       "      <td>76.0</td>\n",
       "      <td>0.118280</td>\n",
       "      <td>NaN</td>\n",
       "    </tr>\n",
       "    <tr>\n",
       "      <th>5</th>\n",
       "      <td>76.5</td>\n",
       "      <td>0.150538</td>\n",
       "      <td>NaN</td>\n",
       "    </tr>\n",
       "    <tr>\n",
       "      <th>6</th>\n",
       "      <td>77.0</td>\n",
       "      <td>0.215054</td>\n",
       "      <td>NaN</td>\n",
       "    </tr>\n",
       "    <tr>\n",
       "      <th>7</th>\n",
       "      <td>77.5</td>\n",
       "      <td>0.290323</td>\n",
       "      <td>NaN</td>\n",
       "    </tr>\n",
       "    <tr>\n",
       "      <th>8</th>\n",
       "      <td>78.0</td>\n",
       "      <td>0.322581</td>\n",
       "      <td>0.021505</td>\n",
       "    </tr>\n",
       "    <tr>\n",
       "      <th>9</th>\n",
       "      <td>78.5</td>\n",
       "      <td>0.365591</td>\n",
       "      <td>0.032258</td>\n",
       "    </tr>\n",
       "  </tbody>\n",
       "</table>\n",
       "</div>"
      ],
      "text/plain": [
       "    Bin  Hist_Cumm%  Proj_Cumm%\n",
       "0  74.0    0.032258         NaN\n",
       "1  74.5    0.064516         NaN\n",
       "2  75.0    0.075269         NaN\n",
       "3  75.5    0.096774         NaN\n",
       "4  76.0    0.118280         NaN\n",
       "5  76.5    0.150538         NaN\n",
       "6  77.0    0.215054         NaN\n",
       "7  77.5    0.290323         NaN\n",
       "8  78.0    0.322581    0.021505\n",
       "9  78.5    0.365591    0.032258"
      ]
     },
     "execution_count": 49,
     "metadata": {},
     "output_type": "execute_result"
    }
   ],
   "source": [
    "sample_data.head(10)"
   ]
  },
  {
   "cell_type": "code",
   "execution_count": 50,
   "metadata": {},
   "outputs": [
    {
     "data": {
      "image/png": "[encoded data removed]",
      "text/plain": [
       "<Figure size 720x720 with 1 Axes>"
      ]
     },
     "metadata": {
      "needs_background": "light"
     },
     "output_type": "display_data"
    }
   ],
   "source": [
    "ax = sample_data.plot(kind=\"scatter\", x= \"Bin\" ,y=\"Hist_Cumm%\", color=\"b\", marker='D', label=\"1961-1990\", alpha = 0.8, s= 30)\n",
    "sample_data.plot(kind=\"scatter\", x= \"Bin\" ,y=\"Proj_Cumm%\", color=\"r\", marker='^', label =\"2021-2050\", ax=ax, alpha = 0.8, s= 30)\n",
    "plt.grid(True)\n",
    "#ax.title('Livermore Speeds to Altamont Wind Prodution', weight = 'bold', fontsize = 13)\n",
    "ax.set_xlabel(\"Tmax (F)\")\n",
    "ax.set_ylabel(\"Cummulative Probability Distribution\")\n",
    "plt.suptitle('Figure 1. Changes in cumulative probabilistic distribution \\n of maximum daily temperature in ' + month + ' in ' + city + '.', fontsize=14)\n",
    "plt.show()"
   ]
  },
  {
   "cell_type": "code",
   "execution_count": 51,
   "metadata": {
    "scrolled": true
   },
   "outputs": [
    {
     "data": {
      "image/png": "[encoded data removed]",
      "text/plain": [
       "<Figure size 720x720 with 1 Axes>"
      ]
     },
     "metadata": {
      "needs_background": "light"
     },
     "output_type": "display_data"
    }
   ],
   "source": [
    "ax = cumm_drop_duplicates.plot(kind=\"scatter\", x =\"Hist_Cumm%\",  y= 'Proj_Cumm%', color=\"b\", marker='D' , alpha = 0.7, s= 30)\n",
    "#df.plot(kind=\"scatter\", x= \"Hist_Cumm%\" ,y=\"Hist_Cumm%\", color=\"r\", marker='^', label =\"2021-2050\", ax=ax, alpha = 0.8, s= 30)\n",
    "ax.plot([0, 1], [0, 1], transform=ax.transAxes, color = 'black', alpha = 0.7, ls = 'dashed')\n",
    "plt.grid(True)\n",
    "ax.set_xlabel(\"Historical Percentile\")\n",
    "ax.set_ylabel(\"Future Percentile\")\n",
    "plt.rcParams['figure.figsize'] = [10, 7]\n",
    "plt.show()\n",
    "#plt.suptitle('Figure 1. Changes in cumulative probabilistic distribution \\n of maximum daily temperature in ' + month + ' in ' + city + '.', fontsize=14)\n"
   ]
  },
  {
   "cell_type": "code",
   "execution_count": 52,
   "metadata": {},
   "outputs": [],
   "source": [
    "hist_proj = pd.DataFrame(\n",
    "    {\n",
    "     'stacked_hist': stacked_hist,\n",
    "     'stacked_proj': stacked_proj\n",
    "    })"
   ]
  },
  {
   "cell_type": "code",
   "execution_count": 53,
   "metadata": {},
   "outputs": [],
   "source": [
    "hist_proj = hist_proj.apply(lambda x: x.sort_values().values)"
   ]
  },
  {
   "cell_type": "code",
   "execution_count": 54,
   "metadata": {},
   "outputs": [
    {
     "data": {
      "text/html": [
       "<div>\n",
       "<style scoped>\n",
       "    .dataframe tbody tr th:only-of-type {\n",
       "        vertical-align: middle;\n",
       "    }\n",
       "\n",
       "    .dataframe tbody tr th {\n",
       "        vertical-align: top;\n",
       "    }\n",
       "\n",
       "    .dataframe thead th {\n",
       "        text-align: right;\n",
       "    }\n",
       "</style>\n",
       "<table border=\"1\" class=\"dataframe\">\n",
       "  <thead>\n",
       "    <tr style=\"text-align: right;\">\n",
       "      <th></th>\n",
       "      <th>stacked_hist</th>\n",
       "      <th>stacked_proj</th>\n",
       "    </tr>\n",
       "  </thead>\n",
       "  <tbody>\n",
       "    <tr>\n",
       "      <th>0</th>\n",
       "      <td>73.593193</td>\n",
       "      <td>77.528168</td>\n",
       "    </tr>\n",
       "    <tr>\n",
       "      <th>1</th>\n",
       "      <td>73.623566</td>\n",
       "      <td>77.657860</td>\n",
       "    </tr>\n",
       "    <tr>\n",
       "      <th>2</th>\n",
       "      <td>73.650269</td>\n",
       "      <td>78.073471</td>\n",
       "    </tr>\n",
       "    <tr>\n",
       "      <th>3</th>\n",
       "      <td>74.132736</td>\n",
       "      <td>78.543243</td>\n",
       "    </tr>\n",
       "    <tr>\n",
       "      <th>4</th>\n",
       "      <td>74.436234</td>\n",
       "      <td>78.850266</td>\n",
       "    </tr>\n",
       "  </tbody>\n",
       "</table>\n",
       "</div>"
      ],
      "text/plain": [
       "   stacked_hist  stacked_proj\n",
       "0     73.593193     77.528168\n",
       "1     73.623566     77.657860\n",
       "2     73.650269     78.073471\n",
       "3     74.132736     78.543243\n",
       "4     74.436234     78.850266"
      ]
     },
     "execution_count": 54,
     "metadata": {},
     "output_type": "execute_result"
    }
   ],
   "source": [
    "hist_proj.head()"
   ]
  },
  {
   "cell_type": "code",
   "execution_count": 55,
   "metadata": {},
   "outputs": [],
   "source": [
    "directory = r'C:\\Users\\lkaur\\Work summer 2019\\hist_proj_tasmax_San_Joquan_avg.csv'\n",
    "excel_file = hist_proj.to_csv(directory, header=True) "
   ]
  },
  {
   "cell_type": "code",
   "execution_count": 56,
   "metadata": {},
   "outputs": [
    {
     "data": {
      "image/png": "[encoded data removed]",
      "text/plain": [
       "<Figure size 720x504 with 1 Axes>"
      ]
     },
     "metadata": {
      "needs_background": "light"
     },
     "output_type": "display_data"
    }
   ],
   "source": [
    "ax = hist_proj.plot(kind=\"scatter\", x =\"stacked_hist\",  y= 'stacked_proj',  marker='o',  alpha = 0.5, s= 30, facecolors='none', edgecolors='b')\n",
    "ax.plot([0, 1], [0, 1], transform=ax.transAxes, color = 'black', alpha = 0.7, ls = 'dashed')\n",
    "plt.grid(True)\n",
    "ax.set_xlabel(\"Historical Daily tmax\")\n",
    "ax.set_ylabel(\"Future Daily tmax\")\n",
    "plt.ylim(70, 120)\n",
    "plt.xlim(70,120)\n",
    "#plt.suptitle('Figure 1. Changes in cumulative probabilistic distribution \\n of maximum daily temperature in ' + month + ' in ' + city + '.', fontsize=14)\n",
    "plt.show()"
   ]
  },
  {
   "cell_type": "markdown",
   "metadata": {},
   "source": [
    "### Changes in One-in-Ten Max Daily Temp for 30 years "
   ]
  },
  {
   "cell_type": "code",
   "execution_count": 57,
   "metadata": {},
   "outputs": [
    {
     "data": {
      "text/html": [
       "<div>\n",
       "<style scoped>\n",
       "    .dataframe tbody tr th:only-of-type {\n",
       "        vertical-align: middle;\n",
       "    }\n",
       "\n",
       "    .dataframe tbody tr th {\n",
       "        vertical-align: top;\n",
       "    }\n",
       "\n",
       "    .dataframe thead th {\n",
       "        text-align: right;\n",
       "    }\n",
       "</style>\n",
       "<table border=\"1\" class=\"dataframe\">\n",
       "  <thead>\n",
       "    <tr style=\"text-align: right;\">\n",
       "      <th>Climate Data</th>\n",
       "      <th>ACCESS1-0</th>\n",
       "      <th>CCSM4</th>\n",
       "      <th>CESM1-BGC</th>\n",
       "      <th>CMCC-CMS</th>\n",
       "      <th>CNRM-CM5</th>\n",
       "      <th>CanESM2</th>\n",
       "      <th>GFDL-CM3</th>\n",
       "      <th>HadGEM2-CC</th>\n",
       "      <th>HadGEM2-ES</th>\n",
       "      <th>MIROC5</th>\n",
       "    </tr>\n",
       "    <tr>\n",
       "      <th>Date</th>\n",
       "      <th></th>\n",
       "      <th></th>\n",
       "      <th></th>\n",
       "      <th></th>\n",
       "      <th></th>\n",
       "      <th></th>\n",
       "      <th></th>\n",
       "      <th></th>\n",
       "      <th></th>\n",
       "      <th></th>\n",
       "    </tr>\n",
       "  </thead>\n",
       "  <tbody>\n",
       "    <tr>\n",
       "      <th>1950-07-01 00:00:00+00:00</th>\n",
       "      <td>105.349121</td>\n",
       "      <td>95.729820</td>\n",
       "      <td>87.535172</td>\n",
       "      <td>97.148926</td>\n",
       "      <td>99.740761</td>\n",
       "      <td>92.576248</td>\n",
       "      <td>103.403442</td>\n",
       "      <td>98.060738</td>\n",
       "      <td>99.802948</td>\n",
       "      <td>102.173683</td>\n",
       "    </tr>\n",
       "    <tr>\n",
       "      <th>1950-07-02 00:00:00+00:00</th>\n",
       "      <td>106.833755</td>\n",
       "      <td>92.902328</td>\n",
       "      <td>88.478180</td>\n",
       "      <td>95.328873</td>\n",
       "      <td>92.123886</td>\n",
       "      <td>94.166740</td>\n",
       "      <td>100.109848</td>\n",
       "      <td>99.504944</td>\n",
       "      <td>101.084938</td>\n",
       "      <td>100.664276</td>\n",
       "    </tr>\n",
       "    <tr>\n",
       "      <th>1950-07-03 00:00:00+00:00</th>\n",
       "      <td>108.378105</td>\n",
       "      <td>90.505547</td>\n",
       "      <td>87.721832</td>\n",
       "      <td>92.013969</td>\n",
       "      <td>87.621750</td>\n",
       "      <td>97.541023</td>\n",
       "      <td>98.752762</td>\n",
       "      <td>97.464394</td>\n",
       "      <td>99.012207</td>\n",
       "      <td>98.184769</td>\n",
       "    </tr>\n",
       "    <tr>\n",
       "      <th>1950-07-04 00:00:00+00:00</th>\n",
       "      <td>106.910553</td>\n",
       "      <td>94.293961</td>\n",
       "      <td>87.599548</td>\n",
       "      <td>86.340355</td>\n",
       "      <td>85.553024</td>\n",
       "      <td>91.108582</td>\n",
       "      <td>102.557274</td>\n",
       "      <td>101.149818</td>\n",
       "      <td>101.510223</td>\n",
       "      <td>102.441536</td>\n",
       "    </tr>\n",
       "    <tr>\n",
       "      <th>1950-07-05 00:00:00+00:00</th>\n",
       "      <td>104.838913</td>\n",
       "      <td>100.307655</td>\n",
       "      <td>86.205772</td>\n",
       "      <td>79.630844</td>\n",
       "      <td>87.451401</td>\n",
       "      <td>83.988678</td>\n",
       "      <td>101.641563</td>\n",
       "      <td>105.258041</td>\n",
       "      <td>98.721565</td>\n",
       "      <td>99.546577</td>\n",
       "    </tr>\n",
       "  </tbody>\n",
       "</table>\n",
       "</div>"
      ],
      "text/plain": [
       "Climate Data                ACCESS1-0       CCSM4  CESM1-BGC   CMCC-CMS  \\\n",
       "Date                                                                      \n",
       "1950-07-01 00:00:00+00:00  105.349121   95.729820  87.535172  97.148926   \n",
       "1950-07-02 00:00:00+00:00  106.833755   92.902328  88.478180  95.328873   \n",
       "1950-07-03 00:00:00+00:00  108.378105   90.505547  87.721832  92.013969   \n",
       "1950-07-04 00:00:00+00:00  106.910553   94.293961  87.599548  86.340355   \n",
       "1950-07-05 00:00:00+00:00  104.838913  100.307655  86.205772  79.630844   \n",
       "\n",
       "Climate Data                CNRM-CM5    CanESM2    GFDL-CM3  HadGEM2-CC  \\\n",
       "Date                                                                      \n",
       "1950-07-01 00:00:00+00:00  99.740761  92.576248  103.403442   98.060738   \n",
       "1950-07-02 00:00:00+00:00  92.123886  94.166740  100.109848   99.504944   \n",
       "1950-07-03 00:00:00+00:00  87.621750  97.541023   98.752762   97.464394   \n",
       "1950-07-04 00:00:00+00:00  85.553024  91.108582  102.557274  101.149818   \n",
       "1950-07-05 00:00:00+00:00  87.451401  83.988678  101.641563  105.258041   \n",
       "\n",
       "Climate Data               HadGEM2-ES      MIROC5  \n",
       "Date                                               \n",
       "1950-07-01 00:00:00+00:00   99.802948  102.173683  \n",
       "1950-07-02 00:00:00+00:00  101.084938  100.664276  \n",
       "1950-07-03 00:00:00+00:00   99.012207   98.184769  \n",
       "1950-07-04 00:00:00+00:00  101.510223  102.441536  \n",
       "1950-07-05 00:00:00+00:00   98.721565   99.546577  "
      ]
     },
     "execution_count": 57,
     "metadata": {},
     "output_type": "execute_result"
    }
   ],
   "source": [
    "df.head()"
   ]
  },
  {
   "cell_type": "code",
   "execution_count": 58,
   "metadata": {},
   "outputs": [],
   "source": [
    "thirtyYearRolling_OneInTen = df_four_models.rolling(30*365).quantile(.90, interpolation='higher')"
   ]
  },
  {
   "cell_type": "code",
   "execution_count": 59,
   "metadata": {},
   "outputs": [
    {
     "data": {
      "text/html": [
       "<div>\n",
       "<style scoped>\n",
       "    .dataframe tbody tr th:only-of-type {\n",
       "        vertical-align: middle;\n",
       "    }\n",
       "\n",
       "    .dataframe tbody tr th {\n",
       "        vertical-align: top;\n",
       "    }\n",
       "\n",
       "    .dataframe thead th {\n",
       "        text-align: right;\n",
       "    }\n",
       "</style>\n",
       "<table border=\"1\" class=\"dataframe\">\n",
       "  <thead>\n",
       "    <tr style=\"text-align: right;\">\n",
       "      <th>Climate Data</th>\n",
       "      <th>ACCESS1-0</th>\n",
       "      <th>CCSM4</th>\n",
       "      <th>CESM1-BGC</th>\n",
       "      <th>CMCC-CMS</th>\n",
       "      <th>CNRM-CM5</th>\n",
       "      <th>CanESM2</th>\n",
       "      <th>GFDL-CM3</th>\n",
       "      <th>HadGEM2-CC</th>\n",
       "      <th>HadGEM2-ES</th>\n",
       "      <th>MIROC5</th>\n",
       "    </tr>\n",
       "    <tr>\n",
       "      <th>Date</th>\n",
       "      <th></th>\n",
       "      <th></th>\n",
       "      <th></th>\n",
       "      <th></th>\n",
       "      <th></th>\n",
       "      <th></th>\n",
       "      <th></th>\n",
       "      <th></th>\n",
       "      <th></th>\n",
       "      <th></th>\n",
       "    </tr>\n",
       "  </thead>\n",
       "  <tbody>\n",
       "    <tr>\n",
       "      <th>2100-12-27 00:00:00+00:00</th>\n",
       "      <td>107.903114</td>\n",
       "      <td>106.924118</td>\n",
       "      <td>107.115669</td>\n",
       "      <td>107.948761</td>\n",
       "      <td>106.396172</td>\n",
       "      <td>109.979256</td>\n",
       "      <td>111.389511</td>\n",
       "      <td>109.490143</td>\n",
       "      <td>NaN</td>\n",
       "      <td>NaN</td>\n",
       "    </tr>\n",
       "    <tr>\n",
       "      <th>2100-12-28 00:00:00+00:00</th>\n",
       "      <td>107.903114</td>\n",
       "      <td>106.924118</td>\n",
       "      <td>107.115669</td>\n",
       "      <td>107.948761</td>\n",
       "      <td>106.396172</td>\n",
       "      <td>109.979256</td>\n",
       "      <td>111.389511</td>\n",
       "      <td>109.490143</td>\n",
       "      <td>NaN</td>\n",
       "      <td>NaN</td>\n",
       "    </tr>\n",
       "    <tr>\n",
       "      <th>2100-12-29 00:00:00+00:00</th>\n",
       "      <td>107.903114</td>\n",
       "      <td>106.924118</td>\n",
       "      <td>107.115669</td>\n",
       "      <td>107.948761</td>\n",
       "      <td>106.396172</td>\n",
       "      <td>109.979256</td>\n",
       "      <td>111.389511</td>\n",
       "      <td>109.490143</td>\n",
       "      <td>NaN</td>\n",
       "      <td>NaN</td>\n",
       "    </tr>\n",
       "    <tr>\n",
       "      <th>2100-12-30 00:00:00+00:00</th>\n",
       "      <td>107.903114</td>\n",
       "      <td>106.924118</td>\n",
       "      <td>107.115669</td>\n",
       "      <td>107.948761</td>\n",
       "      <td>106.396172</td>\n",
       "      <td>109.979256</td>\n",
       "      <td>111.389511</td>\n",
       "      <td>109.490143</td>\n",
       "      <td>NaN</td>\n",
       "      <td>NaN</td>\n",
       "    </tr>\n",
       "    <tr>\n",
       "      <th>2100-12-31 00:00:00+00:00</th>\n",
       "      <td>107.903114</td>\n",
       "      <td>106.924118</td>\n",
       "      <td>107.115669</td>\n",
       "      <td>107.948761</td>\n",
       "      <td>106.396172</td>\n",
       "      <td>109.979256</td>\n",
       "      <td>111.389511</td>\n",
       "      <td>109.490143</td>\n",
       "      <td>NaN</td>\n",
       "      <td>NaN</td>\n",
       "    </tr>\n",
       "  </tbody>\n",
       "</table>\n",
       "</div>"
      ],
      "text/plain": [
       "Climate Data                ACCESS1-0       CCSM4   CESM1-BGC    CMCC-CMS  \\\n",
       "Date                                                                        \n",
       "2100-12-27 00:00:00+00:00  107.903114  106.924118  107.115669  107.948761   \n",
       "2100-12-28 00:00:00+00:00  107.903114  106.924118  107.115669  107.948761   \n",
       "2100-12-29 00:00:00+00:00  107.903114  106.924118  107.115669  107.948761   \n",
       "2100-12-30 00:00:00+00:00  107.903114  106.924118  107.115669  107.948761   \n",
       "2100-12-31 00:00:00+00:00  107.903114  106.924118  107.115669  107.948761   \n",
       "\n",
       "Climate Data                 CNRM-CM5     CanESM2    GFDL-CM3  HadGEM2-CC  \\\n",
       "Date                                                                        \n",
       "2100-12-27 00:00:00+00:00  106.396172  109.979256  111.389511  109.490143   \n",
       "2100-12-28 00:00:00+00:00  106.396172  109.979256  111.389511  109.490143   \n",
       "2100-12-29 00:00:00+00:00  106.396172  109.979256  111.389511  109.490143   \n",
       "2100-12-30 00:00:00+00:00  106.396172  109.979256  111.389511  109.490143   \n",
       "2100-12-31 00:00:00+00:00  106.396172  109.979256  111.389511  109.490143   \n",
       "\n",
       "Climate Data               HadGEM2-ES  MIROC5  \n",
       "Date                                           \n",
       "2100-12-27 00:00:00+00:00         NaN     NaN  \n",
       "2100-12-28 00:00:00+00:00         NaN     NaN  \n",
       "2100-12-29 00:00:00+00:00         NaN     NaN  \n",
       "2100-12-30 00:00:00+00:00         NaN     NaN  \n",
       "2100-12-31 00:00:00+00:00         NaN     NaN  "
      ]
     },
     "execution_count": 59,
     "metadata": {},
     "output_type": "execute_result"
    }
   ],
   "source": [
    "thirtyYearRolling_OneInTen.tail()"
   ]
  },
  {
   "cell_type": "code",
   "execution_count": 60,
   "metadata": {},
   "outputs": [],
   "source": [
    "average = thirtyYearRolling_OneInTen.mean(axis = 1)"
   ]
  },
  {
   "cell_type": "code",
   "execution_count": 61,
   "metadata": {},
   "outputs": [],
   "source": [
    "plt.rcParams.update({'font.size': 12})"
   ]
  },
  {
   "cell_type": "code",
   "execution_count": 62,
   "metadata": {},
   "outputs": [
    {
     "name": "stderr",
     "output_type": "stream",
     "text": [
      "C:\\ProgramData\\Anaconda3\\lib\\site-packages\\pandas\\core\\arrays\\datetimes.py:1172: UserWarning: Converting to PeriodArray/Index representation will drop timezone information.\n",
      "  \"will drop timezone information.\", UserWarning)\n",
      "C:\\ProgramData\\Anaconda3\\lib\\site-packages\\pandas\\core\\arrays\\datetimes.py:1172: UserWarning: Converting to PeriodArray/Index representation will drop timezone information.\n",
      "  \"will drop timezone information.\", UserWarning)\n"
     ]
    },
    {
     "data": {
      "image/png": "[encoded data removed]",
      "text/plain": [
       "<Figure size 1080x720 with 1 Axes>"
      ]
     },
     "metadata": {
      "needs_background": "light"
     },
     "output_type": "display_data"
    }
   ],
   "source": [
    "plt.rcParams['figure.figsize'] = [15, 10]\n",
    "ax = thirtyYearRolling_OneInTen.plot(alpha = 0.7)\n",
    "average.plot(color = 'black',  linewidth=4, ax = ax, label = \"Average of 10 GCMs\")\n",
    "ax.set_xlabel(\"Year\", fontsize = 13, weight= 'bold')\n",
    "ax.set_ylabel(\"Temperature (F)\", fontsize = 13, weight = 'bold')\n",
    "plt.title(\"Changes in One-in-Ten maximum daily temperature for Thrity Years in \" + city, fontsize = 15, weight = 'bold')\n",
    "\n",
    "#plt.style.use('seaborn-whitegrid')\n",
    "plt.grid(True)\n",
    "\n",
    "plt.show()"
   ]
  },
  {
   "cell_type": "code",
   "execution_count": null,
   "metadata": {},
   "outputs": [],
   "source": []
  }
 ],
 "metadata": {
  "kernelspec": {
   "display_name": "Python 3",
   "language": "python",
   "name": "python3"
  },
  "language_info": {
   "codemirror_mode": {
    "name": "ipython",
    "version": 3
   },
   "file_extension": ".py",
   "mimetype": "text/x-python",
   "name": "python",
   "nbconvert_exporter": "python",
   "pygments_lexer": "ipython3",
   "version": "3.7.3"
  }
 },
 "nbformat": 4,
 "nbformat_minor": 2
}
