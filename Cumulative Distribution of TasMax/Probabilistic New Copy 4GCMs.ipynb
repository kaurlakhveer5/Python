{
 "cells": [
  {
   "cell_type": "markdown",
   "metadata": {},
   "source": [
    "# Calculating Extreme Heat days using daily projections from Cal-Adapt API"
   ]
  },
  {
   "cell_type": "markdown",
   "metadata": {},
   "source": [
    "#### Step 1. Download data"
   ]
  },
  {
   "cell_type": "code",
   "execution_count": 1,
   "metadata": {},
   "outputs": [],
   "source": [
    "# A 'magic' command to display plots inline\n",
    "%matplotlib inline\n",
    "\n",
    "# Import all python modules. You need to run this cell for the other cells to work.\n",
    "import requests \n",
    "import numpy as np\n",
    "import pandas as pd\n",
    "from datetime import datetime\n",
    "import itertools\n",
    "import matplotlib.pyplot as plt\n",
    "import seaborn as sns"
   ]
  },
  {
   "cell_type": "markdown",
   "metadata": {},
   "source": [
    "----\n",
    "## Step 1. Download data\n",
    "----"
   ]
  },
  {
   "cell_type": "markdown",
   "metadata": {},
   "source": [
    "### 1a. Defining your area of interest\n",
    "\n",
    "The `g` geometry parameter is used to download data for a point, line or polygon. Geometry can be written in various formats including WKT, GeoJSON, KML. The examples below use WKT (Well Known Text) format.\n",
    "\n",
    "#### To get data for a grid cell ..."
   ]
  },
  {
   "cell_type": "code",
   "execution_count": 2,
   "metadata": {},
   "outputs": [],
   "source": [
    "city = 'San Joaquin Valley'\n",
    "#point = 'POINT(-121.4687 38.5938)' # Sacramento\n",
    "point = 'POINT(-120.1106 36.3744)'  # San Joaquin Valley"
   ]
  },
  {
   "cell_type": "code",
   "execution_count": 3,
   "metadata": {},
   "outputs": [
    {
     "name": "stdout",
     "output_type": "stream",
     "text": [
      "ID is 43186\n"
     ]
    }
   ],
   "source": [
    "# Cal-Adapt API\n",
    "api = 'http://api.cal-adapt.org/api'\n",
    "\n",
    "# Name of boundary layer in API (Census Tracts)\n",
    "resource = 'locagrid'\n",
    "\n",
    "#Get ID\n",
    "url = api + '/' + resource + '/?intersects=' +  point\n",
    "\n",
    "response = requests.get(url)\n",
    "county = response.json()\n",
    "county = county['features'][0]\n",
    "id  = county['id']\n",
    "#location = 'Census Tract ID ' + str(county['properties']['tract'])\n",
    "print (\"ID is\", id)\n",
    "#print(\"location is\", location)"
   ]
  },
  {
   "cell_type": "markdown",
   "metadata": {},
   "source": [
    "### 1b. Download observed daily tasmax\n",
    "\n",
    "Daily data is stored as a multiband raster, e.g. observed daily timeseries (1950 -2013) has 23376 bands with each band corresponding to one day, starting from 1950-01-01. Units for the observed data are degrees Celsius and projected data are in Kelvin.\n",
    "\n",
    "The code in the next cell contains a bunch of functions to:\n",
    "    - fetch daily data given an ID\n",
    "    - return a new Pandas dataframe that contains all the data"
   ]
  },
  {
   "cell_type": "code",
   "execution_count": 4,
   "metadata": {},
   "outputs": [],
   "source": [
    "# Cal-Adapt API\n",
    "api = 'http://api.cal-adapt.org/api'\n",
    "# Request header\n",
    "headers = {'ContentType': 'json'}\n",
    "\n",
    "def process_daily_data(slug):\n",
    "    # Make request\n",
    "    url = api + '/series/' + slug + '/events/?ref=/api/' + resource + '/%s/&imperial=TRUE&stat=mean' % id\n",
    "    response = requests.get(url)\n",
    "    #print(response)\n",
    "    # Get data\n",
    "    if response.ok:\n",
    "        data = response.json()\n",
    "        df = pd.DataFrame(data)\n",
    "        df.set_index('index', inplace = True)\n",
    "        df.index = pd.to_datetime(df.index)\n",
    "    else:\n",
    "        print('Failed to download:')\n",
    "    return df"
   ]
  },
  {
   "cell_type": "code",
   "execution_count": 5,
   "metadata": {},
   "outputs": [],
   "source": [
    "def get_observed():\n",
    "    # Create slug\n",
    "    slug = 'tasmax_day_livneh'\n",
    "    df = process_daily_data(slug)\n",
    "    return df"
   ]
  },
  {
   "cell_type": "code",
   "execution_count": 6,
   "metadata": {
    "scrolled": true
   },
   "outputs": [
    {
     "data": {
      "text/html": [
       "<div>\n",
       "<style scoped>\n",
       "    .dataframe tbody tr th:only-of-type {\n",
       "        vertical-align: middle;\n",
       "    }\n",
       "\n",
       "    .dataframe tbody tr th {\n",
       "        vertical-align: top;\n",
       "    }\n",
       "\n",
       "    .dataframe thead th {\n",
       "        text-align: right;\n",
       "    }\n",
       "</style>\n",
       "<table border=\"1\" class=\"dataframe\">\n",
       "  <thead>\n",
       "    <tr style=\"text-align: right;\">\n",
       "      <th></th>\n",
       "      <th>name</th>\n",
       "      <th>data</th>\n",
       "    </tr>\n",
       "    <tr>\n",
       "      <th>index</th>\n",
       "      <th></th>\n",
       "      <th></th>\n",
       "    </tr>\n",
       "  </thead>\n",
       "  <tbody>\n",
       "    <tr>\n",
       "      <th>1950-01-01 00:00:00+00:00</th>\n",
       "      <td>tasmax_day_livneh</td>\n",
       "      <td>46.872498</td>\n",
       "    </tr>\n",
       "    <tr>\n",
       "      <th>1950-01-02 00:00:00+00:00</th>\n",
       "      <td>tasmax_day_livneh</td>\n",
       "      <td>46.359501</td>\n",
       "    </tr>\n",
       "    <tr>\n",
       "      <th>1950-01-03 00:00:00+00:00</th>\n",
       "      <td>tasmax_day_livneh</td>\n",
       "      <td>42.215000</td>\n",
       "    </tr>\n",
       "    <tr>\n",
       "      <th>1950-01-04 00:00:00+00:00</th>\n",
       "      <td>tasmax_day_livneh</td>\n",
       "      <td>42.781998</td>\n",
       "    </tr>\n",
       "    <tr>\n",
       "      <th>1950-01-05 00:00:00+00:00</th>\n",
       "      <td>tasmax_day_livneh</td>\n",
       "      <td>48.222504</td>\n",
       "    </tr>\n",
       "    <tr>\n",
       "      <th>1950-01-06 00:00:00+00:00</th>\n",
       "      <td>tasmax_day_livneh</td>\n",
       "      <td>53.181499</td>\n",
       "    </tr>\n",
       "    <tr>\n",
       "      <th>1950-01-07 00:00:00+00:00</th>\n",
       "      <td>tasmax_day_livneh</td>\n",
       "      <td>54.468498</td>\n",
       "    </tr>\n",
       "    <tr>\n",
       "      <th>1950-01-08 00:00:00+00:00</th>\n",
       "      <td>tasmax_day_livneh</td>\n",
       "      <td>53.392998</td>\n",
       "    </tr>\n",
       "    <tr>\n",
       "      <th>1950-01-09 00:00:00+00:00</th>\n",
       "      <td>tasmax_day_livneh</td>\n",
       "      <td>53.415497</td>\n",
       "    </tr>\n",
       "    <tr>\n",
       "      <th>1950-01-10 00:00:00+00:00</th>\n",
       "      <td>tasmax_day_livneh</td>\n",
       "      <td>56.574501</td>\n",
       "    </tr>\n",
       "    <tr>\n",
       "      <th>1950-01-11 00:00:00+00:00</th>\n",
       "      <td>tasmax_day_livneh</td>\n",
       "      <td>54.707001</td>\n",
       "    </tr>\n",
       "    <tr>\n",
       "      <th>1950-01-12 00:00:00+00:00</th>\n",
       "      <td>tasmax_day_livneh</td>\n",
       "      <td>46.723999</td>\n",
       "    </tr>\n",
       "    <tr>\n",
       "      <th>1950-01-13 00:00:00+00:00</th>\n",
       "      <td>tasmax_day_livneh</td>\n",
       "      <td>48.978500</td>\n",
       "    </tr>\n",
       "    <tr>\n",
       "      <th>1950-01-14 00:00:00+00:00</th>\n",
       "      <td>tasmax_day_livneh</td>\n",
       "      <td>50.292496</td>\n",
       "    </tr>\n",
       "    <tr>\n",
       "      <th>1950-01-15 00:00:00+00:00</th>\n",
       "      <td>tasmax_day_livneh</td>\n",
       "      <td>50.494999</td>\n",
       "    </tr>\n",
       "    <tr>\n",
       "      <th>1950-01-16 00:00:00+00:00</th>\n",
       "      <td>tasmax_day_livneh</td>\n",
       "      <td>52.290497</td>\n",
       "    </tr>\n",
       "    <tr>\n",
       "      <th>1950-01-17 00:00:00+00:00</th>\n",
       "      <td>tasmax_day_livneh</td>\n",
       "      <td>66.992004</td>\n",
       "    </tr>\n",
       "    <tr>\n",
       "      <th>1950-01-18 00:00:00+00:00</th>\n",
       "      <td>tasmax_day_livneh</td>\n",
       "      <td>68.184502</td>\n",
       "    </tr>\n",
       "    <tr>\n",
       "      <th>1950-01-19 00:00:00+00:00</th>\n",
       "      <td>tasmax_day_livneh</td>\n",
       "      <td>69.948502</td>\n",
       "    </tr>\n",
       "    <tr>\n",
       "      <th>1950-01-20 00:00:00+00:00</th>\n",
       "      <td>tasmax_day_livneh</td>\n",
       "      <td>63.904999</td>\n",
       "    </tr>\n",
       "    <tr>\n",
       "      <th>1950-01-21 00:00:00+00:00</th>\n",
       "      <td>tasmax_day_livneh</td>\n",
       "      <td>70.938507</td>\n",
       "    </tr>\n",
       "    <tr>\n",
       "      <th>1950-01-22 00:00:00+00:00</th>\n",
       "      <td>tasmax_day_livneh</td>\n",
       "      <td>68.162003</td>\n",
       "    </tr>\n",
       "    <tr>\n",
       "      <th>1950-01-23 00:00:00+00:00</th>\n",
       "      <td>tasmax_day_livneh</td>\n",
       "      <td>66.636505</td>\n",
       "    </tr>\n",
       "    <tr>\n",
       "      <th>1950-01-24 00:00:00+00:00</th>\n",
       "      <td>tasmax_day_livneh</td>\n",
       "      <td>55.971500</td>\n",
       "    </tr>\n",
       "    <tr>\n",
       "      <th>1950-01-25 00:00:00+00:00</th>\n",
       "      <td>tasmax_day_livneh</td>\n",
       "      <td>48.177498</td>\n",
       "    </tr>\n",
       "    <tr>\n",
       "      <th>1950-01-26 00:00:00+00:00</th>\n",
       "      <td>tasmax_day_livneh</td>\n",
       "      <td>52.110500</td>\n",
       "    </tr>\n",
       "    <tr>\n",
       "      <th>1950-01-27 00:00:00+00:00</th>\n",
       "      <td>tasmax_day_livneh</td>\n",
       "      <td>54.063499</td>\n",
       "    </tr>\n",
       "    <tr>\n",
       "      <th>1950-01-28 00:00:00+00:00</th>\n",
       "      <td>tasmax_day_livneh</td>\n",
       "      <td>51.961998</td>\n",
       "    </tr>\n",
       "    <tr>\n",
       "      <th>1950-01-29 00:00:00+00:00</th>\n",
       "      <td>tasmax_day_livneh</td>\n",
       "      <td>51.399498</td>\n",
       "    </tr>\n",
       "    <tr>\n",
       "      <th>1950-01-30 00:00:00+00:00</th>\n",
       "      <td>tasmax_day_livneh</td>\n",
       "      <td>53.681000</td>\n",
       "    </tr>\n",
       "    <tr>\n",
       "      <th>...</th>\n",
       "      <td>...</td>\n",
       "      <td>...</td>\n",
       "    </tr>\n",
       "    <tr>\n",
       "      <th>2013-12-02 00:00:00+00:00</th>\n",
       "      <td>tasmax_day_livneh</td>\n",
       "      <td>69.804504</td>\n",
       "    </tr>\n",
       "    <tr>\n",
       "      <th>2013-12-03 00:00:00+00:00</th>\n",
       "      <td>tasmax_day_livneh</td>\n",
       "      <td>63.342499</td>\n",
       "    </tr>\n",
       "    <tr>\n",
       "      <th>2013-12-04 00:00:00+00:00</th>\n",
       "      <td>tasmax_day_livneh</td>\n",
       "      <td>53.752998</td>\n",
       "    </tr>\n",
       "    <tr>\n",
       "      <th>2013-12-05 00:00:00+00:00</th>\n",
       "      <td>tasmax_day_livneh</td>\n",
       "      <td>51.278000</td>\n",
       "    </tr>\n",
       "    <tr>\n",
       "      <th>2013-12-06 00:00:00+00:00</th>\n",
       "      <td>tasmax_day_livneh</td>\n",
       "      <td>51.754997</td>\n",
       "    </tr>\n",
       "    <tr>\n",
       "      <th>2013-12-07 00:00:00+00:00</th>\n",
       "      <td>tasmax_day_livneh</td>\n",
       "      <td>51.309502</td>\n",
       "    </tr>\n",
       "    <tr>\n",
       "      <th>2013-12-08 00:00:00+00:00</th>\n",
       "      <td>tasmax_day_livneh</td>\n",
       "      <td>46.903999</td>\n",
       "    </tr>\n",
       "    <tr>\n",
       "      <th>2013-12-09 00:00:00+00:00</th>\n",
       "      <td>tasmax_day_livneh</td>\n",
       "      <td>50.544498</td>\n",
       "    </tr>\n",
       "    <tr>\n",
       "      <th>2013-12-10 00:00:00+00:00</th>\n",
       "      <td>tasmax_day_livneh</td>\n",
       "      <td>52.637001</td>\n",
       "    </tr>\n",
       "    <tr>\n",
       "      <th>2013-12-11 00:00:00+00:00</th>\n",
       "      <td>tasmax_day_livneh</td>\n",
       "      <td>56.821999</td>\n",
       "    </tr>\n",
       "    <tr>\n",
       "      <th>2013-12-12 00:00:00+00:00</th>\n",
       "      <td>tasmax_day_livneh</td>\n",
       "      <td>60.489502</td>\n",
       "    </tr>\n",
       "    <tr>\n",
       "      <th>2013-12-13 00:00:00+00:00</th>\n",
       "      <td>tasmax_day_livneh</td>\n",
       "      <td>60.543499</td>\n",
       "    </tr>\n",
       "    <tr>\n",
       "      <th>2013-12-14 00:00:00+00:00</th>\n",
       "      <td>tasmax_day_livneh</td>\n",
       "      <td>63.122002</td>\n",
       "    </tr>\n",
       "    <tr>\n",
       "      <th>2013-12-15 00:00:00+00:00</th>\n",
       "      <td>tasmax_day_livneh</td>\n",
       "      <td>63.814999</td>\n",
       "    </tr>\n",
       "    <tr>\n",
       "      <th>2013-12-16 00:00:00+00:00</th>\n",
       "      <td>tasmax_day_livneh</td>\n",
       "      <td>64.890503</td>\n",
       "    </tr>\n",
       "    <tr>\n",
       "      <th>2013-12-17 00:00:00+00:00</th>\n",
       "      <td>tasmax_day_livneh</td>\n",
       "      <td>65.128998</td>\n",
       "    </tr>\n",
       "    <tr>\n",
       "      <th>2013-12-18 00:00:00+00:00</th>\n",
       "      <td>tasmax_day_livneh</td>\n",
       "      <td>65.218994</td>\n",
       "    </tr>\n",
       "    <tr>\n",
       "      <th>2013-12-19 00:00:00+00:00</th>\n",
       "      <td>tasmax_day_livneh</td>\n",
       "      <td>56.844498</td>\n",
       "    </tr>\n",
       "    <tr>\n",
       "      <th>2013-12-20 00:00:00+00:00</th>\n",
       "      <td>tasmax_day_livneh</td>\n",
       "      <td>56.875999</td>\n",
       "    </tr>\n",
       "    <tr>\n",
       "      <th>2013-12-21 00:00:00+00:00</th>\n",
       "      <td>tasmax_day_livneh</td>\n",
       "      <td>60.147499</td>\n",
       "    </tr>\n",
       "    <tr>\n",
       "      <th>2013-12-22 00:00:00+00:00</th>\n",
       "      <td>tasmax_day_livneh</td>\n",
       "      <td>62.433498</td>\n",
       "    </tr>\n",
       "    <tr>\n",
       "      <th>2013-12-23 00:00:00+00:00</th>\n",
       "      <td>tasmax_day_livneh</td>\n",
       "      <td>65.979500</td>\n",
       "    </tr>\n",
       "    <tr>\n",
       "      <th>2013-12-24 00:00:00+00:00</th>\n",
       "      <td>tasmax_day_livneh</td>\n",
       "      <td>67.023499</td>\n",
       "    </tr>\n",
       "    <tr>\n",
       "      <th>2013-12-25 00:00:00+00:00</th>\n",
       "      <td>tasmax_day_livneh</td>\n",
       "      <td>67.738998</td>\n",
       "    </tr>\n",
       "    <tr>\n",
       "      <th>2013-12-26 00:00:00+00:00</th>\n",
       "      <td>tasmax_day_livneh</td>\n",
       "      <td>67.388000</td>\n",
       "    </tr>\n",
       "    <tr>\n",
       "      <th>2013-12-27 00:00:00+00:00</th>\n",
       "      <td>tasmax_day_livneh</td>\n",
       "      <td>67.275497</td>\n",
       "    </tr>\n",
       "    <tr>\n",
       "      <th>2013-12-28 00:00:00+00:00</th>\n",
       "      <td>tasmax_day_livneh</td>\n",
       "      <td>63.639496</td>\n",
       "    </tr>\n",
       "    <tr>\n",
       "      <th>2013-12-29 00:00:00+00:00</th>\n",
       "      <td>tasmax_day_livneh</td>\n",
       "      <td>64.584503</td>\n",
       "    </tr>\n",
       "    <tr>\n",
       "      <th>2013-12-30 00:00:00+00:00</th>\n",
       "      <td>tasmax_day_livneh</td>\n",
       "      <td>66.807495</td>\n",
       "    </tr>\n",
       "    <tr>\n",
       "      <th>2013-12-31 00:00:00+00:00</th>\n",
       "      <td>tasmax_day_livneh</td>\n",
       "      <td>66.074005</td>\n",
       "    </tr>\n",
       "  </tbody>\n",
       "</table>\n",
       "<p>23376 rows × 2 columns</p>\n",
       "</div>"
      ],
      "text/plain": [
       "                                        name       data\n",
       "index                                                  \n",
       "1950-01-01 00:00:00+00:00  tasmax_day_livneh  46.872498\n",
       "1950-01-02 00:00:00+00:00  tasmax_day_livneh  46.359501\n",
       "1950-01-03 00:00:00+00:00  tasmax_day_livneh  42.215000\n",
       "1950-01-04 00:00:00+00:00  tasmax_day_livneh  42.781998\n",
       "1950-01-05 00:00:00+00:00  tasmax_day_livneh  48.222504\n",
       "1950-01-06 00:00:00+00:00  tasmax_day_livneh  53.181499\n",
       "1950-01-07 00:00:00+00:00  tasmax_day_livneh  54.468498\n",
       "1950-01-08 00:00:00+00:00  tasmax_day_livneh  53.392998\n",
       "1950-01-09 00:00:00+00:00  tasmax_day_livneh  53.415497\n",
       "1950-01-10 00:00:00+00:00  tasmax_day_livneh  56.574501\n",
       "1950-01-11 00:00:00+00:00  tasmax_day_livneh  54.707001\n",
       "1950-01-12 00:00:00+00:00  tasmax_day_livneh  46.723999\n",
       "1950-01-13 00:00:00+00:00  tasmax_day_livneh  48.978500\n",
       "1950-01-14 00:00:00+00:00  tasmax_day_livneh  50.292496\n",
       "1950-01-15 00:00:00+00:00  tasmax_day_livneh  50.494999\n",
       "1950-01-16 00:00:00+00:00  tasmax_day_livneh  52.290497\n",
       "1950-01-17 00:00:00+00:00  tasmax_day_livneh  66.992004\n",
       "1950-01-18 00:00:00+00:00  tasmax_day_livneh  68.184502\n",
       "1950-01-19 00:00:00+00:00  tasmax_day_livneh  69.948502\n",
       "1950-01-20 00:00:00+00:00  tasmax_day_livneh  63.904999\n",
       "1950-01-21 00:00:00+00:00  tasmax_day_livneh  70.938507\n",
       "1950-01-22 00:00:00+00:00  tasmax_day_livneh  68.162003\n",
       "1950-01-23 00:00:00+00:00  tasmax_day_livneh  66.636505\n",
       "1950-01-24 00:00:00+00:00  tasmax_day_livneh  55.971500\n",
       "1950-01-25 00:00:00+00:00  tasmax_day_livneh  48.177498\n",
       "1950-01-26 00:00:00+00:00  tasmax_day_livneh  52.110500\n",
       "1950-01-27 00:00:00+00:00  tasmax_day_livneh  54.063499\n",
       "1950-01-28 00:00:00+00:00  tasmax_day_livneh  51.961998\n",
       "1950-01-29 00:00:00+00:00  tasmax_day_livneh  51.399498\n",
       "1950-01-30 00:00:00+00:00  tasmax_day_livneh  53.681000\n",
       "...                                      ...        ...\n",
       "2013-12-02 00:00:00+00:00  tasmax_day_livneh  69.804504\n",
       "2013-12-03 00:00:00+00:00  tasmax_day_livneh  63.342499\n",
       "2013-12-04 00:00:00+00:00  tasmax_day_livneh  53.752998\n",
       "2013-12-05 00:00:00+00:00  tasmax_day_livneh  51.278000\n",
       "2013-12-06 00:00:00+00:00  tasmax_day_livneh  51.754997\n",
       "2013-12-07 00:00:00+00:00  tasmax_day_livneh  51.309502\n",
       "2013-12-08 00:00:00+00:00  tasmax_day_livneh  46.903999\n",
       "2013-12-09 00:00:00+00:00  tasmax_day_livneh  50.544498\n",
       "2013-12-10 00:00:00+00:00  tasmax_day_livneh  52.637001\n",
       "2013-12-11 00:00:00+00:00  tasmax_day_livneh  56.821999\n",
       "2013-12-12 00:00:00+00:00  tasmax_day_livneh  60.489502\n",
       "2013-12-13 00:00:00+00:00  tasmax_day_livneh  60.543499\n",
       "2013-12-14 00:00:00+00:00  tasmax_day_livneh  63.122002\n",
       "2013-12-15 00:00:00+00:00  tasmax_day_livneh  63.814999\n",
       "2013-12-16 00:00:00+00:00  tasmax_day_livneh  64.890503\n",
       "2013-12-17 00:00:00+00:00  tasmax_day_livneh  65.128998\n",
       "2013-12-18 00:00:00+00:00  tasmax_day_livneh  65.218994\n",
       "2013-12-19 00:00:00+00:00  tasmax_day_livneh  56.844498\n",
       "2013-12-20 00:00:00+00:00  tasmax_day_livneh  56.875999\n",
       "2013-12-21 00:00:00+00:00  tasmax_day_livneh  60.147499\n",
       "2013-12-22 00:00:00+00:00  tasmax_day_livneh  62.433498\n",
       "2013-12-23 00:00:00+00:00  tasmax_day_livneh  65.979500\n",
       "2013-12-24 00:00:00+00:00  tasmax_day_livneh  67.023499\n",
       "2013-12-25 00:00:00+00:00  tasmax_day_livneh  67.738998\n",
       "2013-12-26 00:00:00+00:00  tasmax_day_livneh  67.388000\n",
       "2013-12-27 00:00:00+00:00  tasmax_day_livneh  67.275497\n",
       "2013-12-28 00:00:00+00:00  tasmax_day_livneh  63.639496\n",
       "2013-12-29 00:00:00+00:00  tasmax_day_livneh  64.584503\n",
       "2013-12-30 00:00:00+00:00  tasmax_day_livneh  66.807495\n",
       "2013-12-31 00:00:00+00:00  tasmax_day_livneh  66.074005\n",
       "\n",
       "[23376 rows x 2 columns]"
      ]
     },
     "execution_count": 6,
     "metadata": {},
     "output_type": "execute_result"
    }
   ],
   "source": [
    "observedDF = get_observed()\n",
    "observedDF"
   ]
  },
  {
   "cell_type": "markdown",
   "metadata": {},
   "source": [
    "### 1c. Download projected daily tasmax\n",
    "\n",
    "The projected daily timeseries are form 2006 - 2099/2100 and units are in degrees Kelvin. You can easily modify the code to add/subtract models, scenarios, climate variables"
   ]
  },
  {
   "cell_type": "code",
   "execution_count": 7,
   "metadata": {},
   "outputs": [],
   "source": [
    "def get_projections():\n",
    "    # Create an empty list to hold dataframes\n",
    "    df_list = []\n",
    "\n",
    "    # Make a combined list of GCMs, scenarios, climate variables for looping\n",
    "    climvar = ['tasmax']\n",
    "    period = ['day']\n",
    "    models = ['CanESM2', 'CNRM-CM5', 'HadGEM2-ES', 'MIROC5']\n",
    "    #scenarios = ['rcp45', 'rcp85', 'historical]\n",
    "    scenarios = ['historical', 'rcp85', ]\n",
    "    zipped = itertools.product(climvar, period, models, scenarios)\n",
    "    \n",
    "    # Loop through zipped\n",
    "    for item in zipped:\n",
    "        # Create slug\n",
    "        slug = '_'.join(item)\n",
    "        df = process_daily_data(slug)\n",
    "        df_list.append(df)\n",
    "            \n",
    "    # Combine all the dataframes into one and return\n",
    "    return pd.concat(df_list)"
   ]
  },
  {
   "cell_type": "code",
   "execution_count": 8,
   "metadata": {
    "scrolled": true
   },
   "outputs": [
    {
     "data": {
      "text/html": [
       "<div>\n",
       "<style scoped>\n",
       "    .dataframe tbody tr th:only-of-type {\n",
       "        vertical-align: middle;\n",
       "    }\n",
       "\n",
       "    .dataframe tbody tr th {\n",
       "        vertical-align: top;\n",
       "    }\n",
       "\n",
       "    .dataframe thead th {\n",
       "        text-align: right;\n",
       "    }\n",
       "</style>\n",
       "<table border=\"1\" class=\"dataframe\">\n",
       "  <thead>\n",
       "    <tr style=\"text-align: right;\">\n",
       "      <th></th>\n",
       "      <th>name</th>\n",
       "      <th>data</th>\n",
       "    </tr>\n",
       "    <tr>\n",
       "      <th>index</th>\n",
       "      <th></th>\n",
       "      <th></th>\n",
       "    </tr>\n",
       "  </thead>\n",
       "  <tbody>\n",
       "    <tr>\n",
       "      <th>1950-01-01 00:00:00+00:00</th>\n",
       "      <td>tasmax_day_CanESM2_historical</td>\n",
       "      <td>62.818573</td>\n",
       "    </tr>\n",
       "    <tr>\n",
       "      <th>1950-01-02 00:00:00+00:00</th>\n",
       "      <td>tasmax_day_CanESM2_historical</td>\n",
       "      <td>62.514801</td>\n",
       "    </tr>\n",
       "    <tr>\n",
       "      <th>1950-01-03 00:00:00+00:00</th>\n",
       "      <td>tasmax_day_CanESM2_historical</td>\n",
       "      <td>59.902527</td>\n",
       "    </tr>\n",
       "    <tr>\n",
       "      <th>1950-01-04 00:00:00+00:00</th>\n",
       "      <td>tasmax_day_CanESM2_historical</td>\n",
       "      <td>48.215927</td>\n",
       "    </tr>\n",
       "    <tr>\n",
       "      <th>1950-01-05 00:00:00+00:00</th>\n",
       "      <td>tasmax_day_CanESM2_historical</td>\n",
       "      <td>47.420357</td>\n",
       "    </tr>\n",
       "    <tr>\n",
       "      <th>1950-01-06 00:00:00+00:00</th>\n",
       "      <td>tasmax_day_CanESM2_historical</td>\n",
       "      <td>51.144608</td>\n",
       "    </tr>\n",
       "    <tr>\n",
       "      <th>1950-01-07 00:00:00+00:00</th>\n",
       "      <td>tasmax_day_CanESM2_historical</td>\n",
       "      <td>54.972412</td>\n",
       "    </tr>\n",
       "    <tr>\n",
       "      <th>1950-01-08 00:00:00+00:00</th>\n",
       "      <td>tasmax_day_CanESM2_historical</td>\n",
       "      <td>58.808891</td>\n",
       "    </tr>\n",
       "    <tr>\n",
       "      <th>1950-01-09 00:00:00+00:00</th>\n",
       "      <td>tasmax_day_CanESM2_historical</td>\n",
       "      <td>53.652351</td>\n",
       "    </tr>\n",
       "    <tr>\n",
       "      <th>1950-01-10 00:00:00+00:00</th>\n",
       "      <td>tasmax_day_CanESM2_historical</td>\n",
       "      <td>50.869789</td>\n",
       "    </tr>\n",
       "    <tr>\n",
       "      <th>1950-01-11 00:00:00+00:00</th>\n",
       "      <td>tasmax_day_CanESM2_historical</td>\n",
       "      <td>46.317822</td>\n",
       "    </tr>\n",
       "    <tr>\n",
       "      <th>1950-01-12 00:00:00+00:00</th>\n",
       "      <td>tasmax_day_CanESM2_historical</td>\n",
       "      <td>44.215973</td>\n",
       "    </tr>\n",
       "    <tr>\n",
       "      <th>1950-01-13 00:00:00+00:00</th>\n",
       "      <td>tasmax_day_CanESM2_historical</td>\n",
       "      <td>48.441971</td>\n",
       "    </tr>\n",
       "    <tr>\n",
       "      <th>1950-01-14 00:00:00+00:00</th>\n",
       "      <td>tasmax_day_CanESM2_historical</td>\n",
       "      <td>49.149055</td>\n",
       "    </tr>\n",
       "    <tr>\n",
       "      <th>1950-01-15 00:00:00+00:00</th>\n",
       "      <td>tasmax_day_CanESM2_historical</td>\n",
       "      <td>55.461632</td>\n",
       "    </tr>\n",
       "    <tr>\n",
       "      <th>1950-01-16 00:00:00+00:00</th>\n",
       "      <td>tasmax_day_CanESM2_historical</td>\n",
       "      <td>59.864788</td>\n",
       "    </tr>\n",
       "    <tr>\n",
       "      <th>1950-01-17 00:00:00+00:00</th>\n",
       "      <td>tasmax_day_CanESM2_historical</td>\n",
       "      <td>56.698746</td>\n",
       "    </tr>\n",
       "    <tr>\n",
       "      <th>1950-01-18 00:00:00+00:00</th>\n",
       "      <td>tasmax_day_CanESM2_historical</td>\n",
       "      <td>49.665413</td>\n",
       "    </tr>\n",
       "    <tr>\n",
       "      <th>1950-01-19 00:00:00+00:00</th>\n",
       "      <td>tasmax_day_CanESM2_historical</td>\n",
       "      <td>50.607819</td>\n",
       "    </tr>\n",
       "    <tr>\n",
       "      <th>1950-01-20 00:00:00+00:00</th>\n",
       "      <td>tasmax_day_CanESM2_historical</td>\n",
       "      <td>57.002464</td>\n",
       "    </tr>\n",
       "    <tr>\n",
       "      <th>1950-01-21 00:00:00+00:00</th>\n",
       "      <td>tasmax_day_CanESM2_historical</td>\n",
       "      <td>59.238075</td>\n",
       "    </tr>\n",
       "    <tr>\n",
       "      <th>1950-01-22 00:00:00+00:00</th>\n",
       "      <td>tasmax_day_CanESM2_historical</td>\n",
       "      <td>61.321518</td>\n",
       "    </tr>\n",
       "    <tr>\n",
       "      <th>1950-01-23 00:00:00+00:00</th>\n",
       "      <td>tasmax_day_CanESM2_historical</td>\n",
       "      <td>61.413696</td>\n",
       "    </tr>\n",
       "    <tr>\n",
       "      <th>1950-01-24 00:00:00+00:00</th>\n",
       "      <td>tasmax_day_CanESM2_historical</td>\n",
       "      <td>59.669174</td>\n",
       "    </tr>\n",
       "    <tr>\n",
       "      <th>1950-01-25 00:00:00+00:00</th>\n",
       "      <td>tasmax_day_CanESM2_historical</td>\n",
       "      <td>58.480621</td>\n",
       "    </tr>\n",
       "    <tr>\n",
       "      <th>1950-01-26 00:00:00+00:00</th>\n",
       "      <td>tasmax_day_CanESM2_historical</td>\n",
       "      <td>57.465813</td>\n",
       "    </tr>\n",
       "    <tr>\n",
       "      <th>1950-01-27 00:00:00+00:00</th>\n",
       "      <td>tasmax_day_CanESM2_historical</td>\n",
       "      <td>56.528790</td>\n",
       "    </tr>\n",
       "    <tr>\n",
       "      <th>1950-01-28 00:00:00+00:00</th>\n",
       "      <td>tasmax_day_CanESM2_historical</td>\n",
       "      <td>60.711449</td>\n",
       "    </tr>\n",
       "    <tr>\n",
       "      <th>1950-01-29 00:00:00+00:00</th>\n",
       "      <td>tasmax_day_CanESM2_historical</td>\n",
       "      <td>68.648132</td>\n",
       "    </tr>\n",
       "    <tr>\n",
       "      <th>1950-01-30 00:00:00+00:00</th>\n",
       "      <td>tasmax_day_CanESM2_historical</td>\n",
       "      <td>67.627563</td>\n",
       "    </tr>\n",
       "    <tr>\n",
       "      <th>...</th>\n",
       "      <td>...</td>\n",
       "      <td>...</td>\n",
       "    </tr>\n",
       "    <tr>\n",
       "      <th>2099-12-02 00:00:00+00:00</th>\n",
       "      <td>tasmax_day_MIROC5_rcp85</td>\n",
       "      <td>64.015701</td>\n",
       "    </tr>\n",
       "    <tr>\n",
       "      <th>2099-12-03 00:00:00+00:00</th>\n",
       "      <td>tasmax_day_MIROC5_rcp85</td>\n",
       "      <td>66.705917</td>\n",
       "    </tr>\n",
       "    <tr>\n",
       "      <th>2099-12-04 00:00:00+00:00</th>\n",
       "      <td>tasmax_day_MIROC5_rcp85</td>\n",
       "      <td>67.455017</td>\n",
       "    </tr>\n",
       "    <tr>\n",
       "      <th>2099-12-05 00:00:00+00:00</th>\n",
       "      <td>tasmax_day_MIROC5_rcp85</td>\n",
       "      <td>65.480392</td>\n",
       "    </tr>\n",
       "    <tr>\n",
       "      <th>2099-12-06 00:00:00+00:00</th>\n",
       "      <td>tasmax_day_MIROC5_rcp85</td>\n",
       "      <td>65.012436</td>\n",
       "    </tr>\n",
       "    <tr>\n",
       "      <th>2099-12-07 00:00:00+00:00</th>\n",
       "      <td>tasmax_day_MIROC5_rcp85</td>\n",
       "      <td>62.544022</td>\n",
       "    </tr>\n",
       "    <tr>\n",
       "      <th>2099-12-08 00:00:00+00:00</th>\n",
       "      <td>tasmax_day_MIROC5_rcp85</td>\n",
       "      <td>67.363235</td>\n",
       "    </tr>\n",
       "    <tr>\n",
       "      <th>2099-12-09 00:00:00+00:00</th>\n",
       "      <td>tasmax_day_MIROC5_rcp85</td>\n",
       "      <td>68.378098</td>\n",
       "    </tr>\n",
       "    <tr>\n",
       "      <th>2099-12-10 00:00:00+00:00</th>\n",
       "      <td>tasmax_day_MIROC5_rcp85</td>\n",
       "      <td>67.050507</td>\n",
       "    </tr>\n",
       "    <tr>\n",
       "      <th>2099-12-11 00:00:00+00:00</th>\n",
       "      <td>tasmax_day_MIROC5_rcp85</td>\n",
       "      <td>68.331291</td>\n",
       "    </tr>\n",
       "    <tr>\n",
       "      <th>2099-12-12 00:00:00+00:00</th>\n",
       "      <td>tasmax_day_MIROC5_rcp85</td>\n",
       "      <td>65.638763</td>\n",
       "    </tr>\n",
       "    <tr>\n",
       "      <th>2099-12-13 00:00:00+00:00</th>\n",
       "      <td>tasmax_day_MIROC5_rcp85</td>\n",
       "      <td>68.644623</td>\n",
       "    </tr>\n",
       "    <tr>\n",
       "      <th>2099-12-14 00:00:00+00:00</th>\n",
       "      <td>tasmax_day_MIROC5_rcp85</td>\n",
       "      <td>66.140396</td>\n",
       "    </tr>\n",
       "    <tr>\n",
       "      <th>2099-12-15 00:00:00+00:00</th>\n",
       "      <td>tasmax_day_MIROC5_rcp85</td>\n",
       "      <td>70.048019</td>\n",
       "    </tr>\n",
       "    <tr>\n",
       "      <th>2099-12-16 00:00:00+00:00</th>\n",
       "      <td>tasmax_day_MIROC5_rcp85</td>\n",
       "      <td>73.825775</td>\n",
       "    </tr>\n",
       "    <tr>\n",
       "      <th>2099-12-17 00:00:00+00:00</th>\n",
       "      <td>tasmax_day_MIROC5_rcp85</td>\n",
       "      <td>69.662949</td>\n",
       "    </tr>\n",
       "    <tr>\n",
       "      <th>2099-12-18 00:00:00+00:00</th>\n",
       "      <td>tasmax_day_MIROC5_rcp85</td>\n",
       "      <td>78.128624</td>\n",
       "    </tr>\n",
       "    <tr>\n",
       "      <th>2099-12-19 00:00:00+00:00</th>\n",
       "      <td>tasmax_day_MIROC5_rcp85</td>\n",
       "      <td>75.410881</td>\n",
       "    </tr>\n",
       "    <tr>\n",
       "      <th>2099-12-20 00:00:00+00:00</th>\n",
       "      <td>tasmax_day_MIROC5_rcp85</td>\n",
       "      <td>78.323517</td>\n",
       "    </tr>\n",
       "    <tr>\n",
       "      <th>2099-12-21 00:00:00+00:00</th>\n",
       "      <td>tasmax_day_MIROC5_rcp85</td>\n",
       "      <td>78.582748</td>\n",
       "    </tr>\n",
       "    <tr>\n",
       "      <th>2099-12-22 00:00:00+00:00</th>\n",
       "      <td>tasmax_day_MIROC5_rcp85</td>\n",
       "      <td>77.473015</td>\n",
       "    </tr>\n",
       "    <tr>\n",
       "      <th>2099-12-23 00:00:00+00:00</th>\n",
       "      <td>tasmax_day_MIROC5_rcp85</td>\n",
       "      <td>67.444031</td>\n",
       "    </tr>\n",
       "    <tr>\n",
       "      <th>2099-12-24 00:00:00+00:00</th>\n",
       "      <td>tasmax_day_MIROC5_rcp85</td>\n",
       "      <td>75.785355</td>\n",
       "    </tr>\n",
       "    <tr>\n",
       "      <th>2099-12-25 00:00:00+00:00</th>\n",
       "      <td>tasmax_day_MIROC5_rcp85</td>\n",
       "      <td>66.236633</td>\n",
       "    </tr>\n",
       "    <tr>\n",
       "      <th>2099-12-26 00:00:00+00:00</th>\n",
       "      <td>tasmax_day_MIROC5_rcp85</td>\n",
       "      <td>68.020378</td>\n",
       "    </tr>\n",
       "    <tr>\n",
       "      <th>2099-12-27 00:00:00+00:00</th>\n",
       "      <td>tasmax_day_MIROC5_rcp85</td>\n",
       "      <td>54.115093</td>\n",
       "    </tr>\n",
       "    <tr>\n",
       "      <th>2099-12-28 00:00:00+00:00</th>\n",
       "      <td>tasmax_day_MIROC5_rcp85</td>\n",
       "      <td>59.982559</td>\n",
       "    </tr>\n",
       "    <tr>\n",
       "      <th>2099-12-29 00:00:00+00:00</th>\n",
       "      <td>tasmax_day_MIROC5_rcp85</td>\n",
       "      <td>64.410431</td>\n",
       "    </tr>\n",
       "    <tr>\n",
       "      <th>2099-12-30 00:00:00+00:00</th>\n",
       "      <td>tasmax_day_MIROC5_rcp85</td>\n",
       "      <td>64.226364</td>\n",
       "    </tr>\n",
       "    <tr>\n",
       "      <th>2099-12-31 00:00:00+00:00</th>\n",
       "      <td>tasmax_day_MIROC5_rcp85</td>\n",
       "      <td>73.272392</td>\n",
       "    </tr>\n",
       "  </tbody>\n",
       "</table>\n",
       "<p>219878 rows × 2 columns</p>\n",
       "</div>"
      ],
      "text/plain": [
       "                                                    name       data\n",
       "index                                                              \n",
       "1950-01-01 00:00:00+00:00  tasmax_day_CanESM2_historical  62.818573\n",
       "1950-01-02 00:00:00+00:00  tasmax_day_CanESM2_historical  62.514801\n",
       "1950-01-03 00:00:00+00:00  tasmax_day_CanESM2_historical  59.902527\n",
       "1950-01-04 00:00:00+00:00  tasmax_day_CanESM2_historical  48.215927\n",
       "1950-01-05 00:00:00+00:00  tasmax_day_CanESM2_historical  47.420357\n",
       "1950-01-06 00:00:00+00:00  tasmax_day_CanESM2_historical  51.144608\n",
       "1950-01-07 00:00:00+00:00  tasmax_day_CanESM2_historical  54.972412\n",
       "1950-01-08 00:00:00+00:00  tasmax_day_CanESM2_historical  58.808891\n",
       "1950-01-09 00:00:00+00:00  tasmax_day_CanESM2_historical  53.652351\n",
       "1950-01-10 00:00:00+00:00  tasmax_day_CanESM2_historical  50.869789\n",
       "1950-01-11 00:00:00+00:00  tasmax_day_CanESM2_historical  46.317822\n",
       "1950-01-12 00:00:00+00:00  tasmax_day_CanESM2_historical  44.215973\n",
       "1950-01-13 00:00:00+00:00  tasmax_day_CanESM2_historical  48.441971\n",
       "1950-01-14 00:00:00+00:00  tasmax_day_CanESM2_historical  49.149055\n",
       "1950-01-15 00:00:00+00:00  tasmax_day_CanESM2_historical  55.461632\n",
       "1950-01-16 00:00:00+00:00  tasmax_day_CanESM2_historical  59.864788\n",
       "1950-01-17 00:00:00+00:00  tasmax_day_CanESM2_historical  56.698746\n",
       "1950-01-18 00:00:00+00:00  tasmax_day_CanESM2_historical  49.665413\n",
       "1950-01-19 00:00:00+00:00  tasmax_day_CanESM2_historical  50.607819\n",
       "1950-01-20 00:00:00+00:00  tasmax_day_CanESM2_historical  57.002464\n",
       "1950-01-21 00:00:00+00:00  tasmax_day_CanESM2_historical  59.238075\n",
       "1950-01-22 00:00:00+00:00  tasmax_day_CanESM2_historical  61.321518\n",
       "1950-01-23 00:00:00+00:00  tasmax_day_CanESM2_historical  61.413696\n",
       "1950-01-24 00:00:00+00:00  tasmax_day_CanESM2_historical  59.669174\n",
       "1950-01-25 00:00:00+00:00  tasmax_day_CanESM2_historical  58.480621\n",
       "1950-01-26 00:00:00+00:00  tasmax_day_CanESM2_historical  57.465813\n",
       "1950-01-27 00:00:00+00:00  tasmax_day_CanESM2_historical  56.528790\n",
       "1950-01-28 00:00:00+00:00  tasmax_day_CanESM2_historical  60.711449\n",
       "1950-01-29 00:00:00+00:00  tasmax_day_CanESM2_historical  68.648132\n",
       "1950-01-30 00:00:00+00:00  tasmax_day_CanESM2_historical  67.627563\n",
       "...                                                  ...        ...\n",
       "2099-12-02 00:00:00+00:00        tasmax_day_MIROC5_rcp85  64.015701\n",
       "2099-12-03 00:00:00+00:00        tasmax_day_MIROC5_rcp85  66.705917\n",
       "2099-12-04 00:00:00+00:00        tasmax_day_MIROC5_rcp85  67.455017\n",
       "2099-12-05 00:00:00+00:00        tasmax_day_MIROC5_rcp85  65.480392\n",
       "2099-12-06 00:00:00+00:00        tasmax_day_MIROC5_rcp85  65.012436\n",
       "2099-12-07 00:00:00+00:00        tasmax_day_MIROC5_rcp85  62.544022\n",
       "2099-12-08 00:00:00+00:00        tasmax_day_MIROC5_rcp85  67.363235\n",
       "2099-12-09 00:00:00+00:00        tasmax_day_MIROC5_rcp85  68.378098\n",
       "2099-12-10 00:00:00+00:00        tasmax_day_MIROC5_rcp85  67.050507\n",
       "2099-12-11 00:00:00+00:00        tasmax_day_MIROC5_rcp85  68.331291\n",
       "2099-12-12 00:00:00+00:00        tasmax_day_MIROC5_rcp85  65.638763\n",
       "2099-12-13 00:00:00+00:00        tasmax_day_MIROC5_rcp85  68.644623\n",
       "2099-12-14 00:00:00+00:00        tasmax_day_MIROC5_rcp85  66.140396\n",
       "2099-12-15 00:00:00+00:00        tasmax_day_MIROC5_rcp85  70.048019\n",
       "2099-12-16 00:00:00+00:00        tasmax_day_MIROC5_rcp85  73.825775\n",
       "2099-12-17 00:00:00+00:00        tasmax_day_MIROC5_rcp85  69.662949\n",
       "2099-12-18 00:00:00+00:00        tasmax_day_MIROC5_rcp85  78.128624\n",
       "2099-12-19 00:00:00+00:00        tasmax_day_MIROC5_rcp85  75.410881\n",
       "2099-12-20 00:00:00+00:00        tasmax_day_MIROC5_rcp85  78.323517\n",
       "2099-12-21 00:00:00+00:00        tasmax_day_MIROC5_rcp85  78.582748\n",
       "2099-12-22 00:00:00+00:00        tasmax_day_MIROC5_rcp85  77.473015\n",
       "2099-12-23 00:00:00+00:00        tasmax_day_MIROC5_rcp85  67.444031\n",
       "2099-12-24 00:00:00+00:00        tasmax_day_MIROC5_rcp85  75.785355\n",
       "2099-12-25 00:00:00+00:00        tasmax_day_MIROC5_rcp85  66.236633\n",
       "2099-12-26 00:00:00+00:00        tasmax_day_MIROC5_rcp85  68.020378\n",
       "2099-12-27 00:00:00+00:00        tasmax_day_MIROC5_rcp85  54.115093\n",
       "2099-12-28 00:00:00+00:00        tasmax_day_MIROC5_rcp85  59.982559\n",
       "2099-12-29 00:00:00+00:00        tasmax_day_MIROC5_rcp85  64.410431\n",
       "2099-12-30 00:00:00+00:00        tasmax_day_MIROC5_rcp85  64.226364\n",
       "2099-12-31 00:00:00+00:00        tasmax_day_MIROC5_rcp85  73.272392\n",
       "\n",
       "[219878 rows x 2 columns]"
      ]
     },
     "execution_count": 8,
     "metadata": {},
     "output_type": "execute_result"
    }
   ],
   "source": [
    "df = get_projections()\n",
    "df"
   ]
  },
  {
   "cell_type": "code",
   "execution_count": 9,
   "metadata": {},
   "outputs": [
    {
     "data": {
      "text/html": [
       "<div>\n",
       "<style scoped>\n",
       "    .dataframe tbody tr th:only-of-type {\n",
       "        vertical-align: middle;\n",
       "    }\n",
       "\n",
       "    .dataframe tbody tr th {\n",
       "        vertical-align: top;\n",
       "    }\n",
       "\n",
       "    .dataframe thead th {\n",
       "        text-align: right;\n",
       "    }\n",
       "</style>\n",
       "<table border=\"1\" class=\"dataframe\">\n",
       "  <thead>\n",
       "    <tr style=\"text-align: right;\">\n",
       "      <th></th>\n",
       "      <th>data</th>\n",
       "      <th>Climate Data</th>\n",
       "    </tr>\n",
       "    <tr>\n",
       "      <th>Date</th>\n",
       "      <th></th>\n",
       "      <th></th>\n",
       "    </tr>\n",
       "  </thead>\n",
       "  <tbody>\n",
       "    <tr>\n",
       "      <th>1950-01-01 00:00:00+00:00</th>\n",
       "      <td>62.818573</td>\n",
       "      <td>CanESM2</td>\n",
       "    </tr>\n",
       "    <tr>\n",
       "      <th>1950-01-02 00:00:00+00:00</th>\n",
       "      <td>62.514801</td>\n",
       "      <td>CanESM2</td>\n",
       "    </tr>\n",
       "    <tr>\n",
       "      <th>1950-01-03 00:00:00+00:00</th>\n",
       "      <td>59.902527</td>\n",
       "      <td>CanESM2</td>\n",
       "    </tr>\n",
       "    <tr>\n",
       "      <th>1950-01-04 00:00:00+00:00</th>\n",
       "      <td>48.215927</td>\n",
       "      <td>CanESM2</td>\n",
       "    </tr>\n",
       "    <tr>\n",
       "      <th>1950-01-05 00:00:00+00:00</th>\n",
       "      <td>47.420357</td>\n",
       "      <td>CanESM2</td>\n",
       "    </tr>\n",
       "  </tbody>\n",
       "</table>\n",
       "</div>"
      ],
      "text/plain": [
       "                                data Climate Data\n",
       "Date                                             \n",
       "1950-01-01 00:00:00+00:00  62.818573      CanESM2\n",
       "1950-01-02 00:00:00+00:00  62.514801      CanESM2\n",
       "1950-01-03 00:00:00+00:00  59.902527      CanESM2\n",
       "1950-01-04 00:00:00+00:00  48.215927      CanESM2\n",
       "1950-01-05 00:00:00+00:00  47.420357      CanESM2"
      ]
     },
     "execution_count": 9,
     "metadata": {},
     "output_type": "execute_result"
    }
   ],
   "source": [
    "# Keep only required parameters in slug\n",
    "df['Climate Data'] = df['name'].str.split('_', expand=True)[2] \n",
    "df.index.name = 'Date'\n",
    "df.drop(columns= 'name', inplace = True)\n",
    "df.head()"
   ]
  },
  {
   "cell_type": "code",
   "execution_count": 10,
   "metadata": {},
   "outputs": [],
   "source": [
    "df = df.pivot_table( values = 'data', index = 'Date', columns = 'Climate Data')"
   ]
  },
  {
   "cell_type": "code",
   "execution_count": 11,
   "metadata": {},
   "outputs": [
    {
     "data": {
      "text/html": [
       "<div>\n",
       "<style scoped>\n",
       "    .dataframe tbody tr th:only-of-type {\n",
       "        vertical-align: middle;\n",
       "    }\n",
       "\n",
       "    .dataframe tbody tr th {\n",
       "        vertical-align: top;\n",
       "    }\n",
       "\n",
       "    .dataframe thead th {\n",
       "        text-align: right;\n",
       "    }\n",
       "</style>\n",
       "<table border=\"1\" class=\"dataframe\">\n",
       "  <thead>\n",
       "    <tr style=\"text-align: right;\">\n",
       "      <th>Climate Data</th>\n",
       "      <th>CNRM-CM5</th>\n",
       "      <th>CanESM2</th>\n",
       "      <th>HadGEM2-ES</th>\n",
       "      <th>MIROC5</th>\n",
       "    </tr>\n",
       "    <tr>\n",
       "      <th>Date</th>\n",
       "      <th></th>\n",
       "      <th></th>\n",
       "      <th></th>\n",
       "      <th></th>\n",
       "    </tr>\n",
       "  </thead>\n",
       "  <tbody>\n",
       "    <tr>\n",
       "      <th>2100-12-27 00:00:00+00:00</th>\n",
       "      <td>67.986923</td>\n",
       "      <td>68.981796</td>\n",
       "      <td>NaN</td>\n",
       "      <td>NaN</td>\n",
       "    </tr>\n",
       "    <tr>\n",
       "      <th>2100-12-28 00:00:00+00:00</th>\n",
       "      <td>65.522858</td>\n",
       "      <td>70.731033</td>\n",
       "      <td>NaN</td>\n",
       "      <td>NaN</td>\n",
       "    </tr>\n",
       "    <tr>\n",
       "      <th>2100-12-29 00:00:00+00:00</th>\n",
       "      <td>68.131775</td>\n",
       "      <td>70.941643</td>\n",
       "      <td>NaN</td>\n",
       "      <td>NaN</td>\n",
       "    </tr>\n",
       "    <tr>\n",
       "      <th>2100-12-30 00:00:00+00:00</th>\n",
       "      <td>75.669495</td>\n",
       "      <td>62.027115</td>\n",
       "      <td>NaN</td>\n",
       "      <td>NaN</td>\n",
       "    </tr>\n",
       "    <tr>\n",
       "      <th>2100-12-31 00:00:00+00:00</th>\n",
       "      <td>69.535721</td>\n",
       "      <td>59.304047</td>\n",
       "      <td>NaN</td>\n",
       "      <td>NaN</td>\n",
       "    </tr>\n",
       "  </tbody>\n",
       "</table>\n",
       "</div>"
      ],
      "text/plain": [
       "Climate Data                CNRM-CM5    CanESM2  HadGEM2-ES  MIROC5\n",
       "Date                                                               \n",
       "2100-12-27 00:00:00+00:00  67.986923  68.981796         NaN     NaN\n",
       "2100-12-28 00:00:00+00:00  65.522858  70.731033         NaN     NaN\n",
       "2100-12-29 00:00:00+00:00  68.131775  70.941643         NaN     NaN\n",
       "2100-12-30 00:00:00+00:00  75.669495  62.027115         NaN     NaN\n",
       "2100-12-31 00:00:00+00:00  69.535721  59.304047         NaN     NaN"
      ]
     },
     "execution_count": 11,
     "metadata": {},
     "output_type": "execute_result"
    }
   ],
   "source": [
    "df.tail()"
   ]
  },
  {
   "cell_type": "code",
   "execution_count": 12,
   "metadata": {},
   "outputs": [],
   "source": [
    "month = 'July'\n",
    "df = df[df.index.month == 7]"
   ]
  },
  {
   "cell_type": "code",
   "execution_count": 13,
   "metadata": {},
   "outputs": [],
   "source": [
    "historical = df.loc['1961-01-01':'1990-12-31']\n",
    "proj = df.loc['2021-01-01':'2050-12-31']"
   ]
  },
  {
   "cell_type": "code",
   "execution_count": 14,
   "metadata": {},
   "outputs": [
    {
     "data": {
      "text/plain": [
       "0    99.740761\n",
       "1    92.123886\n",
       "2    87.621750\n",
       "3    85.553024\n",
       "4    87.451401\n",
       "dtype: float64"
      ]
     },
     "execution_count": 14,
     "metadata": {},
     "output_type": "execute_result"
    }
   ],
   "source": [
    "pd.Series(df.values.ravel('F')).head()"
   ]
  },
  {
   "cell_type": "code",
   "execution_count": 15,
   "metadata": {},
   "outputs": [],
   "source": [
    "# Stack all 4 GCM's into one\n",
    "stacked_hist = pd.Series(historical.values.ravel('F'))\n",
    "stacked_proj = pd.Series(proj.values.ravel('F'))"
   ]
  },
  {
   "cell_type": "code",
   "execution_count": 16,
   "metadata": {},
   "outputs": [
    {
     "data": {
      "text/plain": [
       "0    103.516273\n",
       "1     98.182899\n",
       "2     90.760544\n",
       "3     93.579742\n",
       "4     98.046013\n",
       "dtype: float64"
      ]
     },
     "execution_count": 16,
     "metadata": {},
     "output_type": "execute_result"
    }
   ],
   "source": [
    "stacked_hist.head()"
   ]
  },
  {
   "cell_type": "code",
   "execution_count": 17,
   "metadata": {},
   "outputs": [
    {
     "data": {
      "text/plain": [
       "count    3720.000000\n",
       "mean       97.649821\n",
       "std         5.955071\n",
       "min        73.650269\n",
       "25%        93.635952\n",
       "50%        98.316498\n",
       "75%       102.240206\n",
       "max       113.473343\n",
       "dtype: float64"
      ]
     },
     "execution_count": 17,
     "metadata": {},
     "output_type": "execute_result"
    }
   ],
   "source": [
    "stacked_hist.describe()"
   ]
  },
  {
   "cell_type": "code",
   "execution_count": 18,
   "metadata": {},
   "outputs": [
    {
     "data": {
      "text/plain": [
       "count    3720.000000\n",
       "mean      101.664700\n",
       "std         5.967246\n",
       "min        77.657860\n",
       "25%        97.651617\n",
       "50%       102.069645\n",
       "75%       106.174976\n",
       "max       118.698494\n",
       "dtype: float64"
      ]
     },
     "execution_count": 18,
     "metadata": {},
     "output_type": "execute_result"
    }
   ],
   "source": [
    "stacked_proj.describe()"
   ]
  },
  {
   "cell_type": "code",
   "execution_count": 19,
   "metadata": {},
   "outputs": [
    {
     "data": {
      "text/plain": [
       "3720"
      ]
     },
     "execution_count": 19,
     "metadata": {},
     "output_type": "execute_result"
    }
   ],
   "source": [
    "len(stacked_hist)"
   ]
  },
  {
   "cell_type": "code",
   "execution_count": 20,
   "metadata": {},
   "outputs": [],
   "source": [
    "directory = r'C:\\Users\\lkaur\\Work summer 2019\\tasmax_San_Joquan_avg.csv'\n",
    "excel_file = df.to_csv(directory, header=True) "
   ]
  },
  {
   "cell_type": "code",
   "execution_count": 21,
   "metadata": {},
   "outputs": [],
   "source": [
    "# Create bins and labels for the data\n",
    "\n",
    "bins = []\n",
    "labels = []\n",
    "# To get range from 73 to 120 with 0.5 interval\n",
    "for i in range(146,240, 1):\n",
    "    bins.append(i/2)\n",
    "    labels.append(i/2 + 0.5)\n",
    "del labels[-1]"
   ]
  },
  {
   "cell_type": "code",
   "execution_count": 22,
   "metadata": {},
   "outputs": [
    {
     "data": {
      "text/plain": [
       "94"
      ]
     },
     "execution_count": 22,
     "metadata": {},
     "output_type": "execute_result"
    }
   ],
   "source": [
    "len(bins)"
   ]
  },
  {
   "cell_type": "code",
   "execution_count": 23,
   "metadata": {},
   "outputs": [
    {
     "data": {
      "text/plain": [
       "93"
      ]
     },
     "execution_count": 23,
     "metadata": {},
     "output_type": "execute_result"
    }
   ],
   "source": [
    "len(labels)"
   ]
  },
  {
   "cell_type": "code",
   "execution_count": 24,
   "metadata": {},
   "outputs": [],
   "source": [
    "#labels = bins\n",
    "hist_binned = pd.cut(stacked_hist, bins, labels = labels)\n",
    "#hist_binned = pd.cut(historical['avg'], len(bins))\n",
    "proj_binned = pd.cut(stacked_proj, bins, labels = labels)"
   ]
  },
  {
   "cell_type": "code",
   "execution_count": 25,
   "metadata": {},
   "outputs": [
    {
     "name": "stdout",
     "output_type": "stream",
     "text": [
      "0    104.0\n",
      "1     98.5\n",
      "2     91.0\n",
      "3     94.0\n",
      "4     98.5\n",
      "dtype: category\n",
      "Categories (93, float64): [73.5 < 74.0 < 74.5 < 75.0 ... 118.0 < 118.5 < 119.0 < 119.5]\n",
      "0     91.5\n",
      "1    100.0\n",
      "2    101.5\n",
      "3    102.5\n",
      "4    107.5\n",
      "dtype: category\n",
      "Categories (93, float64): [73.5 < 74.0 < 74.5 < 75.0 ... 118.0 < 118.5 < 119.0 < 119.5]\n"
     ]
    }
   ],
   "source": [
    "print(hist_binned.head())\n",
    "print(proj_binned.head())"
   ]
  },
  {
   "cell_type": "code",
   "execution_count": 26,
   "metadata": {},
   "outputs": [],
   "source": [
    "# Find frequency of each bin #1 Count the total number when each bin occurs. #2 Divide it by total data points #3 mulitply by 100\n",
    "hist_freq = (hist_binned.groupby(hist_binned).count())/(stacked_hist.size)*100\n",
    "proj_freq = (proj_binned.groupby(proj_binned).count())/(stacked_proj.size)*100\n",
    "#grouped = s.groupby(s)"
   ]
  },
  {
   "cell_type": "code",
   "execution_count": 27,
   "metadata": {},
   "outputs": [
    {
     "data": {
      "text/plain": [
       "73.5    0.000000\n",
       "74.0    0.026882\n",
       "74.5    0.000000\n",
       "dtype: float64"
      ]
     },
     "execution_count": 27,
     "metadata": {},
     "output_type": "execute_result"
    }
   ],
   "source": [
    "hist_freq.head(3)"
   ]
  },
  {
   "cell_type": "code",
   "execution_count": 28,
   "metadata": {},
   "outputs": [
    {
     "data": {
      "text/plain": [
       "73.5    0.0\n",
       "74.0    0.0\n",
       "74.5    0.0\n",
       "dtype: float64"
      ]
     },
     "execution_count": 28,
     "metadata": {},
     "output_type": "execute_result"
    }
   ],
   "source": [
    "proj_freq.head(3)"
   ]
  },
  {
   "cell_type": "code",
   "execution_count": 29,
   "metadata": {},
   "outputs": [],
   "source": [
    "# Add the previous frequencies to get total cummulative frequency\n",
    "hist_cumm = hist_freq.cumsum()\n",
    "proj_cumm = proj_freq.cumsum()"
   ]
  },
  {
   "cell_type": "code",
   "execution_count": 30,
   "metadata": {},
   "outputs": [
    {
     "data": {
      "text/plain": [
       "117.5    100.0\n",
       "118.0    100.0\n",
       "118.5    100.0\n",
       "119.0    100.0\n",
       "119.5    100.0\n",
       "dtype: float64"
      ]
     },
     "execution_count": 30,
     "metadata": {},
     "output_type": "execute_result"
    }
   ],
   "source": [
    "hist_cumm.tail()"
   ]
  },
  {
   "cell_type": "code",
   "execution_count": 31,
   "metadata": {},
   "outputs": [
    {
     "data": {
      "text/plain": [
       "117.5     99.919355\n",
       "118.0     99.919355\n",
       "118.5     99.973118\n",
       "119.0    100.000000\n",
       "119.5    100.000000\n",
       "dtype: float64"
      ]
     },
     "execution_count": 31,
     "metadata": {},
     "output_type": "execute_result"
    }
   ],
   "source": [
    "proj_cumm.tail()"
   ]
  },
  {
   "cell_type": "markdown",
   "metadata": {},
   "source": [
    "bins = []\n",
    "for i in range(60):\n",
    "    bins.append(i)"
   ]
  },
  {
   "cell_type": "code",
   "execution_count": 32,
   "metadata": {},
   "outputs": [],
   "source": [
    "df = pd.DataFrame(\n",
    "    {'Bin': labels,\n",
    "     'Hist_Cumm%': hist_cumm,\n",
    "     'Proj_Cumm%': proj_cumm\n",
    "    })"
   ]
  },
  {
   "cell_type": "code",
   "execution_count": 33,
   "metadata": {},
   "outputs": [],
   "source": [
    "#df.set_index('Bin', inplace = True)"
   ]
  },
  {
   "cell_type": "code",
   "execution_count": 34,
   "metadata": {},
   "outputs": [
    {
     "data": {
      "text/html": [
       "<div>\n",
       "<style scoped>\n",
       "    .dataframe tbody tr th:only-of-type {\n",
       "        vertical-align: middle;\n",
       "    }\n",
       "\n",
       "    .dataframe tbody tr th {\n",
       "        vertical-align: top;\n",
       "    }\n",
       "\n",
       "    .dataframe thead th {\n",
       "        text-align: right;\n",
       "    }\n",
       "</style>\n",
       "<table border=\"1\" class=\"dataframe\">\n",
       "  <thead>\n",
       "    <tr style=\"text-align: right;\">\n",
       "      <th></th>\n",
       "      <th>Bin</th>\n",
       "      <th>Hist_Cumm%</th>\n",
       "      <th>Proj_Cumm%</th>\n",
       "    </tr>\n",
       "  </thead>\n",
       "  <tbody>\n",
       "    <tr>\n",
       "      <th>73.5</th>\n",
       "      <td>73.5</td>\n",
       "      <td>0.000000</td>\n",
       "      <td>0.0</td>\n",
       "    </tr>\n",
       "    <tr>\n",
       "      <th>74.0</th>\n",
       "      <td>74.0</td>\n",
       "      <td>0.026882</td>\n",
       "      <td>0.0</td>\n",
       "    </tr>\n",
       "    <tr>\n",
       "      <th>74.5</th>\n",
       "      <td>74.5</td>\n",
       "      <td>0.026882</td>\n",
       "      <td>0.0</td>\n",
       "    </tr>\n",
       "    <tr>\n",
       "      <th>75.0</th>\n",
       "      <td>75.0</td>\n",
       "      <td>0.026882</td>\n",
       "      <td>0.0</td>\n",
       "    </tr>\n",
       "    <tr>\n",
       "      <th>75.5</th>\n",
       "      <td>75.5</td>\n",
       "      <td>0.053763</td>\n",
       "      <td>0.0</td>\n",
       "    </tr>\n",
       "  </tbody>\n",
       "</table>\n",
       "</div>"
      ],
      "text/plain": [
       "       Bin  Hist_Cumm%  Proj_Cumm%\n",
       "73.5  73.5    0.000000         0.0\n",
       "74.0  74.0    0.026882         0.0\n",
       "74.5  74.5    0.026882         0.0\n",
       "75.0  75.0    0.026882         0.0\n",
       "75.5  75.5    0.053763         0.0"
      ]
     },
     "execution_count": 34,
     "metadata": {},
     "output_type": "execute_result"
    }
   ],
   "source": [
    "df.head()"
   ]
  },
  {
   "cell_type": "code",
   "execution_count": 35,
   "metadata": {},
   "outputs": [],
   "source": [
    "plt.rcParams['lines.linewidth'] = 3\n",
    "plt.rcParams.update({'font.size': 12})\n",
    "plt.rcParams['figure.figsize'] = [10, 10]"
   ]
  },
  {
   "cell_type": "code",
   "execution_count": 36,
   "metadata": {},
   "outputs": [
    {
     "data": {
      "image/png": "[encoded data removed]",
      "text/plain": [
       "<Figure size 720x720 with 1 Axes>"
      ]
     },
     "metadata": {
      "needs_background": "light"
     },
     "output_type": "display_data"
    }
   ],
   "source": [
    "ax = df.plot(kind=\"scatter\", x= \"Bin\" ,y=\"Hist_Cumm%\", color=\"b\", marker='D', label=\"1961-1990\", alpha = 0.8, s= 30)\n",
    "df.plot(kind=\"scatter\", x= \"Bin\" ,y=\"Proj_Cumm%\", color=\"r\", marker='^', label =\"2021-2050\", ax=ax, alpha = 0.8, s= 30)\n",
    "plt.grid(True)\n",
    "#ax.title('Livermore Speeds to Altamont Wind Prodution', weight = 'bold', fontsize = 13)\n",
    "ax.set_xlabel(\"Tmax (F)\")\n",
    "ax.set_ylabel(\"Cummulative Probability Distribution\")\n",
    "plt.suptitle('Figure 1. Changes in cumulative probabilistic distribution \\n of maximum daily temperature in ' + month + ' in ' + city + '.', fontsize=14)\n",
    "plt.show()"
   ]
  },
  {
   "cell_type": "code",
   "execution_count": 37,
   "metadata": {
    "scrolled": true
   },
   "outputs": [
    {
     "data": {
      "image/png": "[encoded data removed]",
      "text/plain": [
       "<Figure size 720x720 with 1 Axes>"
      ]
     },
     "metadata": {
      "needs_background": "light"
     },
     "output_type": "display_data"
    }
   ],
   "source": [
    "ax = df.plot(kind=\"scatter\", x =\"Hist_Cumm%\",  y= 'Proj_Cumm%', color=\"b\", marker='D' , alpha = 0.7, s= 30)\n",
    "#df.plot(kind=\"scatter\", x= \"Hist_Cumm%\" ,y=\"Hist_Cumm%\", color=\"r\", marker='^', label =\"2021-2050\", ax=ax, alpha = 0.8, s= 30)\n",
    "ax.plot([0, 1], [0, 1], transform=ax.transAxes, color = 'black', alpha = 0.7, ls = 'dashed')\n",
    "plt.grid(True)\n",
    "ax.set_xlabel(\"Historical Percentile\")\n",
    "ax.set_ylabel(\"Future Percentile\")\n",
    "plt.rcParams['figure.figsize'] = [10, 7]\n",
    "plt.show()\n",
    "#plt.suptitle('Figure 1. Changes in cumulative probabilistic distribution \\n of maximum daily temperature in ' + month + ' in ' + city + '.', fontsize=14)\n"
   ]
  },
  {
   "cell_type": "code",
   "execution_count": 39,
   "metadata": {},
   "outputs": [],
   "source": [
    "hist_proj = pd.DataFrame(\n",
    "    {\n",
    "     'stacked_hist': stacked_hist,\n",
    "     'stacked_proj': stacked_proj\n",
    "    })"
   ]
  },
  {
   "cell_type": "code",
   "execution_count": 40,
   "metadata": {},
   "outputs": [],
   "source": [
    "hist_proj = hist_proj.apply(lambda x: x.sort_values().values)"
   ]
  },
  {
   "cell_type": "code",
   "execution_count": 41,
   "metadata": {},
   "outputs": [
    {
     "data": {
      "text/html": [
       "<div>\n",
       "<style scoped>\n",
       "    .dataframe tbody tr th:only-of-type {\n",
       "        vertical-align: middle;\n",
       "    }\n",
       "\n",
       "    .dataframe tbody tr th {\n",
       "        vertical-align: top;\n",
       "    }\n",
       "\n",
       "    .dataframe thead th {\n",
       "        text-align: right;\n",
       "    }\n",
       "</style>\n",
       "<table border=\"1\" class=\"dataframe\">\n",
       "  <thead>\n",
       "    <tr style=\"text-align: right;\">\n",
       "      <th></th>\n",
       "      <th>stacked_hist</th>\n",
       "      <th>stacked_proj</th>\n",
       "    </tr>\n",
       "  </thead>\n",
       "  <tbody>\n",
       "    <tr>\n",
       "      <th>0</th>\n",
       "      <td>73.650269</td>\n",
       "      <td>77.657860</td>\n",
       "    </tr>\n",
       "    <tr>\n",
       "      <th>1</th>\n",
       "      <td>75.369247</td>\n",
       "      <td>78.073471</td>\n",
       "    </tr>\n",
       "    <tr>\n",
       "      <th>2</th>\n",
       "      <td>76.194702</td>\n",
       "      <td>78.850266</td>\n",
       "    </tr>\n",
       "    <tr>\n",
       "      <th>3</th>\n",
       "      <td>76.665085</td>\n",
       "      <td>80.513596</td>\n",
       "    </tr>\n",
       "    <tr>\n",
       "      <th>4</th>\n",
       "      <td>76.817017</td>\n",
       "      <td>80.553032</td>\n",
       "    </tr>\n",
       "  </tbody>\n",
       "</table>\n",
       "</div>"
      ],
      "text/plain": [
       "   stacked_hist  stacked_proj\n",
       "0     73.650269     77.657860\n",
       "1     75.369247     78.073471\n",
       "2     76.194702     78.850266\n",
       "3     76.665085     80.513596\n",
       "4     76.817017     80.553032"
      ]
     },
     "execution_count": 41,
     "metadata": {},
     "output_type": "execute_result"
    }
   ],
   "source": [
    "hist_proj.head()"
   ]
  },
  {
   "cell_type": "code",
   "execution_count": 42,
   "metadata": {},
   "outputs": [],
   "source": [
    "directory = r'C:\\Users\\lkaur\\Work summer 2019\\hist_proj_tasmax_San_Joquan_avg.csv'\n",
    "excel_file = hist_proj.to_csv(directory, header=True) "
   ]
  },
  {
   "cell_type": "code",
   "execution_count": 43,
   "metadata": {},
   "outputs": [
    {
     "data": {
      "image/png": "[encoded data removed]",
      "text/plain": [
       "<Figure size 720x504 with 1 Axes>"
      ]
     },
     "metadata": {
      "needs_background": "light"
     },
     "output_type": "display_data"
    }
   ],
   "source": [
    "ax = hist_proj.plot(kind=\"scatter\", x =\"stacked_hist\",  y= 'stacked_proj',  marker='o',  alpha = 0.5, s= 30, facecolors='none', edgecolors='b')\n",
    "ax.plot([0, 1], [0, 1], transform=ax.transAxes, color = 'black', alpha = 0.7, ls = 'dashed')\n",
    "plt.grid(True)\n",
    "ax.set_xlabel(\"Historical Daily tmax\")\n",
    "ax.set_ylabel(\"Future Daily tmax\")\n",
    "plt.ylim(70, 120)\n",
    "plt.xlim(70,120)\n",
    "#plt.suptitle('Figure 1. Changes in cumulative probabilistic distribution \\n of maximum daily temperature in ' + month + ' in ' + city + '.', fontsize=14)\n",
    "plt.show()"
   ]
  },
  {
   "cell_type": "code",
   "execution_count": null,
   "metadata": {},
   "outputs": [],
   "source": []
  }
 ],
 "metadata": {
  "kernelspec": {
   "display_name": "Python 3",
   "language": "python",
   "name": "python3"
  },
  "language_info": {
   "codemirror_mode": {
    "name": "ipython",
    "version": 3
   },
   "file_extension": ".py",
   "mimetype": "text/x-python",
   "name": "python",
   "nbconvert_exporter": "python",
   "pygments_lexer": "ipython3",
   "version": "3.7.3"
  }
 },
 "nbformat": 4,
 "nbformat_minor": 2
}
