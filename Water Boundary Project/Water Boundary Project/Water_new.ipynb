{
 "cells": [
  {
   "cell_type": "code",
   "execution_count": 1,
   "metadata": {},
   "outputs": [],
   "source": [
    "import requests \n",
    "import numpy as np\n",
    "import pandas as pd\n",
    "from datetime import datetime\n",
    "import itertools\n",
    "import matplotlib.pyplot as plt\n",
    "import seaborn as sns"
   ]
  },
  {
   "cell_type": "code",
   "execution_count": 2,
   "metadata": {},
   "outputs": [],
   "source": [
    "g = 'POLYGON ((-122.0625 38.0625, -121.0625 38.0625, -121.0625 38.5625, -122.0625 38.5625, -122.0625 38.0625))'\n",
    "#code run without error with below polygon\n",
    "params = {'g': g, 'stat': 'mean'}"
   ]
  },
  {
   "cell_type": "code",
   "execution_count": 3,
   "metadata": {},
   "outputs": [],
   "source": [
    "# Cal-Adapt API\n",
    "api = 'http://api.cal-adapt.org/api'\n",
    "\n",
    "# Request header\n",
    "headers = {'ContentType': 'json'}\n",
    "\n",
    "def process_daily_data(slug, params):\n",
    "    # Make request\n",
    "    url = api + '/series/' + slug + '/rasters/'\n",
    "    response = requests.get(url, params=params)\n",
    "    \n",
    "    # Get data\n",
    "    if response.ok:\n",
    "        #print('Processing:', slug)\n",
    "        json = response.json()\n",
    "        data = json['results'][0]\n",
    "        # Multiband raster data is returned by the API as a 3D array having a shape like (233376, 1, 1)\n",
    "        # Flatten the 3D array into a 1D array\n",
    "        values_arr = np.array(data['image'])\n",
    "        values_arr = values_arr.flatten()# Get total number of values -> number of days\n",
    "        length = len(values_arr)\n",
    "        start_date = datetime.strptime(data['event'], '%Y-%m-%d')\n",
    "        # Create new pandas dataframe and map each value in list to a date index\n",
    "        df = pd.DataFrame(\n",
    "            values_arr,\n",
    "            index= pd.date_range(start_date, freq='1D', periods=length),\n",
    "            columns=['value']\n",
    "        )  \n",
    "        \n",
    "    # Combine all the dataframes into one and return\n",
    "    return df"
   ]
  },
  {
   "cell_type": "code",
   "execution_count": 4,
   "metadata": {},
   "outputs": [],
   "source": [
    "def get_projections():\n",
    "    # Create an empty list to hold dataframes\n",
    "    df_list = []\n",
    "\n",
    "    # Make a combined list of GCMs, scenarios, climate variables for looping\n",
    "    climvar = ['pr']\n",
    "    period = ['day']\n",
    "    models = ['CanESM2', 'CNRM-CM5', 'HadGEM2-ES', 'MIROC5', 'ACCESS1-0', 'CCSM4', 'CESM1-BGC', 'CMCC-CMS', \n",
    "                     'GFDL-CM3', 'HadGEM2-CC']\n",
    "    scenarios = ['historical','rcp85']\n",
    "    zipped = itertools.product(climvar, period, models, scenarios)\n",
    "    print(zipped)\n",
    "    # Request parameters\n",
    "  \n",
    "    # Loop through zipped\n",
    "    for item in zipped:\n",
    "        # Create slug\n",
    "        slug = '_'.join(item)\n",
    "        df = process_daily_data(slug, params)\n",
    "        df_list.append(df)\n",
    "            \n",
    "    # Combine all the dataframes into one and return\n",
    "    return pd.concat(df_list)"
   ]
  },
  {
   "cell_type": "code",
   "execution_count": 5,
   "metadata": {},
   "outputs": [
    {
     "name": "stdout",
     "output_type": "stream",
     "text": [
      "<itertools.product object at 0x000000000B461EA0>\n"
     ]
    },
    {
     "data": {
      "text/html": [
       "<div>\n",
       "<style scoped>\n",
       "    .dataframe tbody tr th:only-of-type {\n",
       "        vertical-align: middle;\n",
       "    }\n",
       "\n",
       "    .dataframe tbody tr th {\n",
       "        vertical-align: top;\n",
       "    }\n",
       "\n",
       "    .dataframe thead th {\n",
       "        text-align: right;\n",
       "    }\n",
       "</style>\n",
       "<table border=\"1\" class=\"dataframe\">\n",
       "  <thead>\n",
       "    <tr style=\"text-align: right;\">\n",
       "      <th></th>\n",
       "      <th>value</th>\n",
       "    </tr>\n",
       "  </thead>\n",
       "  <tbody>\n",
       "    <tr>\n",
       "      <th>1950-01-01</th>\n",
       "      <td>2.365591e-04</td>\n",
       "    </tr>\n",
       "    <tr>\n",
       "      <th>1950-01-02</th>\n",
       "      <td>9.486181e-05</td>\n",
       "    </tr>\n",
       "    <tr>\n",
       "      <th>1950-01-03</th>\n",
       "      <td>1.569224e-05</td>\n",
       "    </tr>\n",
       "    <tr>\n",
       "      <th>1950-01-04</th>\n",
       "      <td>5.282777e-05</td>\n",
       "    </tr>\n",
       "    <tr>\n",
       "      <th>1950-01-05</th>\n",
       "      <td>1.384846e-05</td>\n",
       "    </tr>\n",
       "    <tr>\n",
       "      <th>1950-01-06</th>\n",
       "      <td>3.914579e-07</td>\n",
       "    </tr>\n",
       "    <tr>\n",
       "      <th>1950-01-07</th>\n",
       "      <td>2.182621e-08</td>\n",
       "    </tr>\n",
       "    <tr>\n",
       "      <th>1950-01-08</th>\n",
       "      <td>1.603315e-07</td>\n",
       "    </tr>\n",
       "    <tr>\n",
       "      <th>1950-01-09</th>\n",
       "      <td>1.676218e-06</td>\n",
       "    </tr>\n",
       "    <tr>\n",
       "      <th>1950-01-10</th>\n",
       "      <td>3.713039e-06</td>\n",
       "    </tr>\n",
       "  </tbody>\n",
       "</table>\n",
       "</div>"
      ],
      "text/plain": [
       "                   value\n",
       "1950-01-01  2.365591e-04\n",
       "1950-01-02  9.486181e-05\n",
       "1950-01-03  1.569224e-05\n",
       "1950-01-04  5.282777e-05\n",
       "1950-01-05  1.384846e-05\n",
       "1950-01-06  3.914579e-07\n",
       "1950-01-07  2.182621e-08\n",
       "1950-01-08  1.603315e-07\n",
       "1950-01-09  1.676218e-06\n",
       "1950-01-10  3.713039e-06"
      ]
     },
     "execution_count": 5,
     "metadata": {},
     "output_type": "execute_result"
    }
   ],
   "source": [
    "projectedDF = get_projections()\n",
    "projectedDF.head(10)"
   ]
  },
  {
   "cell_type": "code",
   "execution_count": 6,
   "metadata": {},
   "outputs": [],
   "source": [
    "projectedDF.index.name = 'Date'"
   ]
  },
  {
   "cell_type": "code",
   "execution_count": 7,
   "metadata": {},
   "outputs": [],
   "source": [
    "projectedDF = projectedDF.apply(lambda x: x*86400)"
   ]
  },
  {
   "cell_type": "code",
   "execution_count": 8,
   "metadata": {},
   "outputs": [],
   "source": [
    "projectedDF = projectedDF.rolling(40, center = True).mean()"
   ]
  },
  {
   "cell_type": "code",
   "execution_count": 9,
   "metadata": {},
   "outputs": [],
   "source": [
    "df = projectedDF.dropna()"
   ]
  },
  {
   "cell_type": "code",
   "execution_count": 10,
   "metadata": {},
   "outputs": [],
   "source": [
    "dates = pd.DatetimeIndex(df.index)\n",
    "df = df[(dates.month == 1) | (dates.month == 2) | (dates.month == 3) | (dates.month == 11) | (dates.month == 12)]\n",
    "    "
   ]
  },
  {
   "cell_type": "code",
   "execution_count": 11,
   "metadata": {},
   "outputs": [],
   "source": [
    "first = df.loc['1950-01-01':'1999-12-31']\n",
    "second = df.loc['2035-01-01':'2064-12-31']\n",
    "third = df.loc['2070-01-01':'2099-12-31']"
   ]
  },
  {
   "cell_type": "code",
   "execution_count": 12,
   "metadata": {},
   "outputs": [
    {
     "data": {
      "text/html": [
       "<div>\n",
       "<style scoped>\n",
       "    .dataframe tbody tr th:only-of-type {\n",
       "        vertical-align: middle;\n",
       "    }\n",
       "\n",
       "    .dataframe tbody tr th {\n",
       "        vertical-align: top;\n",
       "    }\n",
       "\n",
       "    .dataframe thead th {\n",
       "        text-align: right;\n",
       "    }\n",
       "</style>\n",
       "<table border=\"1\" class=\"dataframe\">\n",
       "  <thead>\n",
       "    <tr style=\"text-align: right;\">\n",
       "      <th></th>\n",
       "      <th>value</th>\n",
       "    </tr>\n",
       "    <tr>\n",
       "      <th>Date</th>\n",
       "      <th></th>\n",
       "    </tr>\n",
       "  </thead>\n",
       "  <tbody>\n",
       "    <tr>\n",
       "      <th>1950-01-21</th>\n",
       "      <td>0.953938</td>\n",
       "    </tr>\n",
       "    <tr>\n",
       "      <th>1950-01-22</th>\n",
       "      <td>0.442970</td>\n",
       "    </tr>\n",
       "    <tr>\n",
       "      <th>1950-01-23</th>\n",
       "      <td>0.238069</td>\n",
       "    </tr>\n",
       "    <tr>\n",
       "      <th>1950-01-24</th>\n",
       "      <td>0.204174</td>\n",
       "    </tr>\n",
       "    <tr>\n",
       "      <th>1950-01-25</th>\n",
       "      <td>0.090066</td>\n",
       "    </tr>\n",
       "  </tbody>\n",
       "</table>\n",
       "</div>"
      ],
      "text/plain": [
       "               value\n",
       "Date                \n",
       "1950-01-21  0.953938\n",
       "1950-01-22  0.442970\n",
       "1950-01-23  0.238069\n",
       "1950-01-24  0.204174\n",
       "1950-01-25  0.090066"
      ]
     },
     "execution_count": 12,
     "metadata": {},
     "output_type": "execute_result"
    }
   ],
   "source": [
    "df.head()"
   ]
  },
  {
   "cell_type": "code",
   "execution_count": 34,
   "metadata": {},
   "outputs": [
    {
     "data": {
      "text/plain": [
       "<matplotlib.figure.Figure at 0xdbf9c50>"
      ]
     },
     "execution_count": 34,
     "metadata": {},
     "output_type": "execute_result"
    },
    {
     "data": {
      "image/png": "[encoded data removed]",
      "text/plain": [
       "<matplotlib.figure.Figure at 0xc829908>"
      ]
     },
     "metadata": {},
     "output_type": "display_data"
    },
    {
     "data": {
      "text/plain": [
       "<matplotlib.figure.Figure at 0xdbf9c50>"
      ]
     },
     "metadata": {},
     "output_type": "display_data"
    }
   ],
   "source": [
    "plt.hist(df.value, bins = 80, normed=True, color = 'sandybrown', edgecolor = 'black', alpha = 0.7)\n",
    "plt.xlabel('40-day precipitation (mm/day)')\n",
    "plt.ylabel('Probability Density')\n",
    "plt.title('Historical (1950-1999)')\n",
    "plt.figure(figsize=(3,4))"
   ]
  },
  {
   "cell_type": "code",
   "execution_count": 66,
   "metadata": {},
   "outputs": [],
   "source": [
    "from scipy.stats import genextreme as gev\n",
    "fit = gev.fit(first)"
   ]
  },
  {
   "cell_type": "code",
   "execution_count": 67,
   "metadata": {},
   "outputs": [
    {
     "data": {
      "text/plain": [
       "(-0.10291885622343117, 1.6153416237454672, 1.165412736181588)"
      ]
     },
     "execution_count": 67,
     "metadata": {},
     "output_type": "execute_result"
    }
   ],
   "source": [
    "fit"
   ]
  },
  {
   "cell_type": "code",
   "execution_count": 27,
   "metadata": {},
   "outputs": [
    {
     "data": {
      "image/png": "[encoded data removed]",
      "text/plain": [
       "<matplotlib.figure.Figure at 0xda6b8d0>"
      ]
     },
     "metadata": {},
     "output_type": "display_data"
    }
   ],
   "source": [
    "ax = sns.distplot(first, hist_kws=dict(edgecolor=\"k\", linewidth=2))\n",
    "plt.xlabel('40-day precipitation (mm/day)')\n",
    "plt.ylabel('Probability Density')\n",
    "plt.title('Historical (1950-1999)')\n",
    "plt.show()"
   ]
  },
  {
   "cell_type": "code",
   "execution_count": 62,
   "metadata": {},
   "outputs": [
    {
     "data": {
      "text/plain": [
       "<matplotlib.figure.Figure at 0xe170b38>"
      ]
     },
     "execution_count": 62,
     "metadata": {},
     "output_type": "execute_result"
    },
    {
     "data": {
      "image/png": "[encoded data removed]",
      "text/plain": [
       "<matplotlib.figure.Figure at 0xc801e48>"
      ]
     },
     "metadata": {},
     "output_type": "display_data"
    },
    {
     "data": {
      "text/plain": [
       "<matplotlib.figure.Figure at 0xe170b38>"
      ]
     },
     "metadata": {},
     "output_type": "display_data"
    }
   ],
   "source": [
    "ax = sns.distplot(first, hist_kws=dict(edgecolor=\"k\", linewidth=2), color = 'g')\n",
    "plt.xlabel('40-day precipitation (mm/day)')\n",
    "plt.ylabel('Probability Density')\n",
    "plt.title('Mid-century (2035-2064)')\n",
    "plt.figure(figsize=(3,4))\n",
    "#plt.show()"
   ]
  },
  {
   "cell_type": "code",
   "execution_count": 65,
   "metadata": {},
   "outputs": [
    {
     "data": {
      "text/plain": [
       "<matplotlib.figure.Figure at 0xdeeaeb8>"
      ]
     },
     "execution_count": 65,
     "metadata": {},
     "output_type": "execute_result"
    },
    {
     "data": {
      "image/png": "[encoded data removed]",
      "text/plain": [
       "<matplotlib.figure.Figure at 0xe24d908>"
      ]
     },
     "metadata": {},
     "output_type": "display_data"
    },
    {
     "data": {
      "text/plain": [
       "<matplotlib.figure.Figure at 0xdeeaeb8>"
      ]
     },
     "metadata": {},
     "output_type": "display_data"
    }
   ],
   "source": [
    "ax = sns.distplot(third, hist_kws=dict(edgecolor=\"k\", linewidth=2), color = 'orange')\n",
    "plt.xlabel('40-day precipitation (mm/day)')\n",
    "plt.ylabel('Probability Density')\n",
    "plt.title('End-century (2070-2099)')\n",
    "plt.figure(figsize=(3,4))\n",
    "#plt.show()"
   ]
  },
  {
   "cell_type": "code",
   "execution_count": 61,
   "metadata": {},
   "outputs": [
    {
     "data": {
      "image/png": "[encoded data removed]",
      "text/plain": [
       "<matplotlib.figure.Figure at 0xf25f278>"
      ]
     },
     "metadata": {},
     "output_type": "display_data"
    }
   ],
   "source": [
    "fig = plt.figure()\n",
    "ax1 = fig.add_subplot(3, 1, 1)\n",
    "ax2 = fig.add_subplot(3, 1, 2)\n",
    "ax3 = fig.add_subplot(3, 1, 3)\n",
    "\n",
    "n, bins, patches = ax1.hist(first.value, bins = 70, normed=True, color = 'orange', edgecolor='black')\n",
    "n, bins, patches = ax2.hist(second.value, bins = 70, normed=True, color = 'g', edgecolor='black')\n",
    "n, bins, patches = ax3.hist(third.value, bins = 70, normed=True, color = 'b', edgecolor='black')\n",
    "\n",
    "#ax1.set_xlabel('40-day precipitation (mm/day)')\n",
    "#ax1.set_ylabel('Probability Density')\n",
    "ax1.set_title('Historical (1950-1999)')\n",
    "\n",
    "\n",
    "#ax2.set_xlabel('40-day precipitation (mm/day)')\n",
    "#ax2.set_ylabel('Probability Density')\n",
    "ax2.set_title('Mid-century (2035-2064)')\n",
    "\n",
    "#ax3.set_xlabel('40-day precipitation (mm/day)')\n",
    "#ax3.set_ylabel('Probability Density')\n",
    "ax3.set_title('End-century (2070-2099)')\n",
    "#fig.tight_layout()\n",
    "\n",
    "plt.subplots_adjust(top = 0.999, bottom=0.001, hspace=0.9, wspace=.1)\n",
    "#f, axs = plt.subplots(3,3,3,figsize=(15,15))\n",
    "#f, axs = plt.subplots(2,2,figsize=(15,15))"
   ]
  },
  {
   "cell_type": "code",
   "execution_count": null,
   "metadata": {},
   "outputs": [],
   "source": []
  }
 ],
 "metadata": {
  "kernelspec": {
   "display_name": "Python 3",
   "language": "python",
   "name": "python3"
  },
  "language_info": {
   "codemirror_mode": {
    "name": "ipython",
    "version": 3
   },
   "file_extension": ".py",
   "mimetype": "text/x-python",
   "name": "python",
   "nbconvert_exporter": "python",
   "pygments_lexer": "ipython3",
   "version": "3.6.4"
  }
 },
 "nbformat": 4,
 "nbformat_minor": 2
}
