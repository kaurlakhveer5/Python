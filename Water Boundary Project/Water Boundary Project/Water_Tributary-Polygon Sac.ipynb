{
 "cells": [
  {
   "cell_type": "code",
   "execution_count": 4,
   "metadata": {},
   "outputs": [],
   "source": [
    "import requests \n",
    "import numpy as np\n",
    "import pandas as pd\n",
    "from datetime import datetime\n",
    "import itertools\n",
    "import matplotlib.pyplot as plt\n",
    "import seaborn as sns"
   ]
  },
  {
   "cell_type": "code",
   "execution_count": 5,
   "metadata": {},
   "outputs": [],
   "source": [
    "#These points should be working but they are not\n",
    "#g  ='{\"type\":\"Polygon\",\"coordinates\":[[[-122.0625 38.0625], [-121.0625 38.0625],[-121.0625 38.5625],[-122.0625 38.5625],[-122.0625 38.0625]]]}'"
   ]
  },
  {
   "cell_type": "code",
   "execution_count": 6,
   "metadata": {},
   "outputs": [],
   "source": [
    "g = 'POLYGON ((-122.0625 38.0625, -121.0625 38.0625, -121.0625 38.5625, -122.0625 38.5625, -122.0625 38.0625))'\n",
    "#code run without error with below polygon\n",
    "params = {'g': g, 'stat': 'mean'}"
   ]
  },
  {
   "cell_type": "code",
   "execution_count": 7,
   "metadata": {},
   "outputs": [],
   "source": [
    "# Cal-Adapt API\n",
    "api = 'http://api.cal-adapt.org/api'\n",
    "\n",
    "# Request header\n",
    "headers = {'ContentType': 'json'}\n",
    "\n",
    "def process_daily_data(slug, params):\n",
    "    # Make request\n",
    "    url = api + '/series/' + slug + '/rasters/'\n",
    "    response = requests.get(url, params=params)\n",
    "    \n",
    "    # Get data\n",
    "    if response.ok:\n",
    "        #print('Processing:', slug)\n",
    "        json = response.json()\n",
    "        data = json['results'][0]\n",
    "        # Multiband raster data is returned by the API as a 3D array having a shape like (233376, 1, 1)\n",
    "        # Flatten the 3D array into a 1D array\n",
    "        values_arr = np.array(data['image'])\n",
    "        values_arr = values_arr.flatten()# Get total number of values -> number of days\n",
    "        length = len(values_arr)\n",
    "        # Get start date of timeseries\n",
    "        start_date = datetime.strptime(data['event'], '%Y-%m-%d')\n",
    "        \n",
    "        # Create new pandas dataframe and map each value in list to a date index\n",
    "        df = pd.DataFrame(\n",
    "            values_arr,\n",
    "            index= pd.date_range(start_date, freq='1D', periods=length),\n",
    "            columns=['value']\n",
    "        )    \n",
    "        \n",
    "        # Add slug as a column\n",
    "        df['slug'] = slug  \n",
    "\n",
    "    else:\n",
    "        print('Failed to download:', slug)\n",
    "            \n",
    "    # Combine all the dataframes into one and return\n",
    "    return df"
   ]
  },
  {
   "cell_type": "code",
   "execution_count": 11,
   "metadata": {},
   "outputs": [],
   "source": [
    "def get_projections():\n",
    "    # Create an empty list to hold dataframes\n",
    "    df_list = []\n",
    "\n",
    "    # Make a combined list of GCMs, scenarios, climate variables for looping\n",
    "    climvar = ['pr']\n",
    "    period = ['day']\n",
    "    models = ['CanESM2', 'CNRM-CM5', 'HadGEM2-ES', 'MIROC5', 'ACCESS1-0']\n",
    "    scenarios = ['historical','rcp85']\n",
    "    zipped = itertools.product(climvar, period, models, scenarios)\n",
    "    print(zipped)\n",
    "    # Request parameters\n",
    "  \n",
    "    # Loop through zipped\n",
    "    for item in zipped:\n",
    "        # Create slug\n",
    "        slug = '_'.join(item)\n",
    "        df = process_daily_data(slug, params)\n",
    "        df_list.append(df)\n",
    "            \n",
    "    # Combine all the dataframes into one and return\n",
    "    return pd.concat(df_list)"
   ]
  },
  {
   "cell_type": "code",
   "execution_count": 12,
   "metadata": {},
   "outputs": [
    {
     "name": "stdout",
     "output_type": "stream",
     "text": [
      "<itertools.product object at 0x000000000B6F29D8>\n"
     ]
    },
    {
     "data": {
      "text/html": [
       "<div>\n",
       "<style scoped>\n",
       "    .dataframe tbody tr th:only-of-type {\n",
       "        vertical-align: middle;\n",
       "    }\n",
       "\n",
       "    .dataframe tbody tr th {\n",
       "        vertical-align: top;\n",
       "    }\n",
       "\n",
       "    .dataframe thead th {\n",
       "        text-align: right;\n",
       "    }\n",
       "</style>\n",
       "<table border=\"1\" class=\"dataframe\">\n",
       "  <thead>\n",
       "    <tr style=\"text-align: right;\">\n",
       "      <th></th>\n",
       "      <th>value</th>\n",
       "      <th>slug</th>\n",
       "    </tr>\n",
       "  </thead>\n",
       "  <tbody>\n",
       "    <tr>\n",
       "      <th>1950-01-01</th>\n",
       "      <td>2.365591e-04</td>\n",
       "      <td>pr_day_CanESM2_historical</td>\n",
       "    </tr>\n",
       "    <tr>\n",
       "      <th>1950-01-02</th>\n",
       "      <td>9.486181e-05</td>\n",
       "      <td>pr_day_CanESM2_historical</td>\n",
       "    </tr>\n",
       "    <tr>\n",
       "      <th>1950-01-03</th>\n",
       "      <td>1.569224e-05</td>\n",
       "      <td>pr_day_CanESM2_historical</td>\n",
       "    </tr>\n",
       "    <tr>\n",
       "      <th>1950-01-04</th>\n",
       "      <td>5.282777e-05</td>\n",
       "      <td>pr_day_CanESM2_historical</td>\n",
       "    </tr>\n",
       "    <tr>\n",
       "      <th>1950-01-05</th>\n",
       "      <td>1.384846e-05</td>\n",
       "      <td>pr_day_CanESM2_historical</td>\n",
       "    </tr>\n",
       "    <tr>\n",
       "      <th>1950-01-06</th>\n",
       "      <td>3.914579e-07</td>\n",
       "      <td>pr_day_CanESM2_historical</td>\n",
       "    </tr>\n",
       "    <tr>\n",
       "      <th>1950-01-07</th>\n",
       "      <td>2.182621e-08</td>\n",
       "      <td>pr_day_CanESM2_historical</td>\n",
       "    </tr>\n",
       "    <tr>\n",
       "      <th>1950-01-08</th>\n",
       "      <td>1.603315e-07</td>\n",
       "      <td>pr_day_CanESM2_historical</td>\n",
       "    </tr>\n",
       "    <tr>\n",
       "      <th>1950-01-09</th>\n",
       "      <td>1.676218e-06</td>\n",
       "      <td>pr_day_CanESM2_historical</td>\n",
       "    </tr>\n",
       "    <tr>\n",
       "      <th>1950-01-10</th>\n",
       "      <td>3.713039e-06</td>\n",
       "      <td>pr_day_CanESM2_historical</td>\n",
       "    </tr>\n",
       "  </tbody>\n",
       "</table>\n",
       "</div>"
      ],
      "text/plain": [
       "                   value                       slug\n",
       "1950-01-01  2.365591e-04  pr_day_CanESM2_historical\n",
       "1950-01-02  9.486181e-05  pr_day_CanESM2_historical\n",
       "1950-01-03  1.569224e-05  pr_day_CanESM2_historical\n",
       "1950-01-04  5.282777e-05  pr_day_CanESM2_historical\n",
       "1950-01-05  1.384846e-05  pr_day_CanESM2_historical\n",
       "1950-01-06  3.914579e-07  pr_day_CanESM2_historical\n",
       "1950-01-07  2.182621e-08  pr_day_CanESM2_historical\n",
       "1950-01-08  1.603315e-07  pr_day_CanESM2_historical\n",
       "1950-01-09  1.676218e-06  pr_day_CanESM2_historical\n",
       "1950-01-10  3.713039e-06  pr_day_CanESM2_historical"
      ]
     },
     "execution_count": 12,
     "metadata": {},
     "output_type": "execute_result"
    }
   ],
   "source": [
    "projectedDF = get_projections()\n",
    "projectedDF.head(10)\n"
   ]
  },
  {
   "cell_type": "code",
   "execution_count": 13,
   "metadata": {},
   "outputs": [
    {
     "data": {
      "text/html": [
       "<div>\n",
       "<style scoped>\n",
       "    .dataframe tbody tr th:only-of-type {\n",
       "        vertical-align: middle;\n",
       "    }\n",
       "\n",
       "    .dataframe tbody tr th {\n",
       "        vertical-align: top;\n",
       "    }\n",
       "\n",
       "    .dataframe thead th {\n",
       "        text-align: right;\n",
       "    }\n",
       "</style>\n",
       "<table border=\"1\" class=\"dataframe\">\n",
       "  <thead>\n",
       "    <tr style=\"text-align: right;\">\n",
       "      <th></th>\n",
       "      <th>value</th>\n",
       "      <th>slug</th>\n",
       "    </tr>\n",
       "  </thead>\n",
       "  <tbody>\n",
       "    <tr>\n",
       "      <th>2100-12-22</th>\n",
       "      <td>2.714491e-06</td>\n",
       "      <td>pr_day_ACCESS1-0_rcp85</td>\n",
       "    </tr>\n",
       "    <tr>\n",
       "      <th>2100-12-23</th>\n",
       "      <td>1.681353e-05</td>\n",
       "      <td>pr_day_ACCESS1-0_rcp85</td>\n",
       "    </tr>\n",
       "    <tr>\n",
       "      <th>2100-12-24</th>\n",
       "      <td>7.691494e-06</td>\n",
       "      <td>pr_day_ACCESS1-0_rcp85</td>\n",
       "    </tr>\n",
       "    <tr>\n",
       "      <th>2100-12-25</th>\n",
       "      <td>4.456464e-06</td>\n",
       "      <td>pr_day_ACCESS1-0_rcp85</td>\n",
       "    </tr>\n",
       "    <tr>\n",
       "      <th>2100-12-26</th>\n",
       "      <td>2.389211e-05</td>\n",
       "      <td>pr_day_ACCESS1-0_rcp85</td>\n",
       "    </tr>\n",
       "    <tr>\n",
       "      <th>2100-12-27</th>\n",
       "      <td>1.193507e-06</td>\n",
       "      <td>pr_day_ACCESS1-0_rcp85</td>\n",
       "    </tr>\n",
       "    <tr>\n",
       "      <th>2100-12-28</th>\n",
       "      <td>2.046991e-05</td>\n",
       "      <td>pr_day_ACCESS1-0_rcp85</td>\n",
       "    </tr>\n",
       "    <tr>\n",
       "      <th>2100-12-29</th>\n",
       "      <td>3.256932e-05</td>\n",
       "      <td>pr_day_ACCESS1-0_rcp85</td>\n",
       "    </tr>\n",
       "    <tr>\n",
       "      <th>2100-12-30</th>\n",
       "      <td>0.000000e+00</td>\n",
       "      <td>pr_day_ACCESS1-0_rcp85</td>\n",
       "    </tr>\n",
       "    <tr>\n",
       "      <th>2100-12-31</th>\n",
       "      <td>1.220502e-07</td>\n",
       "      <td>pr_day_ACCESS1-0_rcp85</td>\n",
       "    </tr>\n",
       "  </tbody>\n",
       "</table>\n",
       "</div>"
      ],
      "text/plain": [
       "                   value                    slug\n",
       "2100-12-22  2.714491e-06  pr_day_ACCESS1-0_rcp85\n",
       "2100-12-23  1.681353e-05  pr_day_ACCESS1-0_rcp85\n",
       "2100-12-24  7.691494e-06  pr_day_ACCESS1-0_rcp85\n",
       "2100-12-25  4.456464e-06  pr_day_ACCESS1-0_rcp85\n",
       "2100-12-26  2.389211e-05  pr_day_ACCESS1-0_rcp85\n",
       "2100-12-27  1.193507e-06  pr_day_ACCESS1-0_rcp85\n",
       "2100-12-28  2.046991e-05  pr_day_ACCESS1-0_rcp85\n",
       "2100-12-29  3.256932e-05  pr_day_ACCESS1-0_rcp85\n",
       "2100-12-30  0.000000e+00  pr_day_ACCESS1-0_rcp85\n",
       "2100-12-31  1.220502e-07  pr_day_ACCESS1-0_rcp85"
      ]
     },
     "execution_count": 13,
     "metadata": {},
     "output_type": "execute_result"
    }
   ],
   "source": [
    "projectedDF.tail(10)"
   ]
  },
  {
   "cell_type": "code",
   "execution_count": 14,
   "metadata": {},
   "outputs": [],
   "source": [
    "temp = projectedDF['slug'].str.split('_', expand=True)[2]\n",
    "projectedDF['test'] = temp"
   ]
  },
  {
   "cell_type": "code",
   "execution_count": 15,
   "metadata": {},
   "outputs": [
    {
     "data": {
      "text/html": [
       "<div>\n",
       "<style scoped>\n",
       "    .dataframe tbody tr th:only-of-type {\n",
       "        vertical-align: middle;\n",
       "    }\n",
       "\n",
       "    .dataframe tbody tr th {\n",
       "        vertical-align: top;\n",
       "    }\n",
       "\n",
       "    .dataframe thead th {\n",
       "        text-align: right;\n",
       "    }\n",
       "</style>\n",
       "<table border=\"1\" class=\"dataframe\">\n",
       "  <thead>\n",
       "    <tr style=\"text-align: right;\">\n",
       "      <th></th>\n",
       "      <th>value</th>\n",
       "      <th>test</th>\n",
       "    </tr>\n",
       "  </thead>\n",
       "  <tbody>\n",
       "    <tr>\n",
       "      <th>1950-01-01</th>\n",
       "      <td>0.000237</td>\n",
       "      <td>CanESM2</td>\n",
       "    </tr>\n",
       "    <tr>\n",
       "      <th>1950-01-02</th>\n",
       "      <td>0.000095</td>\n",
       "      <td>CanESM2</td>\n",
       "    </tr>\n",
       "    <tr>\n",
       "      <th>1950-01-03</th>\n",
       "      <td>0.000016</td>\n",
       "      <td>CanESM2</td>\n",
       "    </tr>\n",
       "    <tr>\n",
       "      <th>1950-01-04</th>\n",
       "      <td>0.000053</td>\n",
       "      <td>CanESM2</td>\n",
       "    </tr>\n",
       "    <tr>\n",
       "      <th>1950-01-05</th>\n",
       "      <td>0.000014</td>\n",
       "      <td>CanESM2</td>\n",
       "    </tr>\n",
       "  </tbody>\n",
       "</table>\n",
       "</div>"
      ],
      "text/plain": [
       "               value     test\n",
       "1950-01-01  0.000237  CanESM2\n",
       "1950-01-02  0.000095  CanESM2\n",
       "1950-01-03  0.000016  CanESM2\n",
       "1950-01-04  0.000053  CanESM2\n",
       "1950-01-05  0.000014  CanESM2"
      ]
     },
     "execution_count": 15,
     "metadata": {},
     "output_type": "execute_result"
    }
   ],
   "source": [
    "projectedDF.drop(columns= 'slug', inplace = True)\n",
    "projectedDF.head()"
   ]
  },
  {
   "cell_type": "code",
   "execution_count": 10,
   "metadata": {},
   "outputs": [],
   "source": [
    "projectedDF.index.name = 'Date'"
   ]
  },
  {
   "cell_type": "code",
   "execution_count": 11,
   "metadata": {
    "scrolled": true
   },
   "outputs": [
    {
     "data": {
      "text/html": [
       "<div>\n",
       "<style scoped>\n",
       "    .dataframe tbody tr th:only-of-type {\n",
       "        vertical-align: middle;\n",
       "    }\n",
       "\n",
       "    .dataframe tbody tr th {\n",
       "        vertical-align: top;\n",
       "    }\n",
       "\n",
       "    .dataframe thead th {\n",
       "        text-align: right;\n",
       "    }\n",
       "</style>\n",
       "<table border=\"1\" class=\"dataframe\">\n",
       "  <thead>\n",
       "    <tr style=\"text-align: right;\">\n",
       "      <th>test</th>\n",
       "      <th>ACCESS1-0</th>\n",
       "      <th>CNRM-CM5</th>\n",
       "      <th>CanESM2</th>\n",
       "      <th>HadGEM2-ES</th>\n",
       "      <th>MIROC5</th>\n",
       "    </tr>\n",
       "    <tr>\n",
       "      <th>Date</th>\n",
       "      <th></th>\n",
       "      <th></th>\n",
       "      <th></th>\n",
       "      <th></th>\n",
       "      <th></th>\n",
       "    </tr>\n",
       "  </thead>\n",
       "  <tbody>\n",
       "    <tr>\n",
       "      <th>2100-12-27</th>\n",
       "      <td>1.193507e-06</td>\n",
       "      <td>0.000000e+00</td>\n",
       "      <td>0.000013</td>\n",
       "      <td>NaN</td>\n",
       "      <td>NaN</td>\n",
       "    </tr>\n",
       "    <tr>\n",
       "      <th>2100-12-28</th>\n",
       "      <td>2.046991e-05</td>\n",
       "      <td>2.469138e-08</td>\n",
       "      <td>0.000007</td>\n",
       "      <td>NaN</td>\n",
       "      <td>NaN</td>\n",
       "    </tr>\n",
       "    <tr>\n",
       "      <th>2100-12-29</th>\n",
       "      <td>3.256932e-05</td>\n",
       "      <td>0.000000e+00</td>\n",
       "      <td>0.000029</td>\n",
       "      <td>NaN</td>\n",
       "      <td>NaN</td>\n",
       "    </tr>\n",
       "    <tr>\n",
       "      <th>2100-12-30</th>\n",
       "      <td>0.000000e+00</td>\n",
       "      <td>1.892917e-05</td>\n",
       "      <td>0.000052</td>\n",
       "      <td>NaN</td>\n",
       "      <td>NaN</td>\n",
       "    </tr>\n",
       "    <tr>\n",
       "      <th>2100-12-31</th>\n",
       "      <td>1.220502e-07</td>\n",
       "      <td>5.725396e-06</td>\n",
       "      <td>0.000108</td>\n",
       "      <td>NaN</td>\n",
       "      <td>NaN</td>\n",
       "    </tr>\n",
       "  </tbody>\n",
       "</table>\n",
       "</div>"
      ],
      "text/plain": [
       "test           ACCESS1-0      CNRM-CM5   CanESM2  HadGEM2-ES  MIROC5\n",
       "Date                                                                \n",
       "2100-12-27  1.193507e-06  0.000000e+00  0.000013         NaN     NaN\n",
       "2100-12-28  2.046991e-05  2.469138e-08  0.000007         NaN     NaN\n",
       "2100-12-29  3.256932e-05  0.000000e+00  0.000029         NaN     NaN\n",
       "2100-12-30  0.000000e+00  1.892917e-05  0.000052         NaN     NaN\n",
       "2100-12-31  1.220502e-07  5.725396e-06  0.000108         NaN     NaN"
      ]
     },
     "execution_count": 11,
     "metadata": {},
     "output_type": "execute_result"
    }
   ],
   "source": [
    "projectedDF = projectedDF.pivot_table( values = 'value', index = 'Date', columns = 'test')\n",
    "projectedDF.tail()"
   ]
  },
  {
   "cell_type": "code",
   "execution_count": 12,
   "metadata": {},
   "outputs": [],
   "source": [
    "#projectedDF[] = projectedDF.iloc[0:4].apply(lambda x: x * 86400)\n",
    "projectedDF = projectedDF.apply(lambda x: x*86400)"
   ]
  },
  {
   "cell_type": "code",
   "execution_count": 13,
   "metadata": {
    "scrolled": true
   },
   "outputs": [
    {
     "data": {
      "text/html": [
       "<div>\n",
       "<style scoped>\n",
       "    .dataframe tbody tr th:only-of-type {\n",
       "        vertical-align: middle;\n",
       "    }\n",
       "\n",
       "    .dataframe tbody tr th {\n",
       "        vertical-align: top;\n",
       "    }\n",
       "\n",
       "    .dataframe thead th {\n",
       "        text-align: right;\n",
       "    }\n",
       "</style>\n",
       "<table border=\"1\" class=\"dataframe\">\n",
       "  <thead>\n",
       "    <tr style=\"text-align: right;\">\n",
       "      <th>test</th>\n",
       "      <th>ACCESS1-0</th>\n",
       "      <th>CNRM-CM5</th>\n",
       "      <th>CanESM2</th>\n",
       "      <th>HadGEM2-ES</th>\n",
       "      <th>MIROC5</th>\n",
       "    </tr>\n",
       "    <tr>\n",
       "      <th>Date</th>\n",
       "      <th></th>\n",
       "      <th></th>\n",
       "      <th></th>\n",
       "      <th></th>\n",
       "      <th></th>\n",
       "    </tr>\n",
       "  </thead>\n",
       "  <tbody>\n",
       "    <tr>\n",
       "      <th>2020-12-05</th>\n",
       "      <td>0.000666</td>\n",
       "      <td>0.000000</td>\n",
       "      <td>0.294723</td>\n",
       "      <td>35.102032</td>\n",
       "      <td>0.034454</td>\n",
       "    </tr>\n",
       "    <tr>\n",
       "      <th>2020-12-06</th>\n",
       "      <td>0.499034</td>\n",
       "      <td>0.449703</td>\n",
       "      <td>0.036967</td>\n",
       "      <td>31.971822</td>\n",
       "      <td>0.002343</td>\n",
       "    </tr>\n",
       "    <tr>\n",
       "      <th>2020-12-07</th>\n",
       "      <td>0.009977</td>\n",
       "      <td>0.316542</td>\n",
       "      <td>0.002361</td>\n",
       "      <td>16.012340</td>\n",
       "      <td>0.155503</td>\n",
       "    </tr>\n",
       "    <tr>\n",
       "      <th>2020-12-08</th>\n",
       "      <td>0.000000</td>\n",
       "      <td>16.480947</td>\n",
       "      <td>0.017380</td>\n",
       "      <td>8.964790</td>\n",
       "      <td>7.171675</td>\n",
       "    </tr>\n",
       "    <tr>\n",
       "      <th>2020-12-09</th>\n",
       "      <td>0.101625</td>\n",
       "      <td>27.410539</td>\n",
       "      <td>0.019662</td>\n",
       "      <td>1.563159</td>\n",
       "      <td>1.528375</td>\n",
       "    </tr>\n",
       "    <tr>\n",
       "      <th>2020-12-10</th>\n",
       "      <td>0.143502</td>\n",
       "      <td>7.962751</td>\n",
       "      <td>0.000000</td>\n",
       "      <td>0.000000</td>\n",
       "      <td>4.641237</td>\n",
       "    </tr>\n",
       "    <tr>\n",
       "      <th>2020-12-11</th>\n",
       "      <td>0.000022</td>\n",
       "      <td>4.275237</td>\n",
       "      <td>0.177635</td>\n",
       "      <td>0.045304</td>\n",
       "      <td>0.147231</td>\n",
       "    </tr>\n",
       "    <tr>\n",
       "      <th>2020-12-12</th>\n",
       "      <td>0.000000</td>\n",
       "      <td>2.861081</td>\n",
       "      <td>0.003691</td>\n",
       "      <td>0.000000</td>\n",
       "      <td>0.038967</td>\n",
       "    </tr>\n",
       "    <tr>\n",
       "      <th>2020-12-13</th>\n",
       "      <td>0.000082</td>\n",
       "      <td>0.593230</td>\n",
       "      <td>0.037894</td>\n",
       "      <td>0.009132</td>\n",
       "      <td>0.088727</td>\n",
       "    </tr>\n",
       "    <tr>\n",
       "      <th>2020-12-14</th>\n",
       "      <td>0.008099</td>\n",
       "      <td>0.191818</td>\n",
       "      <td>0.955829</td>\n",
       "      <td>0.035760</td>\n",
       "      <td>0.018161</td>\n",
       "    </tr>\n",
       "    <tr>\n",
       "      <th>2020-12-15</th>\n",
       "      <td>0.001588</td>\n",
       "      <td>0.061171</td>\n",
       "      <td>0.000000</td>\n",
       "      <td>1.925129</td>\n",
       "      <td>0.036853</td>\n",
       "    </tr>\n",
       "    <tr>\n",
       "      <th>2020-12-16</th>\n",
       "      <td>0.000000</td>\n",
       "      <td>6.848104</td>\n",
       "      <td>0.025892</td>\n",
       "      <td>0.715864</td>\n",
       "      <td>1.696007</td>\n",
       "    </tr>\n",
       "    <tr>\n",
       "      <th>2020-12-17</th>\n",
       "      <td>0.000000</td>\n",
       "      <td>27.211618</td>\n",
       "      <td>5.574603</td>\n",
       "      <td>0.000000</td>\n",
       "      <td>4.011884</td>\n",
       "    </tr>\n",
       "    <tr>\n",
       "      <th>2020-12-18</th>\n",
       "      <td>0.000100</td>\n",
       "      <td>10.762338</td>\n",
       "      <td>9.857918</td>\n",
       "      <td>0.004271</td>\n",
       "      <td>0.000892</td>\n",
       "    </tr>\n",
       "    <tr>\n",
       "      <th>2020-12-19</th>\n",
       "      <td>0.000000</td>\n",
       "      <td>0.000000</td>\n",
       "      <td>34.021005</td>\n",
       "      <td>1.346408</td>\n",
       "      <td>0.099522</td>\n",
       "    </tr>\n",
       "    <tr>\n",
       "      <th>2020-12-20</th>\n",
       "      <td>0.000000</td>\n",
       "      <td>0.000000</td>\n",
       "      <td>17.382198</td>\n",
       "      <td>0.179602</td>\n",
       "      <td>4.488543</td>\n",
       "    </tr>\n",
       "    <tr>\n",
       "      <th>2020-12-21</th>\n",
       "      <td>0.000000</td>\n",
       "      <td>0.000000</td>\n",
       "      <td>0.002290</td>\n",
       "      <td>0.000000</td>\n",
       "      <td>0.082519</td>\n",
       "    </tr>\n",
       "    <tr>\n",
       "      <th>2020-12-22</th>\n",
       "      <td>0.000000</td>\n",
       "      <td>0.276629</td>\n",
       "      <td>0.889428</td>\n",
       "      <td>0.050739</td>\n",
       "      <td>0.000817</td>\n",
       "    </tr>\n",
       "    <tr>\n",
       "      <th>2020-12-23</th>\n",
       "      <td>0.000000</td>\n",
       "      <td>1.007651</td>\n",
       "      <td>17.796143</td>\n",
       "      <td>0.000000</td>\n",
       "      <td>9.965250</td>\n",
       "    </tr>\n",
       "    <tr>\n",
       "      <th>2020-12-24</th>\n",
       "      <td>0.000000</td>\n",
       "      <td>5.329781</td>\n",
       "      <td>33.903208</td>\n",
       "      <td>0.000000</td>\n",
       "      <td>11.786358</td>\n",
       "    </tr>\n",
       "    <tr>\n",
       "      <th>2020-12-25</th>\n",
       "      <td>0.000000</td>\n",
       "      <td>3.192358</td>\n",
       "      <td>17.221437</td>\n",
       "      <td>0.000000</td>\n",
       "      <td>5.458159</td>\n",
       "    </tr>\n",
       "    <tr>\n",
       "      <th>2020-12-26</th>\n",
       "      <td>0.000000</td>\n",
       "      <td>1.307936</td>\n",
       "      <td>8.163501</td>\n",
       "      <td>0.000000</td>\n",
       "      <td>11.155893</td>\n",
       "    </tr>\n",
       "    <tr>\n",
       "      <th>2020-12-27</th>\n",
       "      <td>0.057069</td>\n",
       "      <td>0.000181</td>\n",
       "      <td>5.139592</td>\n",
       "      <td>0.000000</td>\n",
       "      <td>4.990508</td>\n",
       "    </tr>\n",
       "    <tr>\n",
       "      <th>2020-12-28</th>\n",
       "      <td>0.000000</td>\n",
       "      <td>0.000000</td>\n",
       "      <td>3.500426</td>\n",
       "      <td>0.000000</td>\n",
       "      <td>0.041839</td>\n",
       "    </tr>\n",
       "    <tr>\n",
       "      <th>2020-12-29</th>\n",
       "      <td>1.205495</td>\n",
       "      <td>0.016265</td>\n",
       "      <td>0.137831</td>\n",
       "      <td>0.000000</td>\n",
       "      <td>0.019983</td>\n",
       "    </tr>\n",
       "    <tr>\n",
       "      <th>2020-12-30</th>\n",
       "      <td>0.584503</td>\n",
       "      <td>0.023806</td>\n",
       "      <td>0.000000</td>\n",
       "      <td>0.000000</td>\n",
       "      <td>0.000462</td>\n",
       "    </tr>\n",
       "    <tr>\n",
       "      <th>2020-12-31</th>\n",
       "      <td>0.000000</td>\n",
       "      <td>0.000000</td>\n",
       "      <td>0.000000</td>\n",
       "      <td>0.011688</td>\n",
       "      <td>6.583555</td>\n",
       "    </tr>\n",
       "  </tbody>\n",
       "</table>\n",
       "</div>"
      ],
      "text/plain": [
       "test        ACCESS1-0   CNRM-CM5    CanESM2  HadGEM2-ES     MIROC5\n",
       "Date                                                              \n",
       "2020-12-05   0.000666   0.000000   0.294723   35.102032   0.034454\n",
       "2020-12-06   0.499034   0.449703   0.036967   31.971822   0.002343\n",
       "2020-12-07   0.009977   0.316542   0.002361   16.012340   0.155503\n",
       "2020-12-08   0.000000  16.480947   0.017380    8.964790   7.171675\n",
       "2020-12-09   0.101625  27.410539   0.019662    1.563159   1.528375\n",
       "2020-12-10   0.143502   7.962751   0.000000    0.000000   4.641237\n",
       "2020-12-11   0.000022   4.275237   0.177635    0.045304   0.147231\n",
       "2020-12-12   0.000000   2.861081   0.003691    0.000000   0.038967\n",
       "2020-12-13   0.000082   0.593230   0.037894    0.009132   0.088727\n",
       "2020-12-14   0.008099   0.191818   0.955829    0.035760   0.018161\n",
       "2020-12-15   0.001588   0.061171   0.000000    1.925129   0.036853\n",
       "2020-12-16   0.000000   6.848104   0.025892    0.715864   1.696007\n",
       "2020-12-17   0.000000  27.211618   5.574603    0.000000   4.011884\n",
       "2020-12-18   0.000100  10.762338   9.857918    0.004271   0.000892\n",
       "2020-12-19   0.000000   0.000000  34.021005    1.346408   0.099522\n",
       "2020-12-20   0.000000   0.000000  17.382198    0.179602   4.488543\n",
       "2020-12-21   0.000000   0.000000   0.002290    0.000000   0.082519\n",
       "2020-12-22   0.000000   0.276629   0.889428    0.050739   0.000817\n",
       "2020-12-23   0.000000   1.007651  17.796143    0.000000   9.965250\n",
       "2020-12-24   0.000000   5.329781  33.903208    0.000000  11.786358\n",
       "2020-12-25   0.000000   3.192358  17.221437    0.000000   5.458159\n",
       "2020-12-26   0.000000   1.307936   8.163501    0.000000  11.155893\n",
       "2020-12-27   0.057069   0.000181   5.139592    0.000000   4.990508\n",
       "2020-12-28   0.000000   0.000000   3.500426    0.000000   0.041839\n",
       "2020-12-29   1.205495   0.016265   0.137831    0.000000   0.019983\n",
       "2020-12-30   0.584503   0.023806   0.000000    0.000000   0.000462\n",
       "2020-12-31   0.000000   0.000000   0.000000    0.011688   6.583555"
      ]
     },
     "execution_count": 13,
     "metadata": {},
     "output_type": "execute_result"
    }
   ],
   "source": [
    "projectedDF.loc['2020-12-05': '2020-12-31', :]\n",
    "#projectedDF.tail(40)\n"
   ]
  },
  {
   "cell_type": "code",
   "execution_count": 14,
   "metadata": {},
   "outputs": [
    {
     "data": {
      "text/plain": [
       "(55152, 5)"
      ]
     },
     "execution_count": 14,
     "metadata": {},
     "output_type": "execute_result"
    }
   ],
   "source": [
    "projectedDF.shape"
   ]
  },
  {
   "cell_type": "markdown",
   "metadata": {},
   "source": []
  },
  {
   "cell_type": "code",
   "execution_count": 15,
   "metadata": {},
   "outputs": [],
   "source": [
    "projectedDF = projectedDF.rolling(40, center = True).mean()\n"
   ]
  },
  {
   "cell_type": "code",
   "execution_count": 16,
   "metadata": {},
   "outputs": [
    {
     "data": {
      "text/html": [
       "<div>\n",
       "<style scoped>\n",
       "    .dataframe tbody tr th:only-of-type {\n",
       "        vertical-align: middle;\n",
       "    }\n",
       "\n",
       "    .dataframe tbody tr th {\n",
       "        vertical-align: top;\n",
       "    }\n",
       "\n",
       "    .dataframe thead th {\n",
       "        text-align: right;\n",
       "    }\n",
       "</style>\n",
       "<table border=\"1\" class=\"dataframe\">\n",
       "  <thead>\n",
       "    <tr style=\"text-align: right;\">\n",
       "      <th>test</th>\n",
       "      <th>ACCESS1-0</th>\n",
       "      <th>CNRM-CM5</th>\n",
       "      <th>CanESM2</th>\n",
       "      <th>HadGEM2-ES</th>\n",
       "      <th>MIROC5</th>\n",
       "    </tr>\n",
       "    <tr>\n",
       "      <th>Date</th>\n",
       "      <th></th>\n",
       "      <th></th>\n",
       "      <th></th>\n",
       "      <th></th>\n",
       "      <th></th>\n",
       "    </tr>\n",
       "  </thead>\n",
       "  <tbody>\n",
       "    <tr>\n",
       "      <th>1950-01-01</th>\n",
       "      <td>NaN</td>\n",
       "      <td>NaN</td>\n",
       "      <td>NaN</td>\n",
       "      <td>NaN</td>\n",
       "      <td>NaN</td>\n",
       "    </tr>\n",
       "    <tr>\n",
       "      <th>1950-01-02</th>\n",
       "      <td>NaN</td>\n",
       "      <td>NaN</td>\n",
       "      <td>NaN</td>\n",
       "      <td>NaN</td>\n",
       "      <td>NaN</td>\n",
       "    </tr>\n",
       "  </tbody>\n",
       "</table>\n",
       "</div>"
      ],
      "text/plain": [
       "test        ACCESS1-0  CNRM-CM5  CanESM2  HadGEM2-ES  MIROC5\n",
       "Date                                                        \n",
       "1950-01-01        NaN       NaN      NaN         NaN     NaN\n",
       "1950-01-02        NaN       NaN      NaN         NaN     NaN"
      ]
     },
     "execution_count": 16,
     "metadata": {},
     "output_type": "execute_result"
    }
   ],
   "source": [
    "projectedDF.head(2)"
   ]
  },
  {
   "cell_type": "code",
   "execution_count": 17,
   "metadata": {},
   "outputs": [],
   "source": [
    " df = projectedDF.dropna()"
   ]
  },
  {
   "cell_type": "code",
   "execution_count": 18,
   "metadata": {},
   "outputs": [
    {
     "data": {
      "text/html": [
       "<div>\n",
       "<style scoped>\n",
       "    .dataframe tbody tr th:only-of-type {\n",
       "        vertical-align: middle;\n",
       "    }\n",
       "\n",
       "    .dataframe tbody tr th {\n",
       "        vertical-align: top;\n",
       "    }\n",
       "\n",
       "    .dataframe thead th {\n",
       "        text-align: right;\n",
       "    }\n",
       "</style>\n",
       "<table border=\"1\" class=\"dataframe\">\n",
       "  <thead>\n",
       "    <tr style=\"text-align: right;\">\n",
       "      <th>test</th>\n",
       "      <th>ACCESS1-0</th>\n",
       "      <th>CNRM-CM5</th>\n",
       "      <th>CanESM2</th>\n",
       "      <th>HadGEM2-ES</th>\n",
       "      <th>MIROC5</th>\n",
       "    </tr>\n",
       "    <tr>\n",
       "      <th>Date</th>\n",
       "      <th></th>\n",
       "      <th></th>\n",
       "      <th></th>\n",
       "      <th></th>\n",
       "      <th></th>\n",
       "    </tr>\n",
       "  </thead>\n",
       "  <tbody>\n",
       "    <tr>\n",
       "      <th>1950-01-21</th>\n",
       "      <td>8.274737</td>\n",
       "      <td>2.672865</td>\n",
       "      <td>0.953938</td>\n",
       "      <td>1.093786</td>\n",
       "      <td>3.589355</td>\n",
       "    </tr>\n",
       "    <tr>\n",
       "      <th>1950-01-22</th>\n",
       "      <td>8.531320</td>\n",
       "      <td>2.683357</td>\n",
       "      <td>0.442970</td>\n",
       "      <td>1.098619</td>\n",
       "      <td>4.103075</td>\n",
       "    </tr>\n",
       "    <tr>\n",
       "      <th>1950-01-23</th>\n",
       "      <td>8.589464</td>\n",
       "      <td>2.679939</td>\n",
       "      <td>0.238069</td>\n",
       "      <td>1.093331</td>\n",
       "      <td>4.716383</td>\n",
       "    </tr>\n",
       "    <tr>\n",
       "      <th>1950-01-24</th>\n",
       "      <td>8.223405</td>\n",
       "      <td>2.683961</td>\n",
       "      <td>0.204174</td>\n",
       "      <td>1.090093</td>\n",
       "      <td>4.782427</td>\n",
       "    </tr>\n",
       "    <tr>\n",
       "      <th>1950-01-25</th>\n",
       "      <td>8.032703</td>\n",
       "      <td>2.739196</td>\n",
       "      <td>0.090066</td>\n",
       "      <td>1.063572</td>\n",
       "      <td>4.778191</td>\n",
       "    </tr>\n",
       "  </tbody>\n",
       "</table>\n",
       "</div>"
      ],
      "text/plain": [
       "test        ACCESS1-0  CNRM-CM5   CanESM2  HadGEM2-ES    MIROC5\n",
       "Date                                                           \n",
       "1950-01-21   8.274737  2.672865  0.953938    1.093786  3.589355\n",
       "1950-01-22   8.531320  2.683357  0.442970    1.098619  4.103075\n",
       "1950-01-23   8.589464  2.679939  0.238069    1.093331  4.716383\n",
       "1950-01-24   8.223405  2.683961  0.204174    1.090093  4.782427\n",
       "1950-01-25   8.032703  2.739196  0.090066    1.063572  4.778191"
      ]
     },
     "execution_count": 18,
     "metadata": {},
     "output_type": "execute_result"
    }
   ],
   "source": [
    "df.head()"
   ]
  },
  {
   "cell_type": "code",
   "execution_count": 19,
   "metadata": {},
   "outputs": [],
   "source": [
    "from scipy.stats import genextreme as gev\n",
    "#fit = gev.fit(df.MIROC5)\n",
    "#fit"
   ]
  },
  {
   "cell_type": "code",
   "execution_count": 20,
   "metadata": {},
   "outputs": [
    {
     "data": {
      "text/plain": [
       "(-2.2157588843362506, 0.09831006023708097, 0.227644436552213)"
      ]
     },
     "execution_count": 20,
     "metadata": {},
     "output_type": "execute_result"
    }
   ],
   "source": [
    "#from scipy.stats import genextreme as gev\n",
    "fit = gev.fit(df)\n",
    "fit"
   ]
  },
  {
   "cell_type": "code",
   "execution_count": 21,
   "metadata": {},
   "outputs": [],
   "source": [
    "dates = pd.DatetimeIndex(df.index)"
   ]
  },
  {
   "cell_type": "code",
   "execution_count": 22,
   "metadata": {},
   "outputs": [],
   "source": [
    "#test = df.dates.apply(lambda x: (x.month == 1) | (x.month == 2))\n",
    "#def test(data):\n",
    "df = df[(dates.month == 1) | (dates.month == 2) | (dates.month == 3) | (dates.month == 11) | (dates.month == 12)]\n",
    "    "
   ]
  },
  {
   "cell_type": "code",
   "execution_count": 23,
   "metadata": {},
   "outputs": [
    {
     "data": {
      "text/html": [
       "<div>\n",
       "<style scoped>\n",
       "    .dataframe tbody tr th:only-of-type {\n",
       "        vertical-align: middle;\n",
       "    }\n",
       "\n",
       "    .dataframe tbody tr th {\n",
       "        vertical-align: top;\n",
       "    }\n",
       "\n",
       "    .dataframe thead th {\n",
       "        text-align: right;\n",
       "    }\n",
       "</style>\n",
       "<table border=\"1\" class=\"dataframe\">\n",
       "  <thead>\n",
       "    <tr style=\"text-align: right;\">\n",
       "      <th>test</th>\n",
       "      <th>ACCESS1-0</th>\n",
       "      <th>CNRM-CM5</th>\n",
       "      <th>CanESM2</th>\n",
       "      <th>HadGEM2-ES</th>\n",
       "      <th>MIROC5</th>\n",
       "    </tr>\n",
       "    <tr>\n",
       "      <th>Date</th>\n",
       "      <th></th>\n",
       "      <th></th>\n",
       "      <th></th>\n",
       "      <th></th>\n",
       "      <th></th>\n",
       "    </tr>\n",
       "  </thead>\n",
       "  <tbody>\n",
       "    <tr>\n",
       "      <th>1950-01-21</th>\n",
       "      <td>8.274737</td>\n",
       "      <td>2.672865</td>\n",
       "      <td>0.953938</td>\n",
       "      <td>1.093786</td>\n",
       "      <td>3.589355</td>\n",
       "    </tr>\n",
       "    <tr>\n",
       "      <th>1950-01-22</th>\n",
       "      <td>8.531320</td>\n",
       "      <td>2.683357</td>\n",
       "      <td>0.442970</td>\n",
       "      <td>1.098619</td>\n",
       "      <td>4.103075</td>\n",
       "    </tr>\n",
       "    <tr>\n",
       "      <th>1950-01-23</th>\n",
       "      <td>8.589464</td>\n",
       "      <td>2.679939</td>\n",
       "      <td>0.238069</td>\n",
       "      <td>1.093331</td>\n",
       "      <td>4.716383</td>\n",
       "    </tr>\n",
       "    <tr>\n",
       "      <th>1950-01-24</th>\n",
       "      <td>8.223405</td>\n",
       "      <td>2.683961</td>\n",
       "      <td>0.204174</td>\n",
       "      <td>1.090093</td>\n",
       "      <td>4.782427</td>\n",
       "    </tr>\n",
       "    <tr>\n",
       "      <th>1950-01-25</th>\n",
       "      <td>8.032703</td>\n",
       "      <td>2.739196</td>\n",
       "      <td>0.090066</td>\n",
       "      <td>1.063572</td>\n",
       "      <td>4.778191</td>\n",
       "    </tr>\n",
       "  </tbody>\n",
       "</table>\n",
       "</div>"
      ],
      "text/plain": [
       "test        ACCESS1-0  CNRM-CM5   CanESM2  HadGEM2-ES    MIROC5\n",
       "Date                                                           \n",
       "1950-01-21   8.274737  2.672865  0.953938    1.093786  3.589355\n",
       "1950-01-22   8.531320  2.683357  0.442970    1.098619  4.103075\n",
       "1950-01-23   8.589464  2.679939  0.238069    1.093331  4.716383\n",
       "1950-01-24   8.223405  2.683961  0.204174    1.090093  4.782427\n",
       "1950-01-25   8.032703  2.739196  0.090066    1.063572  4.778191"
      ]
     },
     "execution_count": 23,
     "metadata": {},
     "output_type": "execute_result"
    }
   ],
   "source": [
    "df.head()\n"
   ]
  },
  {
   "cell_type": "code",
   "execution_count": 24,
   "metadata": {},
   "outputs": [],
   "source": [
    "first = df.loc['1950-01-01':'1999-12-31']\n",
    "second = df.loc['2035-01-01':'2064-12-31']\n",
    "third = df.loc['2070-01-01':'2099-12-31']"
   ]
  },
  {
   "cell_type": "code",
   "execution_count": 25,
   "metadata": {},
   "outputs": [],
   "source": [
    "firstGEV = first.quantile(q=0.99, axis=0, numeric_only=True, interpolation='linear')\n",
    "secondGEV = second.quantile(q=0.99, axis=0, numeric_only=True, interpolation='linear')\n",
    "thirdGEV = third.quantile(q=0.99, axis=0, numeric_only=True, interpolation='linear')"
   ]
  },
  {
   "cell_type": "code",
   "execution_count": 26,
   "metadata": {},
   "outputs": [],
   "source": [
    "from scipy.stats import genextreme\n",
    "import numpy as np"
   ]
  },
  {
   "cell_type": "code",
   "execution_count": 27,
   "metadata": {},
   "outputs": [
    {
     "data": {
      "text/plain": [
       "test\n",
       "ACCESS1-0      7.703590\n",
       "CNRM-CM5      10.720005\n",
       "CanESM2       14.204275\n",
       "HadGEM2-ES     9.915424\n",
       "MIROC5         7.772119\n",
       "Name: 0.99, dtype: float64"
      ]
     },
     "execution_count": 27,
     "metadata": {},
     "output_type": "execute_result"
    }
   ],
   "source": [
    "here = third.quantile(q=0.99, axis=0, numeric_only=True, interpolation='linear')\n",
    "here"
   ]
  },
  {
   "cell_type": "code",
   "execution_count": 28,
   "metadata": {},
   "outputs": [],
   "source": [
    "from scipy.stats import genextreme as gev\n",
    "#fit = gev.fit(first.MIROC5)"
   ]
  },
  {
   "cell_type": "code",
   "execution_count": 29,
   "metadata": {},
   "outputs": [],
   "source": [
    "\n",
    "#fit"
   ]
  },
  {
   "cell_type": "code",
   "execution_count": 30,
   "metadata": {},
   "outputs": [],
   "source": [
    "#first.MIROC5.plot.hist()"
   ]
  },
  {
   "cell_type": "code",
   "execution_count": 31,
   "metadata": {},
   "outputs": [
    {
     "data": {
      "image/png": "[encoded data removed]",
      "text/plain": [
       "<matplotlib.figure.Figure at 0x11f98240>"
      ]
     },
     "metadata": {},
     "output_type": "display_data"
    }
   ],
   "source": [
    "plt.xticks( first['MIROC5'], first.index.values ) # location, labels\n",
    "plt.plot( first['MIROC5'] )\n",
    "plt.show()"
   ]
  },
  {
   "cell_type": "code",
   "execution_count": 33,
   "metadata": {},
   "outputs": [],
   "source": [
    "x1 = list(first['ACCESS1-0'])\n",
    "x2 = list(first['CNRM-CM5'])\n",
    "x3 = first.CanESM2\n",
    "x4 = first['HadGEM2-ES']\n",
    "x5 = first.MIROC5\n",
    "x6 = list(second['ACCESS1-0'])\n",
    "x7 = list(second['CNRM-CM5'])\n",
    "x8 = second.CanESM2\n",
    "x9 = second['HadGEM2-ES']\n",
    "x10 = second.MIROC5\n",
    "x11 = list(third['ACCESS1-0'])\n",
    "x12 = list(third['CNRM-CM5'])\n",
    "x13 = third.CanESM2\n",
    "x14 = third['HadGEM2-ES']\n",
    "x15 = third.MIROC5"
   ]
  },
  {
   "cell_type": "code",
   "execution_count": 34,
   "metadata": {},
   "outputs": [],
   "source": [
    "# '#E69F00', 'ACCESS1-0', \n",
    "colors = ['#56B4E9', '#F0E442', '#009E73', '#D55E00']\n",
    "names = ['CNRM-CM5', 'CanESM2',\n",
    "         'HadGEM2-ES', 'MIROC5']"
   ]
  },
  {
   "cell_type": "code",
   "execution_count": 35,
   "metadata": {},
   "outputs": [
    {
     "data": {
      "text/plain": [
       "<matplotlib.figure.Figure at 0x1a98bf28>"
      ]
     },
     "execution_count": 35,
     "metadata": {},
     "output_type": "execute_result"
    },
    {
     "data": {
      "image/png": "[encoded data removed]",
      "text/plain": [
       "<matplotlib.figure.Figure at 0x1a3e89e8>"
      ]
     },
     "metadata": {},
     "output_type": "display_data"
    },
    {
     "data": {
      "text/plain": [
       "<matplotlib.figure.Figure at 0x1a98bf28>"
      ]
     },
     "metadata": {},
     "output_type": "display_data"
    }
   ],
   "source": [
    "# x1,\n",
    "plt.hist([ x2, x3, x4, x5], bins = int(250/15), normed=True,\n",
    "         color = colors, label=names)\n",
    "plt.legend()\n",
    "plt.xlabel('40-day precipitation (mm/day)')\n",
    "plt.ylabel('Probability Density')\n",
    "plt.title('Historical (1950-1999)')\n",
    "plt.figure(figsize=(3,4))\n",
    "#plt.show()"
   ]
  },
  {
   "cell_type": "code",
   "execution_count": 36,
   "metadata": {},
   "outputs": [
    {
     "data": {
      "text/plain": [
       "<matplotlib.figure.Figure at 0x15809da0>"
      ]
     },
     "execution_count": 36,
     "metadata": {},
     "output_type": "execute_result"
    },
    {
     "data": {
      "image/png": "[encoded data removed]",
      "text/plain": [
       "<matplotlib.figure.Figure at 0x15698b38>"
      ]
     },
     "metadata": {},
     "output_type": "display_data"
    },
    {
     "data": {
      "text/plain": [
       "<matplotlib.figure.Figure at 0x15809da0>"
      ]
     },
     "metadata": {},
     "output_type": "display_data"
    }
   ],
   "source": [
    "plt.hist([ x7, x8, x9, x10], bins = int(250/15), normed=True,\n",
    "         color = colors, label=names)\n",
    "plt.legend()\n",
    "plt.xlabel('40-day precipitation (mm/day)')\n",
    "plt.ylabel('Probability Density')\n",
    "plt.title('Mid-century (2035-2064)')\n",
    "plt.figure(figsize=(3,4))\n",
    "#plt.show()"
   ]
  },
  {
   "cell_type": "code",
   "execution_count": 37,
   "metadata": {},
   "outputs": [
    {
     "data": {
      "text/plain": [
       "<matplotlib.figure.Figure at 0x1567f9e8>"
      ]
     },
     "execution_count": 37,
     "metadata": {},
     "output_type": "execute_result"
    },
    {
     "data": {
      "image/png": "[encoded data removed]",
      "text/plain": [
       "<matplotlib.figure.Figure at 0x1540e940>"
      ]
     },
     "metadata": {},
     "output_type": "display_data"
    },
    {
     "data": {
      "text/plain": [
       "<matplotlib.figure.Figure at 0x1567f9e8>"
      ]
     },
     "metadata": {},
     "output_type": "display_data"
    }
   ],
   "source": [
    "plt.hist([ x12, x13, x14, x15], bins = int(250/15), normed=True,\n",
    "         color = colors, label=names)\n",
    "plt.legend()\n",
    "plt.xlabel('40-day precipitation (mm/day)')\n",
    "plt.ylabel('Probability Density')\n",
    "plt.title('End-century (2070-2099)')\n",
    "plt.figure(figsize=(3,4))\n",
    "#plt.show()"
   ]
  },
  {
   "cell_type": "code",
   "execution_count": 38,
   "metadata": {},
   "outputs": [],
   "source": [
    "fit = gev.fit(third)"
   ]
  },
  {
   "cell_type": "code",
   "execution_count": 39,
   "metadata": {},
   "outputs": [
    {
     "data": {
      "text/plain": [
       "(-0.32596870373569864, 1.5975751970189849, 1.3778084450081667)"
      ]
     },
     "execution_count": 39,
     "metadata": {},
     "output_type": "execute_result"
    }
   ],
   "source": [
    "fit"
   ]
  },
  {
   "cell_type": "code",
   "execution_count": null,
   "metadata": {},
   "outputs": [
    {
     "data": {
      "image/png": "[encoded data removed]",
      "text/plain": [
       "<matplotlib.figure.Figure at 0x156c89b0>"
      ]
     },
     "metadata": {},
     "output_type": "display_data"
    }
   ],
   "source": [
    "#plt.subplots_adjust(left=None, bottom=None, right=None, top=None, wspace=None, hspace=None)\n",
    "fig = plt.figure()\n",
    "ax1 = fig.add_subplot(3, 1, 1)\n",
    "ax2 = fig.add_subplot(3, 1, 2)\n",
    "ax3 = fig.add_subplot(3, 1, 3)\n",
    "\n",
    "n, bins, patches = ax1.hist([ x2, x3, x4, x5], bins = int(250/15), normed=True,\n",
    "         color = colors, label=names)\n",
    "\n",
    "n, bins, patches = ax2.hist([ x7, x8, x9, x10], bins = int(250/15), normed=True,\n",
    "         color = colors, label=names)\n",
    "\n",
    "n, bins, patches = ax3.hist([ x12, x13, x14, x15], bins = int(250/15), normed=True,\n",
    "         color = colors, label=names)\n",
    "ax1.set_xlabel('40-day precipitation (mm/day)')\n",
    "ax1.set_ylabel('Probability Density')\n",
    "ax1.set_title('Historical (1950-1999)')\n",
    "\n",
    "\n",
    "ax2.set_xlabel('40-day precipitation (mm/day)')\n",
    "ax2.set_ylabel('Probability Density')\n",
    "ax2.set_title('Mid-century (2035-2064)')\n",
    "\n",
    "ax3.set_xlabel('40-day precipitation (mm/day)')\n",
    "ax3.set_ylabel('Probability Density')\n",
    "ax3.set_title('End-century (2070-2099)')\n",
    "#fig.tight_layout()\n",
    "plt.subplots_adjust(top = 0.99, bottom=0.01, hspace=2.5, wspace=0.4)\n",
    "#f, axs = plt.subplots(3,3,3,figsize=(15,15))\n",
    "#f, axs = plt.subplots(2,2,figsize=(15,15))"
   ]
  },
  {
   "cell_type": "code",
   "execution_count": null,
   "metadata": {},
   "outputs": [],
   "source": []
  }
 ],
 "metadata": {
  "kernelspec": {
   "display_name": "Python 3",
   "language": "python",
   "name": "python3"
  },
  "language_info": {
   "codemirror_mode": {
    "name": "ipython",
    "version": 3
   },
   "file_extension": ".py",
   "mimetype": "text/x-python",
   "name": "python",
   "nbconvert_exporter": "python",
   "pygments_lexer": "ipython3",
   "version": "3.6.4"
  }
 },
 "nbformat": 4,
 "nbformat_minor": 2
}
